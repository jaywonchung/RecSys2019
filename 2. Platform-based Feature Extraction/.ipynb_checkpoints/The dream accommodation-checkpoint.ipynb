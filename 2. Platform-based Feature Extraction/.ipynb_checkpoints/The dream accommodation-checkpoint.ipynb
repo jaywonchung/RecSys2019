{
 "cells": [
  {
   "cell_type": "markdown",
   "metadata": {},
   "source": [
    "# Data Preprocessing"
   ]
  },
  {
   "cell_type": "code",
   "execution_count": 2,
   "metadata": {},
   "outputs": [],
   "source": [
    "import sys\n",
    "\n",
    "import csv\n",
    "import numpy as np\n",
    "from tqdm import tqdm_notebook as tqdm"
   ]
  },
  {
   "cell_type": "code",
   "execution_count": 3,
   "metadata": {},
   "outputs": [
    {
     "data": {
      "application/vnd.jupyter.widget-view+json": {
       "model_id": "e7011ff049504907b72dca6df1ae02b7",
       "version_major": 2,
       "version_minor": 0
      },
      "text/plain": [
       "HBox(children=(IntProgress(value=1, bar_style='info', max=1), HTML(value='')))"
      ]
     },
     "metadata": {},
     "output_type": "display_data"
    },
    {
     "name": "stdout",
     "output_type": "stream",
     "text": [
      "\n"
     ]
    },
    {
     "data": {
      "application/vnd.jupyter.widget-view+json": {
       "model_id": "4d6e954a379c48c99ae3b2e8c78c8316",
       "version_major": 2,
       "version_minor": 0
      },
      "text/plain": [
       "HBox(children=(IntProgress(value=1, bar_style='info', max=1), HTML(value='')))"
      ]
     },
     "metadata": {},
     "output_type": "display_data"
    },
    {
     "name": "stdout",
     "output_type": "stream",
     "text": [
      "\n"
     ]
    },
    {
     "data": {
      "application/vnd.jupyter.widget-view+json": {
       "model_id": "43a9ae29b79d4183a5d952ab10e284e2",
       "version_major": 2,
       "version_minor": 0
      },
      "text/plain": [
       "HBox(children=(IntProgress(value=1, bar_style='info', max=1), HTML(value='')))"
      ]
     },
     "metadata": {},
     "output_type": "display_data"
    },
    {
     "name": "stdout",
     "output_type": "stream",
     "text": [
      "\n"
     ]
    }
   ],
   "source": [
    "item_ids = set()\n",
    "with open('../Dataset/item_metadata.csv', 'r') as f:\n",
    "    reader = csv.reader(f)\n",
    "    next(reader)\n",
    "    \n",
    "    for line in tqdm(reader):\n",
    "        item_ids.add(int(line[0]))\n",
    "        \n",
    "with open('../Dataset/train.csv', 'r') as f:\n",
    "    reader = csv.reader(f)\n",
    "    next(reader)\n",
    "    \n",
    "    for line in tqdm(reader):\n",
    "        if line[4] in ['clickout item', 'interaction item deals', 'interaction item image', 'interaction item info',  'interaction item rating',  'search for item'] and line[5].isdigit():\n",
    "            item_ids.add(int(line[5]))\n",
    "        if line[10] != '':\n",
    "            item_ids.update(set(list(map(int, line[10].split('|')))))\n",
    "            \n",
    "with open('../Dataset/test.csv', 'r') as f:\n",
    "    reader = csv.reader(f)\n",
    "    next(reader)\n",
    "    \n",
    "    for line in tqdm(reader):\n",
    "        if line[4] in ['clickout item', 'interaction item deals', 'interaction item image', 'interaction item info',  'interaction item rating',  'search for item']  and line[5].isdigit():\n",
    "            item_ids.add(int(line[5]))\n",
    "        if line[10] != '':\n",
    "            item_ids.update(set(list(map(int, line[10].split('|')))))"
   ]
  },
  {
   "cell_type": "code",
   "execution_count": 4,
   "metadata": {},
   "outputs": [
    {
     "data": {
      "application/vnd.jupyter.widget-view+json": {
       "model_id": "db4d99817a1d493abbc757e6e868a43c",
       "version_major": 2,
       "version_minor": 0
      },
      "text/plain": [
       "HBox(children=(IntProgress(value=1, bar_style='info', max=1), HTML(value='')))"
      ]
     },
     "metadata": {},
     "output_type": "display_data"
    },
    {
     "name": "stdout",
     "output_type": "stream",
     "text": [
      "\n"
     ]
    }
   ],
   "source": [
    "property_to_index = {}\n",
    "with open('../Dataset/item_metadata.csv', 'r') as f:\n",
    "    reader = csv.reader(f)\n",
    "    next(reader)\n",
    "    \n",
    "    index = 0\n",
    "    for line in tqdm(reader):\n",
    "        for prop in line[1].split('|'):\n",
    "            if prop not in property_to_index:\n",
    "                property_to_index[prop] = index\n",
    "                index += 1"
   ]
  },
  {
   "cell_type": "code",
   "execution_count": 5,
   "metadata": {},
   "outputs": [
    {
     "data": {
      "application/vnd.jupyter.widget-view+json": {
       "model_id": "e3b3ac7d5e384ca2b5ab183a7e740d70",
       "version_major": 2,
       "version_minor": 0
      },
      "text/plain": [
       "HBox(children=(IntProgress(value=1, bar_style='info', max=1), HTML(value='')))"
      ]
     },
     "metadata": {},
     "output_type": "display_data"
    },
    {
     "name": "stdout",
     "output_type": "stream",
     "text": [
      "\n"
     ]
    }
   ],
   "source": [
    "item_to_property = {}\n",
    "\n",
    "for item in item_ids:\n",
    "    item_to_property[item] = np.zeros(157)\n",
    "\n",
    "with open('../Dataset/item_metadata.csv', 'r') as f:\n",
    "    reader = csv.reader(f)\n",
    "    next(reader)\n",
    "    \n",
    "    for line in tqdm(reader):\n",
    "        for prop in line[1].split('|'):\n",
    "            item_to_property[int(line[0])][property_to_index[prop]] = 1"
   ]
  },
  {
   "cell_type": "code",
   "execution_count": 6,
   "metadata": {},
   "outputs": [],
   "source": [
    "user = set()\n",
    "action_type = set()\n",
    "platform = set()\n",
    "city = set()\n",
    "device = set()\n",
    "current_filters = set()"
   ]
  },
  {
   "cell_type": "code",
   "execution_count": 7,
   "metadata": {},
   "outputs": [
    {
     "data": {
      "application/vnd.jupyter.widget-view+json": {
       "model_id": "40a488fc8b0d469b8724ec27ad9381fd",
       "version_major": 2,
       "version_minor": 0
      },
      "text/plain": [
       "HBox(children=(IntProgress(value=1, bar_style='info', max=1), HTML(value='')))"
      ]
     },
     "metadata": {},
     "output_type": "display_data"
    },
    {
     "name": "stdout",
     "output_type": "stream",
     "text": [
      "\n"
     ]
    },
    {
     "data": {
      "application/vnd.jupyter.widget-view+json": {
       "model_id": "90fa95a543134d849d462c94f40c628d",
       "version_major": 2,
       "version_minor": 0
      },
      "text/plain": [
       "HBox(children=(IntProgress(value=1, bar_style='info', max=1), HTML(value='')))"
      ]
     },
     "metadata": {},
     "output_type": "display_data"
    },
    {
     "name": "stdout",
     "output_type": "stream",
     "text": [
      "\n"
     ]
    }
   ],
   "source": [
    "with open('../Dataset/train.csv') as f:\n",
    "    reader = csv.reader(f)\n",
    "    next(reader)\n",
    "    \n",
    "    for line in tqdm(reader):\n",
    "        user.add(line[0])\n",
    "        action_type.add(line[4])\n",
    "        platform.add(line[6])\n",
    "        city.add(line[7])\n",
    "        device.add(line[8])\n",
    "        if line[9]:\n",
    "            for filter in line[9].split('|'):\n",
    "                current_filters.add(filter)\n",
    "            \n",
    "with open('../Dataset/test.csv') as f:\n",
    "    reader = csv.reader(f)\n",
    "    next(reader)\n",
    "    \n",
    "    for line in tqdm(reader):\n",
    "        user.add(line[0])\n",
    "        action_type.add(line[4])\n",
    "        platform.add(line[6])\n",
    "        city.add(line[7])\n",
    "        device.add(line[8])\n",
    "        if line[9]:\n",
    "            for filter in line[9].split('|'):\n",
    "                current_filters.add(filter)"
   ]
  },
  {
   "cell_type": "code",
   "execution_count": 8,
   "metadata": {},
   "outputs": [],
   "source": [
    "user = sorted(list(user))\n",
    "action_type = sorted(list(action_type))\n",
    "platform = sorted(list(platform))\n",
    "city = sorted(list(city))\n",
    "device = sorted(list(device))\n",
    "current_filters = sorted(list(current_filters))"
   ]
  },
  {
   "cell_type": "code",
   "execution_count": 9,
   "metadata": {},
   "outputs": [],
   "source": [
    "user_to_ind = {user[i]:i for i in range(len(user))}\n",
    "action_to_ind = {action_type[i]:i for i in range(len(action_type))}\n",
    "platform_to_ind = {platform[i]:i for i in range(len(platform))}\n",
    "city_to_ind = {city[i]:i for i in range(len(city))}\n",
    "device_to_ind = {device[i]:i for i in range(len(device))}\n",
    "current_filters_to_ind = {current_filters[i]:i for i in range(len(current_filters))}"
   ]
  },
  {
   "cell_type": "code",
   "execution_count": 10,
   "metadata": {},
   "outputs": [
    {
     "data": {
      "application/vnd.jupyter.widget-view+json": {
       "model_id": "d003ea1382944b51992092cb9c90e09d",
       "version_major": 2,
       "version_minor": 0
      },
      "text/plain": [
       "HBox(children=(IntProgress(value=1, bar_style='info', max=1), HTML(value='')))"
      ]
     },
     "metadata": {},
     "output_type": "display_data"
    },
    {
     "name": "stdout",
     "output_type": "stream",
     "text": [
      "\n"
     ]
    },
    {
     "data": {
      "application/vnd.jupyter.widget-view+json": {
       "model_id": "b32febd202e44c018d59c1da3579dd04",
       "version_major": 2,
       "version_minor": 0
      },
      "text/plain": [
       "HBox(children=(IntProgress(value=1, bar_style='info', max=1), HTML(value='')))"
      ]
     },
     "metadata": {},
     "output_type": "display_data"
    },
    {
     "name": "stdout",
     "output_type": "stream",
     "text": [
      "\n"
     ]
    }
   ],
   "source": [
    "reference = [set() for _ in range(10)]\n",
    "with open('../Dataset/train.csv') as f:\n",
    "    reader = csv.reader(f)\n",
    "    next(reader)\n",
    "    \n",
    "    for line in tqdm(reader):\n",
    "        reference[action_to_ind[line[4]]].add(line[5])\n",
    "\n",
    "with open('../Dataset/test.csv') as f:\n",
    "    reader = csv.reader(f)\n",
    "    next(reader)\n",
    "    \n",
    "    for line in tqdm(reader):\n",
    "        reference[action_to_ind[line[4]]].add(line[5])"
   ]
  },
  {
   "cell_type": "code",
   "execution_count": 11,
   "metadata": {},
   "outputs": [],
   "source": [
    "# reference_to_ind[i]: dictionary object that maps reference string of action_type[i] to integer index\n",
    "\n",
    "reference_to_ind = [{} for _ in range(10)]\n",
    "for i in range(10):\n",
    "    reference_i = list(reference[i])\n",
    "    \n",
    "    if i in [1, 3, 4, 5, 6, 8]:    # for items, non-item-index references are mapped to zero. item-indexes are mapped to itself.\n",
    "        for j in range(len(reference_i)):\n",
    "            if reference_i[j] in ['', 'Estació de Sants', 'Shinjuku Station', 'Lower Manhattan', 'Miyako Airport', 'unknown']:\n",
    "                reference_to_ind[i][reference_i[j]] = 0\n",
    "            else:\n",
    "                reference_to_ind[i][reference_i[j]] = int(reference_i[j])\n",
    "    else:   # for non-items, reference values are indexed from 0 to number_of_references-1\n",
    "        reference_to_ind[i].update({reference_i[j]:j for j in range(len(reference_i))})"
   ]
  },
  {
   "cell_type": "markdown",
   "metadata": {},
   "source": [
    "# Clustering\n",
    "\n",
    "For each platform, find out which properties are the most popular."
   ]
  },
  {
   "cell_type": "code",
   "execution_count": 13,
   "metadata": {},
   "outputs": [
    {
     "data": {
      "application/vnd.jupyter.widget-view+json": {
       "model_id": "bc48cdd8890f4c68b2e2e5343debccea",
       "version_major": 2,
       "version_minor": 0
      },
      "text/plain": [
       "HBox(children=(IntProgress(value=1, bar_style='info', max=1), HTML(value='')))"
      ]
     },
     "metadata": {},
     "output_type": "display_data"
    },
    {
     "name": "stdout",
     "output_type": "stream",
     "text": [
      "\n"
     ]
    }
   ],
   "source": [
    "platform_clickouts = [[] for _ in range(55)]\n",
    "with open('../Dataset/train.csv', 'r') as f:\n",
    "    reader = csv.reader(f)\n",
    "    next(reader)\n",
    "    \n",
    "    for line in tqdm(reader):\n",
    "        if line[4]=='clickout item':\n",
    "            if line[5].isdigit():\n",
    "                platform_clickouts[platform_to_ind[line[6]]].append(item_to_property[int(line[5])])"
   ]
  },
  {
   "cell_type": "code",
   "execution_count": 53,
   "metadata": {},
   "outputs": [
    {
     "data": {
      "text/plain": [
       "{'AA': 0,\n",
       " 'AE': 1,\n",
       " 'AR': 2,\n",
       " 'AT': 3,\n",
       " 'AU': 4,\n",
       " 'BE': 5,\n",
       " 'BG': 6,\n",
       " 'BR': 7,\n",
       " 'CA': 8,\n",
       " 'CH': 9,\n",
       " 'CL': 10,\n",
       " 'CN': 11,\n",
       " 'CO': 12,\n",
       " 'CZ': 13,\n",
       " 'DE': 14,\n",
       " 'DK': 15,\n",
       " 'EC': 16,\n",
       " 'ES': 17,\n",
       " 'FI': 18,\n",
       " 'FR': 19,\n",
       " 'GR': 20,\n",
       " 'HK': 21,\n",
       " 'HR': 22,\n",
       " 'HU': 23,\n",
       " 'ID': 24,\n",
       " 'IE': 25,\n",
       " 'IL': 26,\n",
       " 'IN': 27,\n",
       " 'IT': 28,\n",
       " 'JP': 29,\n",
       " 'KR': 30,\n",
       " 'MX': 31,\n",
       " 'MY': 32,\n",
       " 'NL': 33,\n",
       " 'NO': 34,\n",
       " 'NZ': 35,\n",
       " 'PE': 36,\n",
       " 'PH': 37,\n",
       " 'PL': 38,\n",
       " 'PT': 39,\n",
       " 'RO': 40,\n",
       " 'RS': 41,\n",
       " 'RU': 42,\n",
       " 'SE': 43,\n",
       " 'SG': 44,\n",
       " 'SI': 45,\n",
       " 'SK': 46,\n",
       " 'TH': 47,\n",
       " 'TR': 48,\n",
       " 'TW': 49,\n",
       " 'UK': 50,\n",
       " 'US': 51,\n",
       " 'UY': 52,\n",
       " 'VN': 53,\n",
       " 'ZA': 54}"
      ]
     },
     "execution_count": 53,
     "metadata": {},
     "output_type": "execute_result"
    }
   ],
   "source": [
    "platform_to_ind"
   ]
  },
  {
   "cell_type": "code",
   "execution_count": 24,
   "metadata": {},
   "outputs": [
    {
     "data": {
      "text/plain": [
       "7783"
      ]
     },
     "execution_count": 24,
     "metadata": {},
     "output_type": "execute_result"
    }
   ],
   "source": [
    "len(platform_clickouts[platform_to_ind['KR']])"
   ]
  },
  {
   "cell_type": "code",
   "execution_count": 25,
   "metadata": {},
   "outputs": [],
   "source": [
    "platform_clickout_property = [[sum(platform[i][j] for i in range(len(platform))) for j in range(157)] for platform in platform_clickouts]"
   ]
  },
  {
   "cell_type": "code",
   "execution_count": 30,
   "metadata": {},
   "outputs": [
    {
     "data": {
      "text/plain": [
       "{'Satellite TV': 0,\n",
       " 'Golf Course': 1,\n",
       " 'Airport Shuttle': 2,\n",
       " 'Cosmetic Mirror': 3,\n",
       " 'Safe (Hotel)': 4,\n",
       " 'Telephone': 5,\n",
       " 'Hotel': 6,\n",
       " 'Sitting Area (Rooms)': 7,\n",
       " 'Reception (24/7)': 8,\n",
       " 'Air Conditioning': 9,\n",
       " 'Hypoallergenic Rooms': 10,\n",
       " 'Cable TV': 11,\n",
       " 'Hotel Bar': 12,\n",
       " 'Pool Table': 13,\n",
       " 'Bathtub': 14,\n",
       " 'Satisfactory Rating': 15,\n",
       " 'Room Service': 16,\n",
       " 'Luxury Hotel': 17,\n",
       " 'Terrace (Hotel)': 18,\n",
       " 'Television': 19,\n",
       " 'Minigolf': 20,\n",
       " 'Business Hotel': 21,\n",
       " 'Shower': 22,\n",
       " 'Cot': 23,\n",
       " 'Gym': 24,\n",
       " 'Hairdryer': 25,\n",
       " 'Hypoallergenic Bedding': 26,\n",
       " 'Accessible Parking': 27,\n",
       " 'From 3 Stars': 28,\n",
       " 'Good Rating': 29,\n",
       " 'Radio': 30,\n",
       " '4 Star': 31,\n",
       " 'From 4 Stars': 32,\n",
       " 'Family Friendly': 33,\n",
       " 'Desk': 34,\n",
       " 'Tennis Court (Indoor)': 35,\n",
       " 'Balcony': 36,\n",
       " 'WiFi (Public Areas)': 37,\n",
       " 'Openable Windows': 38,\n",
       " 'Express Check-In / Check-Out': 39,\n",
       " 'Restaurant': 40,\n",
       " 'Laundry Service': 41,\n",
       " 'Ironing Board': 42,\n",
       " 'Tennis Court': 43,\n",
       " 'From 2 Stars': 44,\n",
       " 'Business Centre': 45,\n",
       " 'Bowling': 46,\n",
       " 'Conference Rooms': 47,\n",
       " 'Electric Kettle': 48,\n",
       " 'Accessible Hotel': 49,\n",
       " 'Porter': 50,\n",
       " 'Bike Rental': 51,\n",
       " 'Non-Smoking Rooms': 52,\n",
       " 'Car Park': 53,\n",
       " 'Safe (Rooms)': 54,\n",
       " 'Fitness': 55,\n",
       " 'Fan': 56,\n",
       " 'Flatscreen TV': 57,\n",
       " 'Computer with Internet': 58,\n",
       " 'WiFi (Rooms)': 59,\n",
       " 'Lift': 60,\n",
       " 'Central Heating': 61,\n",
       " 'Wheelchair Accessible': 62,\n",
       " 'Very Good Rating': 63,\n",
       " 'Spa (Wellness Facility)': 64,\n",
       " 'Free WiFi (Combined)': 65,\n",
       " 'Sauna': 66,\n",
       " 'Free WiFi (Rooms)': 67,\n",
       " 'Excellent Rating': 68,\n",
       " 'Pet Friendly': 69,\n",
       " 'Free WiFi (Public Areas)': 70,\n",
       " 'Hiking Trail': 71,\n",
       " 'Beach': 72,\n",
       " 'Boat Rental': 73,\n",
       " 'Gay-friendly': 74,\n",
       " '3 Star': 75,\n",
       " 'Singles': 76,\n",
       " 'Sailing': 77,\n",
       " 'Solarium': 78,\n",
       " 'Concierge': 79,\n",
       " 'Diving': 80,\n",
       " 'Massage': 81,\n",
       " 'Towels': 82,\n",
       " 'Steam Room': 83,\n",
       " 'Spa Hotel': 84,\n",
       " 'Swimming Pool (Outdoor)': 85,\n",
       " 'Beauty Salon': 86,\n",
       " 'Convention Hotel': 87,\n",
       " 'Table Tennis': 88,\n",
       " 'Surfing': 89,\n",
       " 'Hot Stone Massage': 90,\n",
       " 'Romantic': 91,\n",
       " 'Hammam': 92,\n",
       " 'Playground': 93,\n",
       " 'Swimming Pool (Indoor)': 94,\n",
       " 'Jacuzzi (Hotel)': 95,\n",
       " 'Honeymoon': 96,\n",
       " 'Body Treatments': 97,\n",
       " 'Volleyball': 98,\n",
       " 'Swimming Pool (Combined Filter)': 99,\n",
       " 'Horse Riding': 100,\n",
       " 'Convenience Store': 101,\n",
       " 'Deck Chairs': 102,\n",
       " 'Self Catering': 103,\n",
       " 'Fridge': 104,\n",
       " 'Design Hotel': 105,\n",
       " 'Childcare': 106,\n",
       " 'Resort': 107,\n",
       " 'Room Service (24/7)': 108,\n",
       " \"Kids' Club\": 109,\n",
       " 'All Inclusive (Upon Inquiry)': 110,\n",
       " 'On-Site Boutique Shopping': 111,\n",
       " 'Shooting Sports': 112,\n",
       " 'Swimming Pool (Bar)': 113,\n",
       " 'Sun Umbrellas': 114,\n",
       " 'Club Hotel': 115,\n",
       " 'Direct beach access': 116,\n",
       " 'Nightclub': 117,\n",
       " 'Organised Activities': 118,\n",
       " 'Large Groups': 119,\n",
       " 'Hairdresser': 120,\n",
       " 'Teleprinter': 121,\n",
       " 'Microwave': 122,\n",
       " 'Washing Machine': 123,\n",
       " 'Health Retreat': 124,\n",
       " 'Bungalows': 125,\n",
       " 'Doctor On-Site': 126,\n",
       " 'Ski Resort': 127,\n",
       " 'Senior Travellers': 128,\n",
       " '2 Star': 129,\n",
       " '5 Star': 130,\n",
       " 'Halal Food': 131,\n",
       " 'Skiing': 132,\n",
       " 'Country Hotel': 133,\n",
       " 'Theme Hotel': 134,\n",
       " 'Beach Bar': 135,\n",
       " 'Eco-Friendly hotel': 136,\n",
       " '1 Star': 137,\n",
       " 'Bed & Breakfast': 138,\n",
       " 'Hydrotherapy': 139,\n",
       " 'Boutique Hotel': 140,\n",
       " 'Serviced Apartment': 141,\n",
       " 'Kosher Food': 142,\n",
       " 'Airport Hotel': 143,\n",
       " 'Casino (Hotel)': 144,\n",
       " 'Adults Only': 145,\n",
       " 'Motel': 146,\n",
       " 'Hostel': 147,\n",
       " 'Guest House': 148,\n",
       " 'House / Apartment': 149,\n",
       " 'Water Slide': 150,\n",
       " 'Casa Rural (ES)': 151,\n",
       " 'Szep Kartya': 152,\n",
       " 'Camping Site': 153,\n",
       " 'Pousada (BR)': 154,\n",
       " 'Farmstay': 155,\n",
       " 'Hostal (ES)': 156}"
      ]
     },
     "execution_count": 30,
     "metadata": {},
     "output_type": "execute_result"
    }
   ],
   "source": [
    "property_to_index"
   ]
  },
  {
   "cell_type": "code",
   "execution_count": 28,
   "metadata": {},
   "outputs": [
    {
     "data": {
      "text/plain": [
       "[2700.0,\n",
       " 554.0,\n",
       " 1284.0,\n",
       " 1970.0,\n",
       " 3150.0,\n",
       " 4347.0,\n",
       " 5744.0,\n",
       " 1769.0,\n",
       " 4862.0,\n",
       " 5170.0,\n",
       " 141.0,\n",
       " 3807.0,\n",
       " 3170.0,\n",
       " 653.0,\n",
       " 3626.0,\n",
       " 6919.0,\n",
       " 2951.0,\n",
       " 5559.0,\n",
       " 1914.0,\n",
       " 4975.0,\n",
       " 235.0,\n",
       " 4926.0,\n",
       " 5269.0,\n",
       " 2274.0,\n",
       " 2537.0,\n",
       " 4976.0,\n",
       " 201.0,\n",
       " 1040.0,\n",
       " 4308.0,\n",
       " 6295.0,\n",
       " 1479.0,\n",
       " 1757.0,\n",
       " 2821.0,\n",
       " 4134.0,\n",
       " 4438.0,\n",
       " 163.0,\n",
       " 608.0,\n",
       " 5489.0,\n",
       " 2882.0,\n",
       " 1887.0,\n",
       " 4508.0,\n",
       " 3861.0,\n",
       " 2745.0,\n",
       " 744.0,\n",
       " 4645.0,\n",
       " 3245.0,\n",
       " 234.0,\n",
       " 3343.0,\n",
       " 4152.0,\n",
       " 997.0,\n",
       " 1800.0,\n",
       " 907.0,\n",
       " 4480.0,\n",
       " 5129.0,\n",
       " 2903.0,\n",
       " 1050.0,\n",
       " 505.0,\n",
       " 1305.0,\n",
       " 4257.0,\n",
       " 5234.0,\n",
       " 4601.0,\n",
       " 2889.0,\n",
       " 2457.0,\n",
       " 4819.0,\n",
       " 1573.0,\n",
       " 4792.0,\n",
       " 1949.0,\n",
       " 4255.0,\n",
       " 1831.0,\n",
       " 2086.0,\n",
       " 4235.0,\n",
       " 956.0,\n",
       " 2927.0,\n",
       " 510.0,\n",
       " 828.0,\n",
       " 2389.0,\n",
       " 2162.0,\n",
       " 404.0,\n",
       " 130.0,\n",
       " 3243.0,\n",
       " 294.0,\n",
       " 2735.0,\n",
       " 1000.0,\n",
       " 1005.0,\n",
       " 910.0,\n",
       " 2005.0,\n",
       " 1251.0,\n",
       " 1215.0,\n",
       " 257.0,\n",
       " 243.0,\n",
       " 225.0,\n",
       " 2262.0,\n",
       " 87.0,\n",
       " 853.0,\n",
       " 927.0,\n",
       " 1263.0,\n",
       " 2159.0,\n",
       " 890.0,\n",
       " 256.0,\n",
       " 2182.0,\n",
       " 121.0,\n",
       " 1458.0,\n",
       " 1598.0,\n",
       " 1117.0,\n",
       " 3769.0,\n",
       " 291.0,\n",
       " 1241.0,\n",
       " 723.0,\n",
       " 1295.0,\n",
       " 454.0,\n",
       " 71.0,\n",
       " 1397.0,\n",
       " 24.0,\n",
       " 866.0,\n",
       " 1053.0,\n",
       " 53.0,\n",
       " 642.0,\n",
       " 406.0,\n",
       " 434.0,\n",
       " 2192.0,\n",
       " 986.0,\n",
       " 197.0,\n",
       " 705.0,\n",
       " 1996.0,\n",
       " 494.0,\n",
       " 64.0,\n",
       " 273.0,\n",
       " 159.0,\n",
       " 48.0,\n",
       " 670.0,\n",
       " 952.0,\n",
       " 102.0,\n",
       " 52.0,\n",
       " 104.0,\n",
       " 624.0,\n",
       " 220.0,\n",
       " 278.0,\n",
       " 57.0,\n",
       " 87.0,\n",
       " 161.0,\n",
       " 166.0,\n",
       " 260.0,\n",
       " 14.0,\n",
       " 163.0,\n",
       " 307.0,\n",
       " 66.0,\n",
       " 8.0,\n",
       " 174.0,\n",
       " 245.0,\n",
       " 478.0,\n",
       " 4.0,\n",
       " 1.0,\n",
       " 4.0,\n",
       " 2.0,\n",
       " 0.0,\n",
       " 4.0,\n",
       " 7.0]"
      ]
     },
     "execution_count": 28,
     "metadata": {},
     "output_type": "execute_result"
    }
   ],
   "source": [
    "platform_clickout_property[platform_to_ind['KR']]"
   ]
  },
  {
   "cell_type": "code",
   "execution_count": 33,
   "metadata": {},
   "outputs": [],
   "source": [
    "platform_top_properties = [sorted(property_to_index, reverse=True, key=lambda prop: platform[property_to_index[prop]]) for platform in platform_clickout_property]"
   ]
  },
  {
   "cell_type": "code",
   "execution_count": 78,
   "metadata": {},
   "outputs": [
    {
     "data": {
      "text/plain": [
       "['Satisfactory Rating',\n",
       " 'Good Rating',\n",
       " 'Hotel',\n",
       " 'Luxury Hotel',\n",
       " 'WiFi (Public Areas)',\n",
       " 'Shower',\n",
       " 'WiFi (Rooms)',\n",
       " 'Air Conditioning',\n",
       " 'Car Park',\n",
       " 'Hairdryer',\n",
       " 'Television',\n",
       " 'Business Hotel',\n",
       " 'Reception (24/7)',\n",
       " 'Very Good Rating',\n",
       " 'Free WiFi (Combined)',\n",
       " 'From 2 Stars',\n",
       " 'Lift',\n",
       " 'Restaurant',\n",
       " 'Non-Smoking Rooms',\n",
       " 'Desk',\n",
       " 'Telephone',\n",
       " 'From 3 Stars',\n",
       " 'Computer with Internet',\n",
       " 'Free WiFi (Rooms)',\n",
       " 'Free WiFi (Public Areas)',\n",
       " 'Electric Kettle',\n",
       " 'Family Friendly',\n",
       " 'Laundry Service',\n",
       " 'Cable TV',\n",
       " 'Fridge',\n",
       " 'Bathtub',\n",
       " 'Conference Rooms',\n",
       " 'Business Centre',\n",
       " 'Concierge',\n",
       " 'Hotel Bar',\n",
       " 'Safe (Hotel)',\n",
       " 'Room Service',\n",
       " 'Beach',\n",
       " 'Safe (Rooms)',\n",
       " 'Central Heating',\n",
       " 'Openable Windows',\n",
       " 'From 4 Stars',\n",
       " 'Ironing Board',\n",
       " 'Massage',\n",
       " 'Satellite TV',\n",
       " 'Gym',\n",
       " 'Wheelchair Accessible',\n",
       " '3 Star',\n",
       " 'Cot',\n",
       " 'Romantic',\n",
       " 'Large Groups',\n",
       " 'Swimming Pool (Combined Filter)',\n",
       " 'Singles',\n",
       " 'Honeymoon',\n",
       " 'Pet Friendly',\n",
       " 'Swimming Pool (Outdoor)',\n",
       " 'Washing Machine',\n",
       " 'Cosmetic Mirror',\n",
       " 'Sauna',\n",
       " 'Terrace (Hotel)',\n",
       " 'Express Check-In / Check-Out',\n",
       " 'Excellent Rating',\n",
       " 'Porter',\n",
       " 'Sitting Area (Rooms)',\n",
       " '4 Star',\n",
       " 'Deck Chairs',\n",
       " 'Spa (Wellness Facility)',\n",
       " 'Radio',\n",
       " 'Convenience Store',\n",
       " 'On-Site Boutique Shopping',\n",
       " 'Flatscreen TV',\n",
       " 'Room Service (24/7)',\n",
       " 'Airport Shuttle',\n",
       " 'Jacuzzi (Hotel)',\n",
       " 'Beauty Salon',\n",
       " 'Childcare',\n",
       " 'Convention Hotel',\n",
       " 'Self Catering',\n",
       " 'Sun Umbrellas',\n",
       " 'Fitness',\n",
       " 'Accessible Parking',\n",
       " 'Steam Room',\n",
       " 'Towels',\n",
       " 'Accessible Hotel',\n",
       " 'Hairdresser',\n",
       " 'Hiking Trail',\n",
       " '5 Star',\n",
       " 'Swimming Pool (Indoor)',\n",
       " 'Spa Hotel',\n",
       " 'Bike Rental',\n",
       " 'Body Treatments',\n",
       " 'Swimming Pool (Bar)',\n",
       " 'Playground',\n",
       " 'Gay-friendly',\n",
       " 'Tennis Court',\n",
       " 'Resort',\n",
       " 'Microwave',\n",
       " '2 Star',\n",
       " 'Pool Table',\n",
       " 'Direct beach access',\n",
       " 'Theme Hotel',\n",
       " 'Balcony',\n",
       " 'Golf Course',\n",
       " 'Boat Rental',\n",
       " 'Fan',\n",
       " 'Health Retreat',\n",
       " 'House / Apartment',\n",
       " \"Kids' Club\",\n",
       " 'Organised Activities',\n",
       " 'Nightclub',\n",
       " 'Sailing',\n",
       " 'Casino (Hotel)',\n",
       " 'Diving',\n",
       " 'Design Hotel',\n",
       " 'Eco-Friendly hotel',\n",
       " 'Doctor On-Site',\n",
       " 'Serviced Apartment',\n",
       " 'Table Tennis',\n",
       " 'Volleyball',\n",
       " 'Guest House',\n",
       " 'Surfing',\n",
       " 'Minigolf',\n",
       " 'Bowling',\n",
       " 'Hot Stone Massage',\n",
       " 'Beach Bar',\n",
       " 'Hypoallergenic Bedding',\n",
       " 'Teleprinter',\n",
       " 'Hostel',\n",
       " 'Boutique Hotel',\n",
       " 'Tennis Court (Indoor)',\n",
       " 'Airport Hotel',\n",
       " 'Hydrotherapy',\n",
       " 'Ski Resort',\n",
       " 'Hypoallergenic Rooms',\n",
       " 'Solarium',\n",
       " 'Horse Riding',\n",
       " 'Country Hotel',\n",
       " 'Halal Food',\n",
       " 'Hammam',\n",
       " 'Bed & Breakfast',\n",
       " 'All Inclusive (Upon Inquiry)',\n",
       " 'Adults Only',\n",
       " 'Bungalows',\n",
       " '1 Star',\n",
       " 'Club Hotel',\n",
       " 'Skiing',\n",
       " 'Senior Travellers',\n",
       " 'Shooting Sports',\n",
       " 'Kosher Food',\n",
       " 'Motel',\n",
       " 'Hostal (ES)',\n",
       " 'Water Slide',\n",
       " 'Szep Kartya',\n",
       " 'Farmstay',\n",
       " 'Camping Site',\n",
       " 'Casa Rural (ES)',\n",
       " 'Pousada (BR)']"
      ]
     },
     "execution_count": 78,
     "metadata": {},
     "output_type": "execute_result"
    }
   ],
   "source": [
    "platform_top_properties[platform_to_ind['KR']]"
   ]
  },
  {
   "cell_type": "code",
   "execution_count": 73,
   "metadata": {},
   "outputs": [
    {
     "data": {
      "text/plain": [
       "[696935.0,\n",
       " 221509.0,\n",
       " 277203.0,\n",
       " 352432.0,\n",
       " 726032.0,\n",
       " 1002671.0,\n",
       " 1129595.0,\n",
       " 503841.0,\n",
       " 1064493.0,\n",
       " 1049743.0,\n",
       " 99668.0,\n",
       " 736135.0,\n",
       " 826335.0,\n",
       " 288534.0,\n",
       " 688588.0,\n",
       " 1351484.0,\n",
       " 751957.0,\n",
       " 1100796.0,\n",
       " 664640.0,\n",
       " 1198885.0,\n",
       " 91681.0,\n",
       " 1097348.0,\n",
       " 1238154.0,\n",
       " 726850.0,\n",
       " 552499.0,\n",
       " 1021798.0,\n",
       " 78960.0,\n",
       " 329413.0,\n",
       " 962151.0,\n",
       " 1177496.0,\n",
       " 464350.0,\n",
       " 359335.0,\n",
       " 552744.0,\n",
       " 971063.0,\n",
       " 1013691.0,\n",
       " 102449.0,\n",
       " 198238.0,\n",
       " 1233120.0,\n",
       " 992370.0,\n",
       " 440723.0,\n",
       " 922610.0,\n",
       " 890277.0,\n",
       " 607806.0,\n",
       " 325925.0,\n",
       " 1073652.0,\n",
       " 574789.0,\n",
       " 125063.0,\n",
       " 785404.0,\n",
       " 682776.0,\n",
       " 332136.0,\n",
       " 382845.0,\n",
       " 344802.0,\n",
       " 1074169.0,\n",
       " 1186648.0,\n",
       " 685439.0,\n",
       " 336943.0,\n",
       " 207608.0,\n",
       " 384955.0,\n",
       " 846440.0,\n",
       " 1185959.0,\n",
       " 887852.0,\n",
       " 893426.0,\n",
       " 684154.0,\n",
       " 834452.0,\n",
       " 324155.0,\n",
       " 1026853.0,\n",
       " 384399.0,\n",
       " 950399.0,\n",
       " 342717.0,\n",
       " 554363.0,\n",
       " 927698.0,\n",
       " 351093.0,\n",
       " 531727.0,\n",
       " 193040.0,\n",
       " 229683.0,\n",
       " 468382.0,\n",
       " 386272.0,\n",
       " 154984.0,\n",
       " 74553.0,\n",
       " 561783.0,\n",
       " 136493.0,\n",
       " 450225.0,\n",
       " 246684.0,\n",
       " 189270.0,\n",
       " 174989.0,\n",
       " 503509.0,\n",
       " 231507.0,\n",
       " 252766.0,\n",
       " 150778.0,\n",
       " 139747.0,\n",
       " 64456.0,\n",
       " 514061.0,\n",
       " 70046.0,\n",
       " 200746.0,\n",
       " 209063.0,\n",
       " 331123.0,\n",
       " 291198.0,\n",
       " 167786.0,\n",
       " 150807.0,\n",
       " 595949.0,\n",
       " 121088.0,\n",
       " 263113.0,\n",
       " 476798.0,\n",
       " 276929.0,\n",
       " 519922.0,\n",
       " 85740.0,\n",
       " 258999.0,\n",
       " 98610.0,\n",
       " 262764.0,\n",
       " 88952.0,\n",
       " 48692.0,\n",
       " 216688.0,\n",
       " 31902.0,\n",
       " 213952.0,\n",
       " 326607.0,\n",
       " 32790.0,\n",
       " 133391.0,\n",
       " 96814.0,\n",
       " 125983.0,\n",
       " 488188.0,\n",
       " 174936.0,\n",
       " 91059.0,\n",
       " 224481.0,\n",
       " 355532.0,\n",
       " 61834.0,\n",
       " 39721.0,\n",
       " 67955.0,\n",
       " 66934.0,\n",
       " 32199.0,\n",
       " 139122.0,\n",
       " 115937.0,\n",
       " 87229.0,\n",
       " 39954.0,\n",
       " 85062.0,\n",
       " 53759.0,\n",
       " 57040.0,\n",
       " 78365.0,\n",
       " 15755.0,\n",
       " 37524.0,\n",
       " 39826.0,\n",
       " 66629.0,\n",
       " 69419.0,\n",
       " 7387.0,\n",
       " 46726.0,\n",
       " 35801.0,\n",
       " 31645.0,\n",
       " 11565.0,\n",
       " 25340.0,\n",
       " 27354.0,\n",
       " 123934.0,\n",
       " 6272.0,\n",
       " 1281.0,\n",
       " 2819.0,\n",
       " 2759.0,\n",
       " 40222.0,\n",
       " 6444.0,\n",
       " 5452.0]"
      ]
     },
     "execution_count": 73,
     "metadata": {},
     "output_type": "execute_result"
    }
   ],
   "source": [
    "overall_clickout_property = [sum(platform[i] for platform in platform_clickout_property) for i in range(157)]"
   ]
  },
  {
   "cell_type": "code",
   "execution_count": 77,
   "metadata": {},
   "outputs": [
    {
     "data": {
      "text/plain": [
       "['Satisfactory Rating',\n",
       " 'Shower',\n",
       " 'WiFi (Public Areas)',\n",
       " 'Television',\n",
       " 'Car Park',\n",
       " 'WiFi (Rooms)',\n",
       " 'Good Rating',\n",
       " 'Hotel',\n",
       " 'Luxury Hotel',\n",
       " 'Business Hotel',\n",
       " 'Non-Smoking Rooms',\n",
       " 'From 2 Stars',\n",
       " 'Reception (24/7)',\n",
       " 'Air Conditioning',\n",
       " 'Free WiFi (Combined)',\n",
       " 'Hairdryer',\n",
       " 'Desk',\n",
       " 'Telephone',\n",
       " 'Openable Windows',\n",
       " 'Family Friendly',\n",
       " 'From 3 Stars',\n",
       " 'Free WiFi (Rooms)',\n",
       " 'Free WiFi (Public Areas)',\n",
       " 'Restaurant',\n",
       " 'Central Heating',\n",
       " 'Laundry Service',\n",
       " 'Lift',\n",
       " 'Computer with Internet',\n",
       " 'Very Good Rating',\n",
       " 'Hotel Bar',\n",
       " 'Conference Rooms',\n",
       " 'Room Service',\n",
       " 'Cable TV',\n",
       " 'Cot',\n",
       " 'Safe (Hotel)',\n",
       " 'Satellite TV',\n",
       " 'Bathtub',\n",
       " 'Safe (Rooms)',\n",
       " 'Wheelchair Accessible',\n",
       " 'Electric Kettle',\n",
       " 'Terrace (Hotel)',\n",
       " 'Ironing Board',\n",
       " 'Swimming Pool (Combined Filter)',\n",
       " 'Business Centre',\n",
       " 'Concierge',\n",
       " 'Pet Friendly',\n",
       " 'From 4 Stars',\n",
       " 'Gym',\n",
       " 'Beach',\n",
       " 'Fridge',\n",
       " 'Romantic',\n",
       " 'Sitting Area (Rooms)',\n",
       " 'Swimming Pool (Outdoor)',\n",
       " 'Large Groups',\n",
       " 'Deck Chairs',\n",
       " '3 Star',\n",
       " 'Radio',\n",
       " 'Massage',\n",
       " 'Express Check-In / Check-Out',\n",
       " 'Singles',\n",
       " 'Flatscreen TV',\n",
       " 'Sauna',\n",
       " 'Porter',\n",
       " '4 Star',\n",
       " 'Washing Machine',\n",
       " 'Cosmetic Mirror',\n",
       " 'Hiking Trail',\n",
       " 'Bike Rental',\n",
       " 'Excellent Rating',\n",
       " 'Fitness',\n",
       " 'Accessible Hotel',\n",
       " 'Jacuzzi (Hotel)',\n",
       " 'Accessible Parking',\n",
       " 'Sun Umbrellas',\n",
       " 'Tennis Court',\n",
       " 'Spa (Wellness Facility)',\n",
       " 'Honeymoon',\n",
       " 'Pool Table',\n",
       " 'Airport Shuttle',\n",
       " 'Self Catering',\n",
       " 'Convenience Store',\n",
       " 'Room Service (24/7)',\n",
       " 'Childcare',\n",
       " 'Convention Hotel',\n",
       " 'Towels',\n",
       " 'Beauty Salon',\n",
       " 'Gay-friendly',\n",
       " 'Microwave',\n",
       " 'Golf Course',\n",
       " 'On-Site Boutique Shopping',\n",
       " 'Swimming Pool (Bar)',\n",
       " 'Swimming Pool (Indoor)',\n",
       " 'Fan',\n",
       " 'Playground',\n",
       " 'Balcony',\n",
       " 'Boat Rental',\n",
       " 'Steam Room',\n",
       " 'Spa Hotel',\n",
       " 'Hairdresser',\n",
       " 'Body Treatments',\n",
       " 'Sailing',\n",
       " 'Volleyball',\n",
       " 'Table Tennis',\n",
       " 'Surfing',\n",
       " '2 Star',\n",
       " 'Diving',\n",
       " 'Direct beach access',\n",
       " 'Organised Activities',\n",
       " 'Bowling',\n",
       " 'House / Apartment',\n",
       " 'Horse Riding',\n",
       " '5 Star',\n",
       " 'Tennis Court (Indoor)',\n",
       " 'Hypoallergenic Rooms',\n",
       " 'Resort',\n",
       " 'Nightclub',\n",
       " 'Minigolf',\n",
       " 'Teleprinter',\n",
       " \"Kids' Club\",\n",
       " 'Halal Food',\n",
       " 'Design Hotel',\n",
       " 'Country Hotel',\n",
       " 'Hypoallergenic Bedding',\n",
       " 'Eco-Friendly hotel',\n",
       " 'Solarium',\n",
       " 'Hammam',\n",
       " 'Serviced Apartment',\n",
       " 'Doctor On-Site',\n",
       " 'Ski Resort',\n",
       " 'Boutique Hotel',\n",
       " 'Hot Stone Massage',\n",
       " 'Health Retreat',\n",
       " 'Beach Bar',\n",
       " 'Theme Hotel',\n",
       " 'All Inclusive (Upon Inquiry)',\n",
       " 'Airport Hotel',\n",
       " 'Pousada (BR)',\n",
       " 'Skiing',\n",
       " 'Hydrotherapy',\n",
       " 'Bungalows',\n",
       " 'Bed & Breakfast',\n",
       " 'Casino (Hotel)',\n",
       " 'Club Hotel',\n",
       " 'Senior Travellers',\n",
       " 'Shooting Sports',\n",
       " 'Adults Only',\n",
       " 'Guest House',\n",
       " 'Hostel',\n",
       " '1 Star',\n",
       " 'Motel',\n",
       " 'Kosher Food',\n",
       " 'Farmstay',\n",
       " 'Water Slide',\n",
       " 'Hostal (ES)',\n",
       " 'Szep Kartya',\n",
       " 'Camping Site',\n",
       " 'Casa Rural (ES)']"
      ]
     },
     "execution_count": 77,
     "metadata": {},
     "output_type": "execute_result"
    }
   ],
   "source": [
    "overall_top_property = sorted(property_to_index, reverse=True, key=lambda prop: overall_clickout_property[property_to_index[prop]])\n",
    "overall_top_property"
   ]
  },
  {
   "cell_type": "code",
   "execution_count": 96,
   "metadata": {},
   "outputs": [],
   "source": [
    "import numpy as np\n",
    "\n",
    "np.savez('Platform-Analysis.npz', overall_top_property=overall_top_property, platform_top_properties=platform_top_properties)"
   ]
  },
  {
   "cell_type": "markdown",
   "metadata": {},
   "source": [
    "# For the instructor: Try it yourself!\n",
    "\n",
    "Run the cells below.  \n",
    "Try changing the country code."
   ]
  },
  {
   "cell_type": "code",
   "execution_count": 89,
   "metadata": {},
   "outputs": [],
   "source": [
    "platform_to_ind = {'AA': 0, 'AE': 1, 'AR': 2, 'AT': 3, 'AU': 4, 'BE': 5, 'BG': 6, 'BR': 7, 'CA': 8, 'CH': 9, 'CL': 10, 'CN': 11, 'CO': 12, 'CZ': 13, 'DE': 14, 'DK': 15, 'EC': 16, 'ES': 17, 'FI': 18, 'FR': 19, 'GR': 20, 'HK': 21, 'HR': 22, 'HU': 23, 'ID': 24, 'IE': 25, 'IL': 26, 'IN': 27, 'IT': 28, 'JP': 29, 'KR': 30, 'MX': 31, 'MY': 32, 'NL': 33, 'NO': 34, 'NZ': 35, 'PE': 36, 'PH': 37, 'PL': 38, 'PT': 39, 'RO': 40, 'RS': 41, 'RU': 42, 'SE': 43, 'SG': 44, 'SI': 45, 'SK': 46, 'TH': 47, 'TR': 48, 'TW': 49, 'UK': 50, 'US': 51, 'UY': 52, 'VN': 53, 'ZA': 54}"
   ]
  },
  {
   "cell_type": "code",
   "execution_count": null,
   "metadata": {},
   "outputs": [],
   "source": [
    "import numpy as np"
   ]
  },
  {
   "cell_type": "code",
   "execution_count": 97,
   "metadata": {},
   "outputs": [],
   "source": [
    "analysis = np.load('Platform-Analysis.npz')\n",
    "overall_top_property = analysis['overall_top_property']\n",
    "platform_top_properties = analysis['platform_top_properties']"
   ]
  },
  {
   "cell_type": "code",
   "execution_count": 92,
   "metadata": {},
   "outputs": [
    {
     "data": {
      "text/plain": [
       "array(['Satisfactory Rating', 'Shower', 'WiFi (Public Areas)',\n",
       "       'Television', 'Car Park', 'WiFi (Rooms)', 'Good Rating', 'Hotel',\n",
       "       'Luxury Hotel', 'Business Hotel', 'Non-Smoking Rooms',\n",
       "       'From 2 Stars', 'Reception (24/7)', 'Air Conditioning',\n",
       "       'Free WiFi (Combined)', 'Hairdryer', 'Desk', 'Telephone',\n",
       "       'Openable Windows', 'Family Friendly', 'From 3 Stars',\n",
       "       'Free WiFi (Rooms)', 'Free WiFi (Public Areas)', 'Restaurant',\n",
       "       'Central Heating', 'Laundry Service', 'Lift',\n",
       "       'Computer with Internet', 'Very Good Rating', 'Hotel Bar',\n",
       "       'Conference Rooms', 'Room Service', 'Cable TV', 'Cot',\n",
       "       'Safe (Hotel)', 'Satellite TV', 'Bathtub', 'Safe (Rooms)',\n",
       "       'Wheelchair Accessible', 'Electric Kettle', 'Terrace (Hotel)',\n",
       "       'Ironing Board', 'Swimming Pool (Combined Filter)',\n",
       "       'Business Centre', 'Concierge', 'Pet Friendly', 'From 4 Stars',\n",
       "       'Gym', 'Beach', 'Fridge', 'Romantic', 'Sitting Area (Rooms)',\n",
       "       'Swimming Pool (Outdoor)', 'Large Groups', 'Deck Chairs', '3 Star',\n",
       "       'Radio', 'Massage', 'Express Check-In / Check-Out', 'Singles',\n",
       "       'Flatscreen TV', 'Sauna', 'Porter', '4 Star', 'Washing Machine',\n",
       "       'Cosmetic Mirror', 'Hiking Trail', 'Bike Rental',\n",
       "       'Excellent Rating', 'Fitness', 'Accessible Hotel',\n",
       "       'Jacuzzi (Hotel)', 'Accessible Parking', 'Sun Umbrellas',\n",
       "       'Tennis Court', 'Spa (Wellness Facility)', 'Honeymoon',\n",
       "       'Pool Table', 'Airport Shuttle', 'Self Catering',\n",
       "       'Convenience Store', 'Room Service (24/7)', 'Childcare',\n",
       "       'Convention Hotel', 'Towels', 'Beauty Salon', 'Gay-friendly',\n",
       "       'Microwave', 'Golf Course', 'On-Site Boutique Shopping',\n",
       "       'Swimming Pool (Bar)', 'Swimming Pool (Indoor)', 'Fan',\n",
       "       'Playground', 'Balcony', 'Boat Rental', 'Steam Room', 'Spa Hotel',\n",
       "       'Hairdresser', 'Body Treatments', 'Sailing', 'Volleyball',\n",
       "       'Table Tennis', 'Surfing', '2 Star', 'Diving',\n",
       "       'Direct beach access', 'Organised Activities', 'Bowling',\n",
       "       'House / Apartment', 'Horse Riding', '5 Star',\n",
       "       'Tennis Court (Indoor)', 'Hypoallergenic Rooms', 'Resort',\n",
       "       'Nightclub', 'Minigolf', 'Teleprinter', \"Kids' Club\", 'Halal Food',\n",
       "       'Design Hotel', 'Country Hotel', 'Hypoallergenic Bedding',\n",
       "       'Eco-Friendly hotel', 'Solarium', 'Hammam', 'Serviced Apartment',\n",
       "       'Doctor On-Site', 'Ski Resort', 'Boutique Hotel',\n",
       "       'Hot Stone Massage', 'Health Retreat', 'Beach Bar', 'Theme Hotel',\n",
       "       'All Inclusive (Upon Inquiry)', 'Airport Hotel', 'Pousada (BR)',\n",
       "       'Skiing', 'Hydrotherapy', 'Bungalows', 'Bed & Breakfast',\n",
       "       'Casino (Hotel)', 'Club Hotel', 'Senior Travellers',\n",
       "       'Shooting Sports', 'Adults Only', 'Guest House', 'Hostel',\n",
       "       '1 Star', 'Motel', 'Kosher Food', 'Farmstay', 'Water Slide',\n",
       "       'Hostal (ES)', 'Szep Kartya', 'Camping Site', 'Casa Rural (ES)'],\n",
       "      dtype='<U31')"
      ]
     },
     "execution_count": 92,
     "metadata": {},
     "output_type": "execute_result"
    }
   ],
   "source": [
    "overall_top_property"
   ]
  },
  {
   "cell_type": "code",
   "execution_count": 102,
   "metadata": {},
   "outputs": [
    {
     "data": {
      "text/plain": [
       "array(['Car Park', 'Satisfactory Rating', 'Television',\n",
       "       'Air Conditioning', 'Shower', 'Business Hotel',\n",
       "       'Non-Smoking Rooms', 'WiFi (Public Areas)', 'From 2 Stars',\n",
       "       'Telephone', 'Family Friendly', 'WiFi (Rooms)', 'Luxury Hotel',\n",
       "       'Hairdryer', 'Reception (24/7)', 'Cable TV', 'Desk', 'Good Rating',\n",
       "       'Hotel', 'Computer with Internet', 'Ironing Board',\n",
       "       'Central Heating', 'Wheelchair Accessible', 'Lift',\n",
       "       'Laundry Service', 'From 3 Stars',\n",
       "       'Swimming Pool (Combined Filter)', 'Bathtub', 'Conference Rooms',\n",
       "       'Gym', 'Business Centre', 'Electric Kettle', 'Romantic',\n",
       "       'Safe (Hotel)', 'Cot', 'Very Good Rating', 'Radio', 'Restaurant',\n",
       "       'Free WiFi (Combined)', 'Hotel Bar', 'Swimming Pool (Outdoor)',\n",
       "       'Openable Windows', 'Deck Chairs', 'Fridge',\n",
       "       'Free WiFi (Public Areas)', 'Room Service', 'Free WiFi (Rooms)',\n",
       "       'Concierge', 'Express Check-In / Check-Out', 'Satellite TV',\n",
       "       'Terrace (Hotel)', 'Safe (Rooms)', 'Pet Friendly',\n",
       "       'Accessible Parking', 'Washing Machine', 'Accessible Hotel',\n",
       "       'Large Groups', 'Jacuzzi (Hotel)', 'Sitting Area (Rooms)',\n",
       "       'Microwave', '3 Star', 'Porter', 'Beach', 'Convenience Store',\n",
       "       'Sun Umbrellas', 'Golf Course', 'From 4 Stars', 'Fitness',\n",
       "       'Tennis Court', 'Excellent Rating', 'Massage', 'Self Catering',\n",
       "       'Towels', 'Teleprinter', 'Spa (Wellness Facility)', 'Hiking Trail',\n",
       "       'Sauna', 'Flatscreen TV', '4 Star', 'On-Site Boutique Shopping',\n",
       "       'Swimming Pool (Bar)', '2 Star', 'Convention Hotel',\n",
       "       'Cosmetic Mirror', 'Honeymoon', 'Beauty Salon', 'Pool Table',\n",
       "       'Bike Rental', 'Airport Shuttle', 'Room Service (24/7)',\n",
       "       'Swimming Pool (Indoor)', 'Childcare', 'Singles', 'Boat Rental',\n",
       "       'Hairdresser', 'Gay-friendly', 'Steam Room', 'Body Treatments',\n",
       "       'Sailing', 'Volleyball', 'Resort', 'Balcony', 'Bowling',\n",
       "       'Nightclub', 'Fan', 'Direct beach access', 'Organised Activities',\n",
       "       'Playground', 'Spa Hotel', 'Surfing', 'Casino (Hotel)', 'Diving',\n",
       "       'Minigolf', 'Horse Riding', 'House / Apartment', 'Theme Hotel',\n",
       "       'Hot Stone Massage', '5 Star', 'Boutique Hotel', 'Table Tennis',\n",
       "       \"Kids' Club\", 'Hypoallergenic Rooms', 'Design Hotel',\n",
       "       'Serviced Apartment', 'Beach Bar', 'Health Retreat',\n",
       "       'Eco-Friendly hotel', 'Hydrotherapy', 'Doctor On-Site',\n",
       "       'Tennis Court (Indoor)', 'All Inclusive (Upon Inquiry)',\n",
       "       'Hypoallergenic Bedding', 'Airport Hotel', 'Solarium',\n",
       "       'Ski Resort', 'Hammam', 'Country Hotel', 'Bungalows', 'Club Hotel',\n",
       "       'Motel', 'Skiing', 'Halal Food', 'Adults Only', 'Shooting Sports',\n",
       "       'Bed & Breakfast', 'Senior Travellers', 'Guest House', '1 Star',\n",
       "       'Hostel', 'Water Slide', 'Kosher Food', 'Pousada (BR)', 'Farmstay',\n",
       "       'Hostal (ES)', 'Camping Site', 'Szep Kartya', 'Casa Rural (ES)'],\n",
       "      dtype='<U31')"
      ]
     },
     "execution_count": 102,
     "metadata": {},
     "output_type": "execute_result"
    }
   ],
   "source": [
    "platform_top_properties[platform_to_ind['US']]"
   ]
  }
 ],
 "metadata": {
  "kernelspec": {
   "display_name": "Python 3",
   "language": "python",
   "name": "python3"
  },
  "language_info": {
   "codemirror_mode": {
    "name": "ipython",
    "version": 3
   },
   "file_extension": ".py",
   "mimetype": "text/x-python",
   "name": "python",
   "nbconvert_exporter": "python",
   "pygments_lexer": "ipython3",
   "version": "3.6.8"
  }
 },
 "nbformat": 4,
 "nbformat_minor": 2
}
