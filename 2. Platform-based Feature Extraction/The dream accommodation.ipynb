{
 "cells": [
  {
   "cell_type": "markdown",
   "metadata": {},
   "source": [
    "# Data Preprocessing"
   ]
  },
  {
   "cell_type": "code",
   "execution_count": 2,
   "metadata": {},
   "outputs": [],
   "source": [
    "import sys\n",
    "\n",
    "import csv\n",
    "import numpy as np\n",
    "from tqdm import tqdm_notebook as tqdm"
   ]
  },
  {
   "cell_type": "code",
   "execution_count": 3,
   "metadata": {},
   "outputs": [
    {
     "data": {
      "application/vnd.jupyter.widget-view+json": {
       "model_id": "e7011ff049504907b72dca6df1ae02b7",
       "version_major": 2,
       "version_minor": 0
      },
      "text/plain": [
       "HBox(children=(IntProgress(value=1, bar_style='info', max=1), HTML(value='')))"
      ]
     },
     "metadata": {},
     "output_type": "display_data"
    },
    {
     "name": "stdout",
     "output_type": "stream",
     "text": [
      "\n"
     ]
    },
    {
     "data": {
      "application/vnd.jupyter.widget-view+json": {
       "model_id": "4d6e954a379c48c99ae3b2e8c78c8316",
       "version_major": 2,
       "version_minor": 0
      },
      "text/plain": [
       "HBox(children=(IntProgress(value=1, bar_style='info', max=1), HTML(value='')))"
      ]
     },
     "metadata": {},
     "output_type": "display_data"
    },
    {
     "name": "stdout",
     "output_type": "stream",
     "text": [
      "\n"
     ]
    },
    {
     "data": {
      "application/vnd.jupyter.widget-view+json": {
       "model_id": "43a9ae29b79d4183a5d952ab10e284e2",
       "version_major": 2,
       "version_minor": 0
      },
      "text/plain": [
       "HBox(children=(IntProgress(value=1, bar_style='info', max=1), HTML(value='')))"
      ]
     },
     "metadata": {},
     "output_type": "display_data"
    },
    {
     "name": "stdout",
     "output_type": "stream",
     "text": [
      "\n"
     ]
    }
   ],
   "source": [
    "item_ids = set()\n",
    "with open('../Dataset/item_metadata.csv', 'r') as f:\n",
    "    reader = csv.reader(f)\n",
    "    next(reader)\n",
    "    \n",
    "    for line in tqdm(reader):\n",
    "        item_ids.add(int(line[0]))\n",
    "        \n",
    "with open('../Dataset/train.csv', 'r') as f:\n",
    "    reader = csv.reader(f)\n",
    "    next(reader)\n",
    "    \n",
    "    for line in tqdm(reader):\n",
    "        if line[4] in ['clickout item', 'interaction item deals', 'interaction item image', 'interaction item info',  'interaction item rating',  'search for item'] and line[5].isdigit():\n",
    "            item_ids.add(int(line[5]))\n",
    "        if line[10] != '':\n",
    "            item_ids.update(set(list(map(int, line[10].split('|')))))\n",
    "            \n",
    "with open('../Dataset/test.csv', 'r') as f:\n",
    "    reader = csv.reader(f)\n",
    "    next(reader)\n",
    "    \n",
    "    for line in tqdm(reader):\n",
    "        if line[4] in ['clickout item', 'interaction item deals', 'interaction item image', 'interaction item info',  'interaction item rating',  'search for item']  and line[5].isdigit():\n",
    "            item_ids.add(int(line[5]))\n",
    "        if line[10] != '':\n",
    "            item_ids.update(set(list(map(int, line[10].split('|')))))"
   ]
  },
  {
   "cell_type": "code",
   "execution_count": 4,
   "metadata": {},
   "outputs": [
    {
     "data": {
      "application/vnd.jupyter.widget-view+json": {
       "model_id": "db4d99817a1d493abbc757e6e868a43c",
       "version_major": 2,
       "version_minor": 0
      },
      "text/plain": [
       "HBox(children=(IntProgress(value=1, bar_style='info', max=1), HTML(value='')))"
      ]
     },
     "metadata": {},
     "output_type": "display_data"
    },
    {
     "name": "stdout",
     "output_type": "stream",
     "text": [
      "\n"
     ]
    }
   ],
   "source": [
    "property_to_index = {}\n",
    "with open('../Dataset/item_metadata.csv', 'r') as f:\n",
    "    reader = csv.reader(f)\n",
    "    next(reader)\n",
    "    \n",
    "    index = 0\n",
    "    for line in tqdm(reader):\n",
    "        for prop in line[1].split('|'):\n",
    "            if prop not in property_to_index:\n",
    "                property_to_index[prop] = index\n",
    "                index += 1"
   ]
  },
  {
   "cell_type": "code",
   "execution_count": 5,
   "metadata": {},
   "outputs": [
    {
     "data": {
      "application/vnd.jupyter.widget-view+json": {
       "model_id": "e3b3ac7d5e384ca2b5ab183a7e740d70",
       "version_major": 2,
       "version_minor": 0
      },
      "text/plain": [
       "HBox(children=(IntProgress(value=1, bar_style='info', max=1), HTML(value='')))"
      ]
     },
     "metadata": {},
     "output_type": "display_data"
    },
    {
     "name": "stdout",
     "output_type": "stream",
     "text": [
      "\n"
     ]
    }
   ],
   "source": [
    "item_to_property = {}\n",
    "\n",
    "for item in item_ids:\n",
    "    item_to_property[item] = np.zeros(157)\n",
    "\n",
    "with open('../Dataset/item_metadata.csv', 'r') as f:\n",
    "    reader = csv.reader(f)\n",
    "    next(reader)\n",
    "    \n",
    "    for line in tqdm(reader):\n",
    "        for prop in line[1].split('|'):\n",
    "            item_to_property[int(line[0])][property_to_index[prop]] = 1"
   ]
  },
  {
   "cell_type": "code",
   "execution_count": 6,
   "metadata": {},
   "outputs": [],
   "source": [
    "user = set()\n",
    "action_type = set()\n",
    "platform = set()\n",
    "city = set()\n",
    "device = set()\n",
    "current_filters = set()"
   ]
  },
  {
   "cell_type": "code",
   "execution_count": 7,
   "metadata": {},
   "outputs": [
    {
     "data": {
      "application/vnd.jupyter.widget-view+json": {
       "model_id": "40a488fc8b0d469b8724ec27ad9381fd",
       "version_major": 2,
       "version_minor": 0
      },
      "text/plain": [
       "HBox(children=(IntProgress(value=1, bar_style='info', max=1), HTML(value='')))"
      ]
     },
     "metadata": {},
     "output_type": "display_data"
    },
    {
     "name": "stdout",
     "output_type": "stream",
     "text": [
      "\n"
     ]
    },
    {
     "data": {
      "application/vnd.jupyter.widget-view+json": {
       "model_id": "90fa95a543134d849d462c94f40c628d",
       "version_major": 2,
       "version_minor": 0
      },
      "text/plain": [
       "HBox(children=(IntProgress(value=1, bar_style='info', max=1), HTML(value='')))"
      ]
     },
     "metadata": {},
     "output_type": "display_data"
    },
    {
     "name": "stdout",
     "output_type": "stream",
     "text": [
      "\n"
     ]
    }
   ],
   "source": [
    "with open('../Dataset/train.csv') as f:\n",
    "    reader = csv.reader(f)\n",
    "    next(reader)\n",
    "    \n",
    "    for line in tqdm(reader):\n",
    "        user.add(line[0])\n",
    "        action_type.add(line[4])\n",
    "        platform.add(line[6])\n",
    "        city.add(line[7])\n",
    "        device.add(line[8])\n",
    "        if line[9]:\n",
    "            for filter in line[9].split('|'):\n",
    "                current_filters.add(filter)\n",
    "            \n",
    "with open('../Dataset/test.csv') as f:\n",
    "    reader = csv.reader(f)\n",
    "    next(reader)\n",
    "    \n",
    "    for line in tqdm(reader):\n",
    "        user.add(line[0])\n",
    "        action_type.add(line[4])\n",
    "        platform.add(line[6])\n",
    "        city.add(line[7])\n",
    "        device.add(line[8])\n",
    "        if line[9]:\n",
    "            for filter in line[9].split('|'):\n",
    "                current_filters.add(filter)"
   ]
  },
  {
   "cell_type": "code",
   "execution_count": 8,
   "metadata": {},
   "outputs": [],
   "source": [
    "user = sorted(list(user))\n",
    "action_type = sorted(list(action_type))\n",
    "platform = sorted(list(platform))\n",
    "city = sorted(list(city))\n",
    "device = sorted(list(device))\n",
    "current_filters = sorted(list(current_filters))"
   ]
  },
  {
   "cell_type": "code",
   "execution_count": 9,
   "metadata": {},
   "outputs": [],
   "source": [
    "user_to_ind = {user[i]:i for i in range(len(user))}\n",
    "action_to_ind = {action_type[i]:i for i in range(len(action_type))}\n",
    "platform_to_ind = {platform[i]:i for i in range(len(platform))}\n",
    "city_to_ind = {city[i]:i for i in range(len(city))}\n",
    "device_to_ind = {device[i]:i for i in range(len(device))}\n",
    "current_filters_to_ind = {current_filters[i]:i for i in range(len(current_filters))}"
   ]
  },
  {
   "cell_type": "code",
   "execution_count": 10,
   "metadata": {},
   "outputs": [
    {
     "data": {
      "application/vnd.jupyter.widget-view+json": {
       "model_id": "d003ea1382944b51992092cb9c90e09d",
       "version_major": 2,
       "version_minor": 0
      },
      "text/plain": [
       "HBox(children=(IntProgress(value=1, bar_style='info', max=1), HTML(value='')))"
      ]
     },
     "metadata": {},
     "output_type": "display_data"
    },
    {
     "name": "stdout",
     "output_type": "stream",
     "text": [
      "\n"
     ]
    },
    {
     "data": {
      "application/vnd.jupyter.widget-view+json": {
       "model_id": "b32febd202e44c018d59c1da3579dd04",
       "version_major": 2,
       "version_minor": 0
      },
      "text/plain": [
       "HBox(children=(IntProgress(value=1, bar_style='info', max=1), HTML(value='')))"
      ]
     },
     "metadata": {},
     "output_type": "display_data"
    },
    {
     "name": "stdout",
     "output_type": "stream",
     "text": [
      "\n"
     ]
    }
   ],
   "source": [
    "reference = [set() for _ in range(10)]\n",
    "with open('../Dataset/train.csv') as f:\n",
    "    reader = csv.reader(f)\n",
    "    next(reader)\n",
    "    \n",
    "    for line in tqdm(reader):\n",
    "        reference[action_to_ind[line[4]]].add(line[5])\n",
    "\n",
    "with open('../Dataset/test.csv') as f:\n",
    "    reader = csv.reader(f)\n",
    "    next(reader)\n",
    "    \n",
    "    for line in tqdm(reader):\n",
    "        reference[action_to_ind[line[4]]].add(line[5])"
   ]
  },
  {
   "cell_type": "code",
   "execution_count": 11,
   "metadata": {},
   "outputs": [],
   "source": [
    "# reference_to_ind[i]: dictionary object that maps reference string of action_type[i] to integer index\n",
    "\n",
    "reference_to_ind = [{} for _ in range(10)]\n",
    "for i in range(10):\n",
    "    reference_i = list(reference[i])\n",
    "    \n",
    "    if i in [1, 3, 4, 5, 6, 8]:    # for items, non-item-index references are mapped to zero. item-indexes are mapped to itself.\n",
    "        for j in range(len(reference_i)):\n",
    "            if reference_i[j] in ['', 'Estació de Sants', 'Shinjuku Station', 'Lower Manhattan', 'Miyako Airport', 'unknown']:\n",
    "                reference_to_ind[i][reference_i[j]] = 0\n",
    "            else:\n",
    "                reference_to_ind[i][reference_i[j]] = int(reference_i[j])\n",
    "    else:   # for non-items, reference values are indexed from 0 to number_of_references-1\n",
    "        reference_to_ind[i].update({reference_i[j]:j for j in range(len(reference_i))})"
   ]
  },
  {
   "cell_type": "markdown",
   "metadata": {},
   "source": [
    "# Clustering\n",
    "\n",
    "For each platform, find out which properties are the most popular."
   ]
  },
  {
   "cell_type": "code",
   "execution_count": 13,
   "metadata": {},
   "outputs": [
    {
     "data": {
      "application/vnd.jupyter.widget-view+json": {
       "model_id": "bc48cdd8890f4c68b2e2e5343debccea",
       "version_major": 2,
       "version_minor": 0
      },
      "text/plain": [
       "HBox(children=(IntProgress(value=1, bar_style='info', max=1), HTML(value='')))"
      ]
     },
     "metadata": {},
     "output_type": "display_data"
    },
    {
     "name": "stdout",
     "output_type": "stream",
     "text": [
      "\n"
     ]
    }
   ],
   "source": [
    "platform_clickouts = [[] for _ in range(55)]\n",
    "with open('../Dataset/train.csv', 'r') as f:\n",
    "    reader = csv.reader(f)\n",
    "    next(reader)\n",
    "    \n",
    "    for line in tqdm(reader):\n",
    "        if line[4]=='clickout item':\n",
    "            if line[5].isdigit():\n",
    "                platform_clickouts[platform_to_ind[line[6]]].append(item_to_property[int(line[5])])"
   ]
  },
  {
   "cell_type": "code",
   "execution_count": 53,
   "metadata": {},
   "outputs": [
    {
     "data": {
      "text/plain": [
       "{'AA': 0,\n",
       " 'AE': 1,\n",
       " 'AR': 2,\n",
       " 'AT': 3,\n",
       " 'AU': 4,\n",
       " 'BE': 5,\n",
       " 'BG': 6,\n",
       " 'BR': 7,\n",
       " 'CA': 8,\n",
       " 'CH': 9,\n",
       " 'CL': 10,\n",
       " 'CN': 11,\n",
       " 'CO': 12,\n",
       " 'CZ': 13,\n",
       " 'DE': 14,\n",
       " 'DK': 15,\n",
       " 'EC': 16,\n",
       " 'ES': 17,\n",
       " 'FI': 18,\n",
       " 'FR': 19,\n",
       " 'GR': 20,\n",
       " 'HK': 21,\n",
       " 'HR': 22,\n",
       " 'HU': 23,\n",
       " 'ID': 24,\n",
       " 'IE': 25,\n",
       " 'IL': 26,\n",
       " 'IN': 27,\n",
       " 'IT': 28,\n",
       " 'JP': 29,\n",
       " 'KR': 30,\n",
       " 'MX': 31,\n",
       " 'MY': 32,\n",
       " 'NL': 33,\n",
       " 'NO': 34,\n",
       " 'NZ': 35,\n",
       " 'PE': 36,\n",
       " 'PH': 37,\n",
       " 'PL': 38,\n",
       " 'PT': 39,\n",
       " 'RO': 40,\n",
       " 'RS': 41,\n",
       " 'RU': 42,\n",
       " 'SE': 43,\n",
       " 'SG': 44,\n",
       " 'SI': 45,\n",
       " 'SK': 46,\n",
       " 'TH': 47,\n",
       " 'TR': 48,\n",
       " 'TW': 49,\n",
       " 'UK': 50,\n",
       " 'US': 51,\n",
       " 'UY': 52,\n",
       " 'VN': 53,\n",
       " 'ZA': 54}"
      ]
     },
     "execution_count": 53,
     "metadata": {},
     "output_type": "execute_result"
    }
   ],
   "source": [
    "platform_to_ind"
   ]
  },
  {
   "cell_type": "code",
   "execution_count": 24,
   "metadata": {},
   "outputs": [
    {
     "data": {
      "text/plain": [
       "7783"
      ]
     },
     "execution_count": 24,
     "metadata": {},
     "output_type": "execute_result"
    }
   ],
   "source": [
    "len(platform_clickouts[platform_to_ind['KR']])"
   ]
  },
  {
   "cell_type": "code",
   "execution_count": 25,
   "metadata": {},
   "outputs": [],
   "source": [
    "platform_clickout_property = [[sum(platform[i][j] for i in range(len(platform))) for j in range(157)] for platform in platform_clickouts]"
   ]
  },
  {
   "cell_type": "code",
   "execution_count": 30,
   "metadata": {},
   "outputs": [
    {
     "data": {
      "text/plain": [
       "{'Satellite TV': 0,\n",
       " 'Golf Course': 1,\n",
       " 'Airport Shuttle': 2,\n",
       " 'Cosmetic Mirror': 3,\n",
       " 'Safe (Hotel)': 4,\n",
       " 'Telephone': 5,\n",
       " 'Hotel': 6,\n",
       " 'Sitting Area (Rooms)': 7,\n",
       " 'Reception (24/7)': 8,\n",
       " 'Air Conditioning': 9,\n",
       " 'Hypoallergenic Rooms': 10,\n",
       " 'Cable TV': 11,\n",
       " 'Hotel Bar': 12,\n",
       " 'Pool Table': 13,\n",
       " 'Bathtub': 14,\n",
       " 'Satisfactory Rating': 15,\n",
       " 'Room Service': 16,\n",
       " 'Luxury Hotel': 17,\n",
       " 'Terrace (Hotel)': 18,\n",
       " 'Television': 19,\n",
       " 'Minigolf': 20,\n",
       " 'Business Hotel': 21,\n",
       " 'Shower': 22,\n",
       " 'Cot': 23,\n",
       " 'Gym': 24,\n",
       " 'Hairdryer': 25,\n",
       " 'Hypoallergenic Bedding': 26,\n",
       " 'Accessible Parking': 27,\n",
       " 'From 3 Stars': 28,\n",
       " 'Good Rating': 29,\n",
       " 'Radio': 30,\n",
       " '4 Star': 31,\n",
       " 'From 4 Stars': 32,\n",
       " 'Family Friendly': 33,\n",
       " 'Desk': 34,\n",
       " 'Tennis Court (Indoor)': 35,\n",
       " 'Balcony': 36,\n",
       " 'WiFi (Public Areas)': 37,\n",
       " 'Openable Windows': 38,\n",
       " 'Express Check-In / Check-Out': 39,\n",
       " 'Restaurant': 40,\n",
       " 'Laundry Service': 41,\n",
       " 'Ironing Board': 42,\n",
       " 'Tennis Court': 43,\n",
       " 'From 2 Stars': 44,\n",
       " 'Business Centre': 45,\n",
       " 'Bowling': 46,\n",
       " 'Conference Rooms': 47,\n",
       " 'Electric Kettle': 48,\n",
       " 'Accessible Hotel': 49,\n",
       " 'Porter': 50,\n",
       " 'Bike Rental': 51,\n",
       " 'Non-Smoking Rooms': 52,\n",
       " 'Car Park': 53,\n",
       " 'Safe (Rooms)': 54,\n",
       " 'Fitness': 55,\n",
       " 'Fan': 56,\n",
       " 'Flatscreen TV': 57,\n",
       " 'Computer with Internet': 58,\n",
       " 'WiFi (Rooms)': 59,\n",
       " 'Lift': 60,\n",
       " 'Central Heating': 61,\n",
       " 'Wheelchair Accessible': 62,\n",
       " 'Very Good Rating': 63,\n",
       " 'Spa (Wellness Facility)': 64,\n",
       " 'Free WiFi (Combined)': 65,\n",
       " 'Sauna': 66,\n",
       " 'Free WiFi (Rooms)': 67,\n",
       " 'Excellent Rating': 68,\n",
       " 'Pet Friendly': 69,\n",
       " 'Free WiFi (Public Areas)': 70,\n",
       " 'Hiking Trail': 71,\n",
       " 'Beach': 72,\n",
       " 'Boat Rental': 73,\n",
       " 'Gay-friendly': 74,\n",
       " '3 Star': 75,\n",
       " 'Singles': 76,\n",
       " 'Sailing': 77,\n",
       " 'Solarium': 78,\n",
       " 'Concierge': 79,\n",
       " 'Diving': 80,\n",
       " 'Massage': 81,\n",
       " 'Towels': 82,\n",
       " 'Steam Room': 83,\n",
       " 'Spa Hotel': 84,\n",
       " 'Swimming Pool (Outdoor)': 85,\n",
       " 'Beauty Salon': 86,\n",
       " 'Convention Hotel': 87,\n",
       " 'Table Tennis': 88,\n",
       " 'Surfing': 89,\n",
       " 'Hot Stone Massage': 90,\n",
       " 'Romantic': 91,\n",
       " 'Hammam': 92,\n",
       " 'Playground': 93,\n",
       " 'Swimming Pool (Indoor)': 94,\n",
       " 'Jacuzzi (Hotel)': 95,\n",
       " 'Honeymoon': 96,\n",
       " 'Body Treatments': 97,\n",
       " 'Volleyball': 98,\n",
       " 'Swimming Pool (Combined Filter)': 99,\n",
       " 'Horse Riding': 100,\n",
       " 'Convenience Store': 101,\n",
       " 'Deck Chairs': 102,\n",
       " 'Self Catering': 103,\n",
       " 'Fridge': 104,\n",
       " 'Design Hotel': 105,\n",
       " 'Childcare': 106,\n",
       " 'Resort': 107,\n",
       " 'Room Service (24/7)': 108,\n",
       " \"Kids' Club\": 109,\n",
       " 'All Inclusive (Upon Inquiry)': 110,\n",
       " 'On-Site Boutique Shopping': 111,\n",
       " 'Shooting Sports': 112,\n",
       " 'Swimming Pool (Bar)': 113,\n",
       " 'Sun Umbrellas': 114,\n",
       " 'Club Hotel': 115,\n",
       " 'Direct beach access': 116,\n",
       " 'Nightclub': 117,\n",
       " 'Organised Activities': 118,\n",
       " 'Large Groups': 119,\n",
       " 'Hairdresser': 120,\n",
       " 'Teleprinter': 121,\n",
       " 'Microwave': 122,\n",
       " 'Washing Machine': 123,\n",
       " 'Health Retreat': 124,\n",
       " 'Bungalows': 125,\n",
       " 'Doctor On-Site': 126,\n",
       " 'Ski Resort': 127,\n",
       " 'Senior Travellers': 128,\n",
       " '2 Star': 129,\n",
       " '5 Star': 130,\n",
       " 'Halal Food': 131,\n",
       " 'Skiing': 132,\n",
       " 'Country Hotel': 133,\n",
       " 'Theme Hotel': 134,\n",
       " 'Beach Bar': 135,\n",
       " 'Eco-Friendly hotel': 136,\n",
       " '1 Star': 137,\n",
       " 'Bed & Breakfast': 138,\n",
       " 'Hydrotherapy': 139,\n",
       " 'Boutique Hotel': 140,\n",
       " 'Serviced Apartment': 141,\n",
       " 'Kosher Food': 142,\n",
       " 'Airport Hotel': 143,\n",
       " 'Casino (Hotel)': 144,\n",
       " 'Adults Only': 145,\n",
       " 'Motel': 146,\n",
       " 'Hostel': 147,\n",
       " 'Guest House': 148,\n",
       " 'House / Apartment': 149,\n",
       " 'Water Slide': 150,\n",
       " 'Casa Rural (ES)': 151,\n",
       " 'Szep Kartya': 152,\n",
       " 'Camping Site': 153,\n",
       " 'Pousada (BR)': 154,\n",
       " 'Farmstay': 155,\n",
       " 'Hostal (ES)': 156}"
      ]
     },
     "execution_count": 30,
     "metadata": {},
     "output_type": "execute_result"
    }
   ],
   "source": [
    "property_to_index"
   ]
  },
  {
   "cell_type": "code",
   "execution_count": 28,
   "metadata": {},
   "outputs": [
    {
     "data": {
      "text/plain": [
       "[2700.0,\n",
       " 554.0,\n",
       " 1284.0,\n",
       " 1970.0,\n",
       " 3150.0,\n",
       " 4347.0,\n",
       " 5744.0,\n",
       " 1769.0,\n",
       " 4862.0,\n",
       " 5170.0,\n",
       " 141.0,\n",
       " 3807.0,\n",
       " 3170.0,\n",
       " 653.0,\n",
       " 3626.0,\n",
       " 6919.0,\n",
       " 2951.0,\n",
       " 5559.0,\n",
       " 1914.0,\n",
       " 4975.0,\n",
       " 235.0,\n",
       " 4926.0,\n",
       " 5269.0,\n",
       " 2274.0,\n",
       " 2537.0,\n",
       " 4976.0,\n",
       " 201.0,\n",
       " 1040.0,\n",
       " 4308.0,\n",
       " 6295.0,\n",
       " 1479.0,\n",
       " 1757.0,\n",
       " 2821.0,\n",
       " 4134.0,\n",
       " 4438.0,\n",
       " 163.0,\n",
       " 608.0,\n",
       " 5489.0,\n",
       " 2882.0,\n",
       " 1887.0,\n",
       " 4508.0,\n",
       " 3861.0,\n",
       " 2745.0,\n",
       " 744.0,\n",
       " 4645.0,\n",
       " 3245.0,\n",
       " 234.0,\n",
       " 3343.0,\n",
       " 4152.0,\n",
       " 997.0,\n",
       " 1800.0,\n",
       " 907.0,\n",
       " 4480.0,\n",
       " 5129.0,\n",
       " 2903.0,\n",
       " 1050.0,\n",
       " 505.0,\n",
       " 1305.0,\n",
       " 4257.0,\n",
       " 5234.0,\n",
       " 4601.0,\n",
       " 2889.0,\n",
       " 2457.0,\n",
       " 4819.0,\n",
       " 1573.0,\n",
       " 4792.0,\n",
       " 1949.0,\n",
       " 4255.0,\n",
       " 1831.0,\n",
       " 2086.0,\n",
       " 4235.0,\n",
       " 956.0,\n",
       " 2927.0,\n",
       " 510.0,\n",
       " 828.0,\n",
       " 2389.0,\n",
       " 2162.0,\n",
       " 404.0,\n",
       " 130.0,\n",
       " 3243.0,\n",
       " 294.0,\n",
       " 2735.0,\n",
       " 1000.0,\n",
       " 1005.0,\n",
       " 910.0,\n",
       " 2005.0,\n",
       " 1251.0,\n",
       " 1215.0,\n",
       " 257.0,\n",
       " 243.0,\n",
       " 225.0,\n",
       " 2262.0,\n",
       " 87.0,\n",
       " 853.0,\n",
       " 927.0,\n",
       " 1263.0,\n",
       " 2159.0,\n",
       " 890.0,\n",
       " 256.0,\n",
       " 2182.0,\n",
       " 121.0,\n",
       " 1458.0,\n",
       " 1598.0,\n",
       " 1117.0,\n",
       " 3769.0,\n",
       " 291.0,\n",
       " 1241.0,\n",
       " 723.0,\n",
       " 1295.0,\n",
       " 454.0,\n",
       " 71.0,\n",
       " 1397.0,\n",
       " 24.0,\n",
       " 866.0,\n",
       " 1053.0,\n",
       " 53.0,\n",
       " 642.0,\n",
       " 406.0,\n",
       " 434.0,\n",
       " 2192.0,\n",
       " 986.0,\n",
       " 197.0,\n",
       " 705.0,\n",
       " 1996.0,\n",
       " 494.0,\n",
       " 64.0,\n",
       " 273.0,\n",
       " 159.0,\n",
       " 48.0,\n",
       " 670.0,\n",
       " 952.0,\n",
       " 102.0,\n",
       " 52.0,\n",
       " 104.0,\n",
       " 624.0,\n",
       " 220.0,\n",
       " 278.0,\n",
       " 57.0,\n",
       " 87.0,\n",
       " 161.0,\n",
       " 166.0,\n",
       " 260.0,\n",
       " 14.0,\n",
       " 163.0,\n",
       " 307.0,\n",
       " 66.0,\n",
       " 8.0,\n",
       " 174.0,\n",
       " 245.0,\n",
       " 478.0,\n",
       " 4.0,\n",
       " 1.0,\n",
       " 4.0,\n",
       " 2.0,\n",
       " 0.0,\n",
       " 4.0,\n",
       " 7.0]"
      ]
     },
     "execution_count": 28,
     "metadata": {},
     "output_type": "execute_result"
    }
   ],
   "source": [
    "platform_clickout_property[platform_to_ind['KR']]"
   ]
  },
  {
   "cell_type": "code",
   "execution_count": 33,
   "metadata": {},
   "outputs": [],
   "source": [
    "platform_top_properties = [sorted(property_to_index, reverse=True, key=lambda prop: platform[property_to_index[prop]]) for platform in platform_clickout_property]"
   ]
  },
  {
   "cell_type": "code",
   "execution_count": 72,
   "metadata": {},
   "outputs": [
    {
     "data": {
      "text/plain": [
       "['Satisfactory Rating',\n",
       " 'Car Park',\n",
       " 'Shower',\n",
       " 'Good Rating',\n",
       " 'Television',\n",
       " 'Non-Smoking Rooms',\n",
       " 'Electric Kettle',\n",
       " 'WiFi (Rooms)',\n",
       " 'WiFi (Public Areas)',\n",
       " 'Business Hotel',\n",
       " 'Air Conditioning',\n",
       " 'Satellite TV',\n",
       " 'Openable Windows',\n",
       " 'Laundry Service',\n",
       " 'Desk',\n",
       " 'Hotel',\n",
       " 'Restaurant',\n",
       " 'Hairdryer',\n",
       " 'Free WiFi (Combined)',\n",
       " 'Luxury Hotel',\n",
       " 'From 2 Stars',\n",
       " 'Swimming Pool (Outdoor)',\n",
       " 'Hotel Bar',\n",
       " 'From 3 Stars',\n",
       " 'Swimming Pool (Combined Filter)',\n",
       " 'Family Friendly',\n",
       " 'Reception (24/7)',\n",
       " 'Conference Rooms',\n",
       " 'Terrace (Hotel)',\n",
       " 'Free WiFi (Rooms)',\n",
       " 'Safe (Rooms)',\n",
       " 'Free WiFi (Public Areas)',\n",
       " 'Very Good Rating',\n",
       " 'Beach',\n",
       " 'Room Service',\n",
       " 'Telephone',\n",
       " 'Safe (Hotel)',\n",
       " 'Bathtub',\n",
       " 'Computer with Internet',\n",
       " 'Business Centre',\n",
       " 'Deck Chairs',\n",
       " 'Cot',\n",
       " 'Concierge',\n",
       " 'Wheelchair Accessible',\n",
       " 'Fridge',\n",
       " 'Lift',\n",
       " 'Romantic',\n",
       " 'Central Heating',\n",
       " 'Sitting Area (Rooms)',\n",
       " 'Airport Shuttle',\n",
       " 'From 4 Stars',\n",
       " 'Ironing Board',\n",
       " 'Childcare',\n",
       " 'Self Catering',\n",
       " '3 Star',\n",
       " 'Microwave',\n",
       " 'Golf Course',\n",
       " 'Gym',\n",
       " 'Sun Umbrellas',\n",
       " 'Large Groups',\n",
       " 'Accessible Parking',\n",
       " 'Flatscreen TV',\n",
       " 'Washing Machine',\n",
       " 'Porter',\n",
       " 'Singles',\n",
       " 'Massage',\n",
       " 'Radio',\n",
       " 'Cable TV',\n",
       " 'Fan',\n",
       " 'Fitness',\n",
       " 'Tennis Court',\n",
       " 'Beauty Salon',\n",
       " 'Accessible Hotel',\n",
       " 'Express Check-In / Check-Out',\n",
       " 'Honeymoon',\n",
       " 'Hiking Trail',\n",
       " '4 Star',\n",
       " 'Pet Friendly',\n",
       " 'Room Service (24/7)',\n",
       " 'Spa (Wellness Facility)',\n",
       " 'Balcony',\n",
       " 'Cosmetic Mirror',\n",
       " 'House / Apartment',\n",
       " 'On-Site Boutique Shopping',\n",
       " 'Excellent Rating',\n",
       " 'Gay-friendly',\n",
       " 'Sailing',\n",
       " 'Playground',\n",
       " 'Surfing',\n",
       " 'Bike Rental',\n",
       " 'Towels',\n",
       " 'Sauna',\n",
       " 'Direct beach access',\n",
       " 'Body Treatments',\n",
       " 'Boat Rental',\n",
       " 'Hairdresser',\n",
       " 'Convenience Store',\n",
       " 'Bed & Breakfast',\n",
       " 'Country Hotel',\n",
       " 'Swimming Pool (Bar)',\n",
       " 'Diving',\n",
       " 'Convention Hotel',\n",
       " 'Horse Riding',\n",
       " 'Pool Table',\n",
       " 'Swimming Pool (Indoor)',\n",
       " 'Spa Hotel',\n",
       " 'Jacuzzi (Hotel)',\n",
       " 'Volleyball',\n",
       " 'Minigolf',\n",
       " '5 Star',\n",
       " 'Steam Room',\n",
       " 'Bowling',\n",
       " 'Serviced Apartment',\n",
       " 'Hot Stone Massage',\n",
       " 'Organised Activities',\n",
       " 'Nightclub',\n",
       " 'Halal Food',\n",
       " 'Bungalows',\n",
       " 'Casino (Hotel)',\n",
       " 'Eco-Friendly hotel',\n",
       " 'Doctor On-Site',\n",
       " 'Table Tennis',\n",
       " 'Resort',\n",
       " 'Design Hotel',\n",
       " 'Guest House',\n",
       " 'Adults Only',\n",
       " 'Health Retreat',\n",
       " 'Boutique Hotel',\n",
       " 'Hypoallergenic Rooms',\n",
       " 'Hydrotherapy',\n",
       " 'Theme Hotel',\n",
       " 'Airport Hotel',\n",
       " 'Ski Resort',\n",
       " 'Solarium',\n",
       " '2 Star',\n",
       " \"Kids' Club\",\n",
       " 'Beach Bar',\n",
       " 'Hypoallergenic Bedding',\n",
       " 'Hostel',\n",
       " 'Teleprinter',\n",
       " 'Kosher Food',\n",
       " 'Farmstay',\n",
       " 'Shooting Sports',\n",
       " 'Hammam',\n",
       " 'Tennis Court (Indoor)',\n",
       " 'Club Hotel',\n",
       " 'Senior Travellers',\n",
       " 'All Inclusive (Upon Inquiry)',\n",
       " '1 Star',\n",
       " 'Camping Site',\n",
       " 'Skiing',\n",
       " 'Motel',\n",
       " 'Water Slide',\n",
       " 'Casa Rural (ES)',\n",
       " 'Hostal (ES)',\n",
       " 'Szep Kartya',\n",
       " 'Pousada (BR)']"
      ]
     },
     "execution_count": 72,
     "metadata": {},
     "output_type": "execute_result"
    }
   ],
   "source": [
    "platform_top_properties[platform_to_ind['ZA']]"
   ]
  }
 ],
 "metadata": {
  "kernelspec": {
   "display_name": "Python 3",
   "language": "python",
   "name": "python3"
  },
  "language_info": {
   "codemirror_mode": {
    "name": "ipython",
    "version": 3
   },
   "file_extension": ".py",
   "mimetype": "text/x-python",
   "name": "python",
   "nbconvert_exporter": "python",
   "pygments_lexer": "ipython3",
   "version": "3.6.8"
  }
 },
 "nbformat": 4,
 "nbformat_minor": 2
}
