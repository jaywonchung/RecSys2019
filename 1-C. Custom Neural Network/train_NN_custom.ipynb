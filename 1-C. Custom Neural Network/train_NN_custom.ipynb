{
 "cells": [
  {
   "cell_type": "markdown",
   "metadata": {},
   "source": [
    "# Data Preprocessing and Training Data Extraction"
   ]
  },
  {
   "cell_type": "code",
   "execution_count": 1,
   "metadata": {},
   "outputs": [],
   "source": [
    "import sys\n",
    "\n",
    "import csv\n",
    "import numpy as np\n",
    "from tqdm import tqdm_notebook as tqdm"
   ]
  },
  {
   "cell_type": "code",
   "execution_count": 2,
   "metadata": {},
   "outputs": [
    {
     "data": {
      "application/vnd.jupyter.widget-view+json": {
       "model_id": "a268dd831ca0413890a62244a678540a",
       "version_major": 2,
       "version_minor": 0
      },
      "text/plain": [
       "HBox(children=(IntProgress(value=1, bar_style='info', max=1), HTML(value='')))"
      ]
     },
     "metadata": {},
     "output_type": "display_data"
    },
    {
     "name": "stdout",
     "output_type": "stream",
     "text": [
      "\n"
     ]
    },
    {
     "data": {
      "application/vnd.jupyter.widget-view+json": {
       "model_id": "e472ee0da3a14d72a84b121d6f746b4b",
       "version_major": 2,
       "version_minor": 0
      },
      "text/plain": [
       "HBox(children=(IntProgress(value=1, bar_style='info', max=1), HTML(value='')))"
      ]
     },
     "metadata": {},
     "output_type": "display_data"
    },
    {
     "name": "stdout",
     "output_type": "stream",
     "text": [
      "\n"
     ]
    },
    {
     "data": {
      "application/vnd.jupyter.widget-view+json": {
       "model_id": "b0b76b6c38eb4c58b594eec57584cf80",
       "version_major": 2,
       "version_minor": 0
      },
      "text/plain": [
       "HBox(children=(IntProgress(value=1, bar_style='info', max=1), HTML(value='')))"
      ]
     },
     "metadata": {},
     "output_type": "display_data"
    },
    {
     "name": "stdout",
     "output_type": "stream",
     "text": [
      "\n"
     ]
    }
   ],
   "source": [
    "item_ids = set()\n",
    "with open('../Dataset/item_metadata.csv', 'r') as f:\n",
    "    reader = csv.reader(f)\n",
    "    next(reader)\n",
    "    \n",
    "    for line in tqdm(reader):\n",
    "        item_ids.add(int(line[0]))\n",
    "        \n",
    "with open('../Dataset/train.csv', 'r') as f:\n",
    "    reader = csv.reader(f)\n",
    "    next(reader)\n",
    "    \n",
    "    for line in tqdm(reader):\n",
    "        if line[4] in ['clickout item', 'interaction item deals', 'interaction item image', 'interaction item info',  'interaction item rating',  'search for item'] and line[5].isdigit():\n",
    "            item_ids.add(int(line[5]))\n",
    "        if line[10] != '':\n",
    "            item_ids.update(set(list(map(int, line[10].split('|')))))\n",
    "            \n",
    "with open('../Dataset/test.csv', 'r') as f:\n",
    "    reader = csv.reader(f)\n",
    "    next(reader)\n",
    "    \n",
    "    for line in tqdm(reader):\n",
    "        if line[4] in ['clickout item', 'interaction item deals', 'interaction item image', 'interaction item info',  'interaction item rating',  'search for item']  and line[5].isdigit():\n",
    "            item_ids.add(int(line[5]))\n",
    "        if line[10] != '':\n",
    "            item_ids.update(set(list(map(int, line[10].split('|')))))"
   ]
  },
  {
   "cell_type": "code",
   "execution_count": 3,
   "metadata": {},
   "outputs": [
    {
     "data": {
      "application/vnd.jupyter.widget-view+json": {
       "model_id": "380cb53a1abb4a468a4e7e06071bd70a",
       "version_major": 2,
       "version_minor": 0
      },
      "text/plain": [
       "HBox(children=(IntProgress(value=1, bar_style='info', max=1), HTML(value='')))"
      ]
     },
     "metadata": {},
     "output_type": "display_data"
    },
    {
     "name": "stdout",
     "output_type": "stream",
     "text": [
      "\n"
     ]
    }
   ],
   "source": [
    "property_to_index = {}\n",
    "with open('../Dataset/item_metadata.csv', 'r') as f:\n",
    "    reader = csv.reader(f)\n",
    "    next(reader)\n",
    "    \n",
    "    index = 0\n",
    "    for line in tqdm(reader):\n",
    "        for prop in line[1].split('|'):\n",
    "            if prop not in property_to_index:\n",
    "                property_to_index[prop] = index\n",
    "                index += 1"
   ]
  },
  {
   "cell_type": "code",
   "execution_count": 4,
   "metadata": {},
   "outputs": [
    {
     "data": {
      "application/vnd.jupyter.widget-view+json": {
       "model_id": "1af0e3e82e5047f9a68066194e2ed3c4",
       "version_major": 2,
       "version_minor": 0
      },
      "text/plain": [
       "HBox(children=(IntProgress(value=1, bar_style='info', max=1), HTML(value='')))"
      ]
     },
     "metadata": {},
     "output_type": "display_data"
    },
    {
     "name": "stdout",
     "output_type": "stream",
     "text": [
      "\n"
     ]
    }
   ],
   "source": [
    "item_to_property = {}\n",
    "\n",
    "for item in item_ids:\n",
    "    item_to_property[item] = np.zeros(157)\n",
    "\n",
    "with open('../Dataset/item_metadata.csv', 'r') as f:\n",
    "    reader = csv.reader(f)\n",
    "    next(reader)\n",
    "    \n",
    "    for line in tqdm(reader):\n",
    "        for prop in line[1].split('|'):\n",
    "            item_to_property[int(line[0])][property_to_index[prop]] = 1"
   ]
  },
  {
   "cell_type": "code",
   "execution_count": 5,
   "metadata": {},
   "outputs": [],
   "source": [
    "user = set()\n",
    "action_type = set()\n",
    "platform = set()\n",
    "city = set()\n",
    "device = set()\n",
    "current_filters = set()"
   ]
  },
  {
   "cell_type": "code",
   "execution_count": 6,
   "metadata": {},
   "outputs": [
    {
     "data": {
      "application/vnd.jupyter.widget-view+json": {
       "model_id": "d371d1daefb54830b4553d2205be643a",
       "version_major": 2,
       "version_minor": 0
      },
      "text/plain": [
       "HBox(children=(IntProgress(value=1, bar_style='info', max=1), HTML(value='')))"
      ]
     },
     "metadata": {},
     "output_type": "display_data"
    },
    {
     "name": "stdout",
     "output_type": "stream",
     "text": [
      "\n"
     ]
    },
    {
     "data": {
      "application/vnd.jupyter.widget-view+json": {
       "model_id": "76e29118d4be495889465bdda58ae470",
       "version_major": 2,
       "version_minor": 0
      },
      "text/plain": [
       "HBox(children=(IntProgress(value=1, bar_style='info', max=1), HTML(value='')))"
      ]
     },
     "metadata": {},
     "output_type": "display_data"
    },
    {
     "name": "stdout",
     "output_type": "stream",
     "text": [
      "\n"
     ]
    }
   ],
   "source": [
    "with open('../Dataset/train.csv') as f:\n",
    "    reader = csv.reader(f)\n",
    "    next(reader)\n",
    "    \n",
    "    for line in tqdm(reader):\n",
    "        user.add(line[0])\n",
    "        action_type.add(line[4])\n",
    "        platform.add(line[6])\n",
    "        city.add(line[7])\n",
    "        device.add(line[8])\n",
    "        if line[9]:\n",
    "            for filter in line[9].split('|'):\n",
    "                current_filters.add(filter)\n",
    "            \n",
    "with open('../Dataset/test.csv') as f:\n",
    "    reader = csv.reader(f)\n",
    "    next(reader)\n",
    "    \n",
    "    for line in tqdm(reader):\n",
    "        user.add(line[0])\n",
    "        action_type.add(line[4])\n",
    "        platform.add(line[6])\n",
    "        city.add(line[7])\n",
    "        device.add(line[8])\n",
    "        if line[9]:\n",
    "            for filter in line[9].split('|'):\n",
    "                current_filters.add(filter)"
   ]
  },
  {
   "cell_type": "code",
   "execution_count": 7,
   "metadata": {},
   "outputs": [],
   "source": [
    "user = sorted(list(user))\n",
    "action_type = sorted(list(action_type))\n",
    "platform = sorted(list(platform))\n",
    "city = sorted(list(city))\n",
    "device = sorted(list(device))\n",
    "current_filters = sorted(list(current_filters))"
   ]
  },
  {
   "cell_type": "code",
   "execution_count": 8,
   "metadata": {},
   "outputs": [],
   "source": [
    "user_to_ind = {user[i]:i for i in range(len(user))}\n",
    "action_to_ind = {action_type[i]:i for i in range(len(action_type))}\n",
    "platform_to_ind = {platform[i]:i for i in range(len(platform))}\n",
    "city_to_ind = {city[i]:i for i in range(len(city))}\n",
    "device_to_ind = {device[i]:i for i in range(len(device))}\n",
    "current_filters_to_ind = {current_filters[i]:i for i in range(len(current_filters))}"
   ]
  },
  {
   "cell_type": "code",
   "execution_count": 9,
   "metadata": {},
   "outputs": [
    {
     "data": {
      "application/vnd.jupyter.widget-view+json": {
       "model_id": "843b118296e140d682b24f35f01e0e0b",
       "version_major": 2,
       "version_minor": 0
      },
      "text/plain": [
       "HBox(children=(IntProgress(value=1, bar_style='info', max=1), HTML(value='')))"
      ]
     },
     "metadata": {},
     "output_type": "display_data"
    },
    {
     "name": "stdout",
     "output_type": "stream",
     "text": [
      "\n"
     ]
    },
    {
     "data": {
      "application/vnd.jupyter.widget-view+json": {
       "model_id": "68abc0552d6549ca9f92f673ca31b325",
       "version_major": 2,
       "version_minor": 0
      },
      "text/plain": [
       "HBox(children=(IntProgress(value=1, bar_style='info', max=1), HTML(value='')))"
      ]
     },
     "metadata": {},
     "output_type": "display_data"
    },
    {
     "name": "stdout",
     "output_type": "stream",
     "text": [
      "\n"
     ]
    }
   ],
   "source": [
    "reference = [set() for _ in range(10)]\n",
    "with open('../Dataset/train.csv') as f:\n",
    "    reader = csv.reader(f)\n",
    "    next(reader)\n",
    "    \n",
    "    for line in tqdm(reader):\n",
    "        reference[action_to_ind[line[4]]].add(line[5])\n",
    "\n",
    "with open('../Dataset/test.csv') as f:\n",
    "    reader = csv.reader(f)\n",
    "    next(reader)\n",
    "    \n",
    "    for line in tqdm(reader):\n",
    "        reference[action_to_ind[line[4]]].add(line[5])"
   ]
  },
  {
   "cell_type": "code",
   "execution_count": 10,
   "metadata": {},
   "outputs": [],
   "source": [
    "# reference_to_ind[i]: dictionary object that maps reference string of action_type[i] to integer index\n",
    "\n",
    "reference_to_ind = [{} for _ in range(10)]\n",
    "for i in range(10):\n",
    "    reference_i = list(reference[i])\n",
    "    \n",
    "    if i in [1, 3, 4, 5, 6, 8]:    # for items, non-item-index references are mapped to zero. item-indexes are mapped to itself.\n",
    "        for j in range(len(reference_i)):\n",
    "            if reference_i[j] in ['', 'Estació de Sants', 'Shinjuku Station', 'Lower Manhattan', 'Miyako Airport', 'unknown']:\n",
    "                reference_to_ind[i][reference_i[j]] = 0\n",
    "            else:\n",
    "                reference_to_ind[i][reference_i[j]] = int(reference_i[j])\n",
    "    else:   # for non-items, reference values are indexed from 0 to number_of_references-1\n",
    "        reference_to_ind[i].update({reference_i[j]:j for j in range(len(reference_i))})"
   ]
  },
  {
   "cell_type": "code",
   "execution_count": 11,
   "metadata": {},
   "outputs": [],
   "source": [
    "def embed_session(session):\n",
    "    # session: a python list of all lines in the session where its action_type references **an item**\n",
    "    \n",
    "    # first timestamp of the session\n",
    "    base_time = int(session[0][2])\n",
    "    \n",
    "    # initialize session embedding matrix\n",
    "    sess = np.zeros((len(session), 366))\n",
    "    \n",
    "    for i in range(len(session)):\n",
    "        sess[i][0] = int(session[i][2])-base_time\n",
    "        sess[i][1] = platform_to_ind[session[i][6]]\n",
    "        sess[i][2] = city_to_ind[session[i][7]]\n",
    "        sess[i][3] = device_to_ind[session[i][8]]\n",
    "        if session[i][5].isdigit():\n",
    "            sess[i][4:161] = item_to_property[int(session[i][5])]\n",
    "        if session[i][9]:\n",
    "            for f in session[i][9].split('|'):\n",
    "                sess[i][161+int(current_filters_to_ind[f])] += 1.0\n",
    "        \n",
    "    return sess"
   ]
  },
  {
   "cell_type": "code",
   "execution_count": 12,
   "metadata": {},
   "outputs": [
    {
     "data": {
      "application/vnd.jupyter.widget-view+json": {
       "model_id": "2d602d49ea404c82b9346a3a0320656b",
       "version_major": 2,
       "version_minor": 0
      },
      "text/plain": [
       "HBox(children=(IntProgress(value=1, bar_style='info', max=1), HTML(value='')))"
      ]
     },
     "metadata": {},
     "output_type": "display_data"
    },
    {
     "name": "stdout",
     "output_type": "stream",
     "text": [
      "\n"
     ]
    }
   ],
   "source": [
    "x = []\n",
    "y = []\n",
    "choices = []\n",
    "prices = []\n",
    "\n",
    "with open('../Dataset/train.csv', 'r') as f:\n",
    "    reader = csv.reader(f)\n",
    "    next(reader)\n",
    "    \n",
    "    sess = []\n",
    "    \n",
    "    for line in tqdm(reader):\n",
    "        if line[3]=='1' and len(sess) > 0:      # first action of the next session met\n",
    "            if sess[-1][4] == 'clickout item':   # take into the traing dataset only if the last action was 'clickout item'.\n",
    "                x.append(embed_session(sess))\n",
    "                choices.append(np.asarray(list(map(int, sess[-1][10].split('|')))))\n",
    "                prices.append(np.asarray(list(map(int, sess[-1][11].split('|')))))\n",
    "                for i in range(len(choices[-1])):\n",
    "                    if choices[-1][i] == int(sess[-1][5]):\n",
    "                        y.append(i)\n",
    "                        break\n",
    "                else:\n",
    "                    x.pop(-1)\n",
    "                    choices.pop(-1)\n",
    "                    prices.pop(-1)\n",
    "            sess = []\n",
    "        # Only collect actions that reference **an item**.\n",
    "        if line[4] in ['clickout item', 'interaction item rating', 'interaction item info', 'interaction item image', 'interaction item deals', 'search for item']:\n",
    "            sess.append(line)\n",
    "    \n",
    "    # For the last session\n",
    "    if sess[-1][4] == 'clickout item':\n",
    "        x.append(embed_session(np.array(sess)))\n",
    "        choices.append(np.asarray(list(map(int, sess[-1][10].split('|')))))\n",
    "        prices.append(np.asarray(list(map(int, sess[-1][11].split('|')))))\n",
    "        for i in range(len(choices[-1])):\n",
    "            if choices[-1][i] == int(sess[-1][5]):\n",
    "                y.append(i)\n",
    "                break\n",
    "        else:\n",
    "            x.pop(-1)\n",
    "            choices.pop(-1)\n",
    "            prices.pop(-1)"
   ]
  },
  {
   "cell_type": "code",
   "execution_count": 13,
   "metadata": {},
   "outputs": [
    {
     "name": "stdout",
     "output_type": "stream",
     "text": [
      "min: 1, max: 25\n",
      "len(mask): 676718\n"
     ]
    }
   ],
   "source": [
    "M = -1\n",
    "m = 26\n",
    "mask = []\n",
    "for i in range(len(choices)):\n",
    "    mask.append(len(choices[i]))\n",
    "    if M < mask[-1]:\n",
    "        M = mask[-1]\n",
    "    if m >  mask[-1]:\n",
    "        m =  mask[-1]\n",
    "print(f\"min: {m}, max: {M}\")\n",
    "print(f\"len(mask): {len(mask)}\")"
   ]
  },
  {
   "cell_type": "code",
   "execution_count": 14,
   "metadata": {},
   "outputs": [
    {
     "data": {
      "application/vnd.jupyter.widget-view+json": {
       "model_id": "d7e574b7e30e4c809169eaac79b736a7",
       "version_major": 2,
       "version_minor": 0
      },
      "text/plain": [
       "HBox(children=(IntProgress(value=0, max=676718), HTML(value='')))"
      ]
     },
     "metadata": {},
     "output_type": "display_data"
    },
    {
     "name": "stdout",
     "output_type": "stream",
     "text": [
      "\n"
     ]
    }
   ],
   "source": [
    "item = []\n",
    "for i in tqdm(range(len(choices))):\n",
    "    choice_items = []\n",
    "    for j in range(len(choices[i])):\n",
    "        choice_items.append(np.append(item_to_property[choices[i][j]], prices[i][j]))\n",
    "    \n",
    "    # for sessions with less than 25 impressions, the item vector is padded with zeros.\n",
    "    for j in range(25-len(choices[i])):\n",
    "        choice_items.append(np.zeros(158))\n",
    "    tmp = np.asarray(choice_items, dtype=np.double)\n",
    "    \n",
    "    item.append(tmp)"
   ]
  },
  {
   "cell_type": "markdown",
   "metadata": {},
   "source": [
    "# Model Definition and Training"
   ]
  },
  {
   "cell_type": "code",
   "execution_count": 12,
   "metadata": {},
   "outputs": [],
   "source": [
    "import torch\n",
    "import torch.nn as nn\n",
    "import torch.nn.functional as F\n",
    "import torch.optim as optim\n",
    "import torch.utils.data\n",
    "\n",
    "import matplotlib.pyplot as plt\n",
    "\n",
    "import math"
   ]
  },
  {
   "cell_type": "code",
   "execution_count": 13,
   "metadata": {},
   "outputs": [],
   "source": [
    "class CNN(nn.Module):\n",
    "    \n",
    "    def __init__(self, session_dim, item_dim):\n",
    "        super().__init__()\n",
    "        \n",
    "        self.session_embed = nn.LSTM(session_dim, 128, 4, batch_first=True)\n",
    "        \n",
    "        self.item_BN = nn.BatchNorm1d(25)\n",
    "        \n",
    "        self.item_embed = nn.Sequential(\n",
    "            nn.Linear(item_dim, 128),\n",
    "            nn.ReLU(),\n",
    "            nn.Linear(128, 64),\n",
    "            nn.ReLU()\n",
    "        )\n",
    "        \n",
    "        self.relative_attractiveness = nn.Sequential(\n",
    "            nn.Conv1d(in_channels=25, out_channels=25, kernel_size=16, stride=4, groups=25, bias=False),\n",
    "            nn.ReLU(),\n",
    "            nn.Conv1d(in_channels=25, out_channels=25, kernel_size=5, stride=2, groups=25, bias=False),\n",
    "            nn.ReLU(),\n",
    "            nn.AvgPool1d(5)\n",
    "        )\n",
    "        \n",
    "        self.predict = nn.Sequential(\n",
    "            nn.BatchNorm1d(25),\n",
    "            nn.Linear(128+64, 64),\n",
    "            nn.ReLU(),\n",
    "            nn.Linear(64, 16),\n",
    "            nn.ReLU(),\n",
    "            nn.Linear(16, 1),\n",
    "            nn.ReLU()\n",
    "        )\n",
    "        \n",
    "        for m in self.modules():\n",
    "            if isinstance(m, nn.Linear) or isinstance(m, nn.Conv1d):\n",
    "                nn.init.kaiming_normal_(m.weight, nonlinearity='relu')\n",
    "                if isinstance(m, nn.Linear):\n",
    "                    m.bias.data.fill_(0)\n",
    "        \n",
    "    def forward(self, sessions, items):\n",
    "        \"\"\"\n",
    "        input\n",
    "            items: (batch_size, 25, 158)\n",
    "            session: (batch_size, max_seq_length, 366)\n",
    "            \n",
    "        output\n",
    "            scores: (batch_size, 25)   # should be masked later for sessions with impressions fewer than 25\n",
    "        \"\"\"\n",
    "        batch_size = items.shape[0]\n",
    "        \n",
    "        embedded_items = self.item_embed(self.item_BN(items))\n",
    "        \n",
    "        attractive_scores = self.relative_attractiveness(embedded_items).squeeze(2)\n",
    "        \n",
    "        _, (_, cn) = self.session_embed(sessions)\n",
    "        embedded_sessions = cn[-1].unsqueeze(1).repeat(1, 25, 1)\n",
    "        \n",
    "        item_session_concat = torch.cat((embedded_items, embedded_sessions), dim=2)\n",
    "        \n",
    "        return self.predict(item_session_concat).squeeze(2) + attractive_scores"
   ]
  },
  {
   "cell_type": "code",
   "execution_count": 14,
   "metadata": {},
   "outputs": [],
   "source": [
    "class RecSys2019(torch.utils.data.Dataset):\n",
    "    def __init__(self, split):\n",
    "        assert split in ['train', 'test']\n",
    "        self.split = split\n",
    "        if self.split == 'train':\n",
    "            self.sessions = x\n",
    "            self.items = item\n",
    "            self.masks = mask\n",
    "            self.y = y\n",
    "        else:\n",
    "            self.sessions = x_test\n",
    "            self.items = item_test\n",
    "            self.masks = mask_test\n",
    "            self.metadata = metadata_test\n",
    "        \n",
    "    def __getitem__(self, ind):\n",
    "        if self.split == 'train':\n",
    "            return torch.Tensor(self.sessions[ind]), self.items[ind], self.masks[ind], self.y[ind]\n",
    "        else:\n",
    "            return torch.Tensor(self.sessions[ind]), self.items[ind], self.masks[ind], self.metadata[ind]\n",
    "\n",
    "    def __len__(self):\n",
    "        if self.split == 'train':\n",
    "            assert len(self.sessions) == len(self.items) and len(self.items) == len(self.masks) and len(self.masks) == len(self.y)\n",
    "            return len(self.sessions)\n",
    "        else:\n",
    "            assert len(self.sessions) == len(self.items) and len(self.items) == len(self.masks) and len(self.masks) == len(self.metadata)\n",
    "            return len(self.sessions)"
   ]
  },
  {
   "cell_type": "code",
   "execution_count": 18,
   "metadata": {},
   "outputs": [],
   "source": [
    "def pad_and_pack(batch):   # batch: a list of tuples of composition (sessions, items, masks, y)\n",
    "    sessions = [item[0] for item in batch]\n",
    "    lengths = [sess.shape[0] for sess in sessions]\n",
    "    padded_sessions = nn.utils.rnn.pad_sequence(sessions, batch_first=True)\n",
    "    packed_sessions = nn.utils.rnn.pack_padded_sequence(padded_sessions, lengths, batch_first=True, enforce_sorted=False)\n",
    "    \n",
    "    return (packed_sessions, \n",
    "                 torch.Tensor([item[1] for item in batch]), \n",
    "                 torch.LongTensor([item[2] for item in batch]), \n",
    "                 torch.LongTensor([item[3] for item in batch]))"
   ]
  },
  {
   "cell_type": "code",
   "execution_count": 19,
   "metadata": {},
   "outputs": [],
   "source": [
    "def BPRloss(pred, y, mask):\n",
    "    \"\"\"\n",
    "    Input:\n",
    "        pred : (batch_size, 25). the scores output from the model.\n",
    "        y       : (batch_size,). the scores of the labels of each session in the batch.\n",
    "        mask: (batch_size,), the actual number of items in the impression.\n",
    "        \n",
    "    Output:\n",
    "        Mean BPR loss across the batch is returned.\n",
    "    \"\"\"\n",
    "    \n",
    "    # Each session has a different number of item choices (from 1 to 25) in the 'impression' column. \n",
    "    # However for the ease of implementation, we have zero-padded the later part of all item choices that were shorter than 25.\n",
    "    # Thus the FM model always calculates 25 scores for any session.\n",
    "    # Hence in computing the loss, we must mask the prediction scores for the zero-padded items.\n",
    "    \n",
    "    # pred_mask[i] = 1 if i < mask[i] else 0.\n",
    "    pred_mask = torch.arange(25).repeat(pred.shape[0], 1).to(device) < mask.unsqueeze(1)\n",
    "    \n",
    "    return torch.mean(-torch.sum(F.logsigmoid(y.unsqueeze(1)-pred) * pred_mask.float(), dim=1)/mask.float())"
   ]
  },
  {
   "cell_type": "code",
   "execution_count": 20,
   "metadata": {},
   "outputs": [],
   "source": [
    "def TOP1loss(pred, y, mask):\n",
    "    \"\"\"\n",
    "    Input:\n",
    "        pred : (batch_size, 25). the scores output from the model.\n",
    "        y       : (batch_size,). the scores of the labels of each session in the batch.\n",
    "        mask: (batch_size,), the actual number of items in the impression.\n",
    "        \n",
    "    Output:\n",
    "        Mean TOP1 loss across the batch is returned.\n",
    "    \"\"\"\n",
    "    \n",
    "    # Each session has a different number of item choices (from 1 to 25) in the 'impression' column. \n",
    "    # However for the ease of implementation, we have zero-padded the later part of all item choices that were shorter than 25.\n",
    "    # Thus the FM model always calculates 25 scores for any session.\n",
    "    # Hence in computing the loss, we must mask the prediction scores for the zero-padded items.\n",
    "    \n",
    "    # pred_mask[i] = 1 if i < mask[i] else 0.\n",
    "    pred_mask = torch.arange(25).repeat(pred.shape[0], 1).to(device) < mask.unsqueeze(1)\n",
    "    \n",
    "    term1 = torch.sigmoid(pred-y.unsqueeze(1))\n",
    "    term2 = torch.sigmoid(pred**2)\n",
    "    \n",
    "    return torch.mean(torch.sum((term1 + term2) * pred_mask.float(), dim=1) / mask.float())"
   ]
  },
  {
   "cell_type": "code",
   "execution_count": 15,
   "metadata": {},
   "outputs": [],
   "source": [
    "device = 'cuda'"
   ]
  },
  {
   "cell_type": "code",
   "execution_count": 27,
   "metadata": {},
   "outputs": [],
   "source": [
    "BPR_model = CNN(session_dim=366, item_dim=158).to(device)\n",
    "\n",
    "BPR_train_loader = torch.utils.data.DataLoader(RecSys2019('train'), batch_size=64, shuffle=True, collate_fn=pad_and_pack)\n",
    "\n",
    "BPR_optimizer = optim.SGD(BPR_model.parameters(), lr=0.01)"
   ]
  },
  {
   "cell_type": "code",
   "execution_count": 28,
   "metadata": {},
   "outputs": [],
   "source": [
    "epochs = 5\n",
    "print_every = 5"
   ]
  },
  {
   "cell_type": "code",
   "execution_count": 29,
   "metadata": {},
   "outputs": [
    {
     "name": "stdout",
     "output_type": "stream",
     "text": [
      "Epoch  5/ 5\tLoss: 0.4791919\tProgress: [10571/10574 (100%)]      \r"
     ]
    }
   ],
   "source": [
    "BPR_loss_hist = []\n",
    "BPR_model.train()\n",
    "\n",
    "for epoch in range(epochs):\n",
    "        for batch_ind, (session_train, item_train, mask_train, y_train) in enumerate(BPR_train_loader):\n",
    "            session_train, item_train, mask_train, y_train = session_train.cuda(), item_train.to(device), mask_train.to(device), y_train.to(device)\n",
    "\n",
    "            pred_train = BPR_model(session_train, item_train)\n",
    "\n",
    "            loss = BPRloss(pred_train, pred_train[torch.arange(pred_train.shape[0]), y_train.long()], mask_train)\n",
    "            BPR_loss_hist.append(loss.data)\n",
    "\n",
    "            BPR_optimizer.zero_grad()\n",
    "            loss.backward()\n",
    "            BPR_optimizer.step()\n",
    "\n",
    "            if batch_ind % print_every == 0:\n",
    "                train_log = 'Epoch {:2d}/{:2d}\\tLoss: {:.7f}\\tProgress: [{}/{} ({:.0f}%)]      '.format(\n",
    "                    epoch+1, epochs, loss.cpu().item(), batch_ind+1, len(BPR_train_loader), 100. * batch_ind / len(BPR_train_loader))\n",
    "                print(train_log, end='\\r')\n",
    "                sys.stdout.flush()"
   ]
  },
  {
   "cell_type": "code",
   "execution_count": 30,
   "metadata": {},
   "outputs": [
    {
     "data": {
      "text/plain": [
       "[<matplotlib.lines.Line2D at 0x7fdf5a288e10>]"
      ]
     },
     "execution_count": 30,
     "metadata": {},
     "output_type": "execute_result"
    },
    {
     "data": {
      "image/png": "[encoded data removed]",
      "text/plain": [
       "<Figure size 432x288 with 1 Axes>"
      ]
     },
     "metadata": {
      "needs_background": "light"
     },
     "output_type": "display_data"
    }
   ],
   "source": [
    "plt.title('Neural Network')\n",
    "plt.xlabel('iters')\n",
    "plt.ylabel('BPR Loss')\n",
    "plt.plot(BPR_loss_hist)"
   ]
  },
  {
   "cell_type": "code",
   "execution_count": 31,
   "metadata": {},
   "outputs": [],
   "source": [
    "epochs = 10\n",
    "print_every = 5"
   ]
  },
  {
   "cell_type": "code",
   "execution_count": null,
   "metadata": {},
   "outputs": [
    {
     "name": "stdout",
     "output_type": "stream",
     "text": [
      "Epoch 15/15\tLoss: 0.4621633\tProgress: [8296/10574 (78%)]        \r"
     ]
    }
   ],
   "source": [
    "BPR_optimizer = optim.SGD(BPR_model.parameters(), lr=0.001)\n",
    "\n",
    "for epoch in range(epochs):\n",
    "        for batch_ind, (session_train, item_train, mask_train, y_train) in enumerate(BPR_train_loader):\n",
    "            session_train, item_train, mask_train, y_train = session_train.cuda(), item_train.to(device), mask_train.to(device), y_train.to(device)\n",
    "\n",
    "            pred_train = BPR_model(session_train, item_train)\n",
    "\n",
    "            loss = BPRloss(pred_train, pred_train[torch.arange(pred_train.shape[0]), y_train.long()], mask_train)\n",
    "            BPR_loss_hist.append(loss.data)\n",
    "\n",
    "            BPR_optimizer.zero_grad()\n",
    "            loss.backward()\n",
    "            BPR_optimizer.step()\n",
    "\n",
    "            if batch_ind % print_every == 0:\n",
    "                train_log = 'Epoch {:2d}/{:2d}\\tLoss: {:.7f}\\tProgress: [{}/{} ({:.0f}%)]      '.format(\n",
    "                    epoch+6, epochs+5, loss.cpu().item(), batch_ind+1, len(BPR_train_loader), 100. * batch_ind / len(BPR_train_loader))\n",
    "                print(train_log, end='\\r')\n",
    "                sys.stdout.flush()"
   ]
  },
  {
   "cell_type": "code",
   "execution_count": null,
   "metadata": {},
   "outputs": [],
   "source": [
    "torch.save(BPR_model, 'NN-e15-BPR')"
   ]
  },
  {
   "cell_type": "code",
   "execution_count": null,
   "metadata": {},
   "outputs": [],
   "source": [
    "plt.title('Neural Network')\n",
    "plt.xlabel('iters')\n",
    "plt.ylabel('BPR Loss')\n",
    "plt.plot(BPR_loss_hist)"
   ]
  },
  {
   "cell_type": "markdown",
   "metadata": {},
   "source": [
    "# Inference and Submission Data Generation"
   ]
  },
  {
   "cell_type": "code",
   "execution_count": 17,
   "metadata": {},
   "outputs": [
    {
     "data": {
      "application/vnd.jupyter.widget-view+json": {
       "model_id": "f8e192228b394b118cbbd967bc752762",
       "version_major": 2,
       "version_minor": 0
      },
      "text/plain": [
       "HBox(children=(IntProgress(value=1, bar_style='info', max=1), HTML(value='')))"
      ]
     },
     "metadata": {},
     "output_type": "display_data"
    },
    {
     "name": "stdout",
     "output_type": "stream",
     "text": [
      "\n"
     ]
    }
   ],
   "source": [
    "x_test = []\n",
    "choices_test = []\n",
    "prices_test = []\n",
    "metadata_test = []\n",
    "\n",
    "with open('../Dataset/test.csv', 'r') as f:\n",
    "    reader = csv.reader(f)\n",
    "    next(reader)\n",
    "\n",
    "    sess = []\n",
    "    during_session = True\n",
    "\n",
    "    for line in tqdm(reader):\n",
    "        if during_session and line[4] in ['clickout item', 'interaction item rating', 'interaction item info', 'interaction item image', 'interaction item deals', 'search for item']:\n",
    "            sess.append(line)\n",
    "        elif not during_session and line[3]=='1':\n",
    "            sess.append(line)\n",
    "            during_session = True\n",
    "        if line[4]=='clickout item' and line[5]=='':\n",
    "            during_session = False\n",
    "            x_test.append(embed_session(np.array(sess)))\n",
    "            choices_test.append(np.asarray(list(map(int, sess[-1][10].split('|')))))\n",
    "            prices_test.append(np.asarray(list(map(int, sess[-1][11].split('|')))))\n",
    "            metadata_test.append(line[0:4] + [line[10]])\n",
    "            sess = []"
   ]
  },
  {
   "cell_type": "code",
   "execution_count": 18,
   "metadata": {},
   "outputs": [
    {
     "name": "stdout",
     "output_type": "stream",
     "text": [
      "min: 1, max: 25\n",
      "len(mask): 253573\n"
     ]
    }
   ],
   "source": [
    "M = -1\n",
    "m = 26\n",
    "mask_test = []\n",
    "for i in range(len(choices_test)):\n",
    "    mask_test.append(len(choices_test[i]))\n",
    "    if M < mask_test[-1]:\n",
    "        M = mask_test[-1]\n",
    "    if m >  mask_test[-1]:\n",
    "        m =  mask_test[-1]\n",
    "print(f\"min: {m}, max: {M}\")\n",
    "print(f\"len(mask): {len(mask_test)}\")"
   ]
  },
  {
   "cell_type": "code",
   "execution_count": 19,
   "metadata": {},
   "outputs": [
    {
     "data": {
      "application/vnd.jupyter.widget-view+json": {
       "model_id": "0dde0ff262bf420db8329ddcb1f809da",
       "version_major": 2,
       "version_minor": 0
      },
      "text/plain": [
       "HBox(children=(IntProgress(value=0, max=253573), HTML(value='')))"
      ]
     },
     "metadata": {},
     "output_type": "display_data"
    },
    {
     "name": "stdout",
     "output_type": "stream",
     "text": [
      "\n"
     ]
    }
   ],
   "source": [
    "item_test = []\n",
    "for i in tqdm(range(len(choices_test))):\n",
    "    choice_items = []\n",
    "    for j in range(len(choices_test[i])):\n",
    "        choice_items.append(np.append(item_to_property[choices_test[i][j]], prices_test[i][j]))\n",
    "    \n",
    "    # for sessions with less than 25 impressions, the item vector is padded with zeros.\n",
    "    for j in range(25-len(choices_test[i])):\n",
    "        choice_items.append(np.zeros(158))\n",
    "    tmp = np.asarray(choice_items, dtype=np.double)\n",
    "    \n",
    "    item_test.append(tmp)"
   ]
  },
  {
   "cell_type": "code",
   "execution_count": 20,
   "metadata": {},
   "outputs": [],
   "source": [
    "BPR_model = torch.load('CNN-e15-BPR').to(device)"
   ]
  },
  {
   "cell_type": "code",
   "execution_count": 21,
   "metadata": {},
   "outputs": [],
   "source": [
    "def pad_and_pack_test(batch):   # batch: a list of tuples of composition (sessions, items, masks, y)\n",
    "    sessions = [item[0] for item in batch]\n",
    "    lengths = [sess.shape[0] for sess in sessions]\n",
    "    padded_sessions = nn.utils.rnn.pad_sequence(sessions, batch_first=True)\n",
    "    packed_sessions = nn.utils.rnn.pack_padded_sequence(padded_sessions, lengths, batch_first=True, enforce_sorted=False)\n",
    "    \n",
    "    return (packed_sessions, \n",
    "                 torch.Tensor([item[1] for item in batch]), \n",
    "                 torch.LongTensor([item[2] for item in batch]), \n",
    "                 [item[3] for item in batch])"
   ]
  },
  {
   "cell_type": "code",
   "execution_count": null,
   "metadata": {},
   "outputs": [
    {
     "name": "stdout",
     "output_type": "stream",
     "text": [
      "Progress: [245233/253573 (97%)]         \r"
     ]
    }
   ],
   "source": [
    "test_loader = torch.utils.data.DataLoader(RecSys2019('test'), shuffle=False, batch_size=1, collate_fn=pad_and_pack_test)\n",
    "\n",
    "BPR_model.eval()\n",
    "\n",
    "with open('CNN-BPR-e15-submission.csv', 'w') as w:\n",
    "    writer = csv.writer(w)\n",
    "    writer.writerow(['user_id', 'session_id', 'timestamp', 'step', 'item_recommendations'])\n",
    "    \n",
    "    for data_ind, (session_data, item_data, mask_data, metadata) in enumerate(test_loader):\n",
    "        session_data, item_data, mask_data = session_data.cuda(), item_data.to(device), mask_data.to(device)\n",
    "        \n",
    "        prediction = BPR_model(session_data, item_data)\n",
    "        \n",
    "        pred_list = [p.item() for p in prediction[0]]\n",
    "        choices = metadata[0][4].split('|')\n",
    "\n",
    "        writer.writerow(metadata[0][0:4]+[' '.join(sorted(choices, reverse=True, key=lambda item : pred_list[choices.index(item)]))])\n",
    "        \n",
    "        test_log = f'Progress: [{data_ind+1:06d}/{len(test_loader)} ({100.*data_ind/len(test_loader):.0f}%)]         '\n",
    "        print(test_log, end='\\r')\n",
    "        sys.stdout.flush()"
   ]
  }
 ],
 "metadata": {
  "kernelspec": {
   "display_name": "Python 3",
   "language": "python",
   "name": "python3"
  },
  "language_info": {
   "codemirror_mode": {
    "name": "ipython",
    "version": 3
   },
   "file_extension": ".py",
   "mimetype": "text/x-python",
   "name": "python",
   "nbconvert_exporter": "python",
   "pygments_lexer": "ipython3",
   "version": "3.6.8"
  }
 },
 "nbformat": 4,
 "nbformat_minor": 2
}
