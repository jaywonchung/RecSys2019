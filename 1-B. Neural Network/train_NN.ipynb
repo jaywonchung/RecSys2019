{
 "cells": [
  {
   "cell_type": "code",
   "execution_count": 1,
   "metadata": {},
   "outputs": [],
   "source": [
    "import sys\n",
    "\n",
    "import csv\n",
    "import numpy as np\n",
    "from tqdm import tqdm_notebook as tqdm"
   ]
  },
  {
   "cell_type": "code",
   "execution_count": 2,
   "metadata": {},
   "outputs": [
    {
     "data": {
      "application/vnd.jupyter.widget-view+json": {
       "model_id": "4e5754d2de774b22868e092da9efde41",
       "version_major": 2,
       "version_minor": 0
      },
      "text/plain": [
       "HBox(children=(IntProgress(value=1, bar_style='info', max=1), HTML(value='')))"
      ]
     },
     "metadata": {},
     "output_type": "display_data"
    },
    {
     "name": "stdout",
     "output_type": "stream",
     "text": [
      "\n"
     ]
    },
    {
     "data": {
      "application/vnd.jupyter.widget-view+json": {
       "model_id": "dfdb0963b9484a47a2aeb5ff1c006962",
       "version_major": 2,
       "version_minor": 0
      },
      "text/plain": [
       "HBox(children=(IntProgress(value=1, bar_style='info', max=1), HTML(value='')))"
      ]
     },
     "metadata": {},
     "output_type": "display_data"
    },
    {
     "name": "stdout",
     "output_type": "stream",
     "text": [
      "\n"
     ]
    },
    {
     "data": {
      "application/vnd.jupyter.widget-view+json": {
       "model_id": "0969761cb5a548588713a2c6ca1fb8c4",
       "version_major": 2,
       "version_minor": 0
      },
      "text/plain": [
       "HBox(children=(IntProgress(value=1, bar_style='info', max=1), HTML(value='')))"
      ]
     },
     "metadata": {},
     "output_type": "display_data"
    },
    {
     "name": "stdout",
     "output_type": "stream",
     "text": [
      "\n"
     ]
    }
   ],
   "source": [
    "item_ids = set()\n",
    "with open('../Dataset/item_metadata.csv', 'r') as f:\n",
    "    reader = csv.reader(f)\n",
    "    next(reader)\n",
    "    \n",
    "    for line in tqdm(reader):\n",
    "        item_ids.add(int(line[0]))\n",
    "        \n",
    "with open('../Dataset/train.csv', 'r') as f:\n",
    "    reader = csv.reader(f)\n",
    "    next(reader)\n",
    "    \n",
    "    for line in tqdm(reader):\n",
    "        if line[4] in ['clickout item', 'interaction item deals', 'interaction item image', 'interaction item info',  'interaction item rating',  'search for item'] and line[5].isdigit():\n",
    "            item_ids.add(int(line[5]))\n",
    "        if line[10] != '':\n",
    "            item_ids.update(set(list(map(int, line[10].split('|')))))\n",
    "            \n",
    "with open('../Dataset/test.csv', 'r') as f:\n",
    "    reader = csv.reader(f)\n",
    "    next(reader)\n",
    "    \n",
    "    for line in tqdm(reader):\n",
    "        if line[4] in ['clickout item', 'interaction item deals', 'interaction item image', 'interaction item info',  'interaction item rating',  'search for item']  and line[5].isdigit():\n",
    "            item_ids.add(int(line[5]))\n",
    "        if line[10] != '':\n",
    "            item_ids.update(set(list(map(int, line[10].split('|')))))"
   ]
  },
  {
   "cell_type": "code",
   "execution_count": 3,
   "metadata": {},
   "outputs": [
    {
     "data": {
      "application/vnd.jupyter.widget-view+json": {
       "model_id": "6a67e714969d46fc85f3f314f1491e37",
       "version_major": 2,
       "version_minor": 0
      },
      "text/plain": [
       "HBox(children=(IntProgress(value=1, bar_style='info', max=1), HTML(value='')))"
      ]
     },
     "metadata": {},
     "output_type": "display_data"
    },
    {
     "name": "stdout",
     "output_type": "stream",
     "text": [
      "\n"
     ]
    }
   ],
   "source": [
    "property_to_index = {}\n",
    "with open('../Dataset/item_metadata.csv', 'r') as f:\n",
    "    reader = csv.reader(f)\n",
    "    next(reader)\n",
    "    \n",
    "    index = 0\n",
    "    for line in tqdm(reader):\n",
    "        for prop in line[1].split('|'):\n",
    "            if prop not in property_to_index:\n",
    "                property_to_index[prop] = index\n",
    "                index += 1"
   ]
  },
  {
   "cell_type": "code",
   "execution_count": 4,
   "metadata": {},
   "outputs": [
    {
     "data": {
      "application/vnd.jupyter.widget-view+json": {
       "model_id": "0f68ef01b4a24064ab454533906422e7",
       "version_major": 2,
       "version_minor": 0
      },
      "text/plain": [
       "HBox(children=(IntProgress(value=1, bar_style='info', max=1), HTML(value='')))"
      ]
     },
     "metadata": {},
     "output_type": "display_data"
    },
    {
     "name": "stdout",
     "output_type": "stream",
     "text": [
      "\n"
     ]
    }
   ],
   "source": [
    "item_to_property = {}\n",
    "\n",
    "for item in item_ids:\n",
    "    item_to_property[item] = np.zeros(157)\n",
    "\n",
    "with open('../Dataset/item_metadata.csv', 'r') as f:\n",
    "    reader = csv.reader(f)\n",
    "    next(reader)\n",
    "    \n",
    "    for line in tqdm(reader):\n",
    "        for prop in line[1].split('|'):\n",
    "            item_to_property[int(line[0])][property_to_index[prop]] = 1"
   ]
  },
  {
   "cell_type": "code",
   "execution_count": 5,
   "metadata": {},
   "outputs": [],
   "source": [
    "user = set()\n",
    "action_type = set()\n",
    "platform = set()\n",
    "city = set()\n",
    "device = set()\n",
    "current_filters = set()"
   ]
  },
  {
   "cell_type": "code",
   "execution_count": 6,
   "metadata": {},
   "outputs": [
    {
     "data": {
      "application/vnd.jupyter.widget-view+json": {
       "model_id": "adbd7f3e63e44938bc5cd39ddbb05feb",
       "version_major": 2,
       "version_minor": 0
      },
      "text/plain": [
       "HBox(children=(IntProgress(value=1, bar_style='info', max=1), HTML(value='')))"
      ]
     },
     "metadata": {},
     "output_type": "display_data"
    },
    {
     "name": "stdout",
     "output_type": "stream",
     "text": [
      "\n"
     ]
    },
    {
     "data": {
      "application/vnd.jupyter.widget-view+json": {
       "model_id": "ebfa5e8267d0404ab8b17c2bb376bb15",
       "version_major": 2,
       "version_minor": 0
      },
      "text/plain": [
       "HBox(children=(IntProgress(value=1, bar_style='info', max=1), HTML(value='')))"
      ]
     },
     "metadata": {},
     "output_type": "display_data"
    },
    {
     "name": "stdout",
     "output_type": "stream",
     "text": [
      "\n"
     ]
    }
   ],
   "source": [
    "with open('../Dataset/train.csv') as f:\n",
    "    reader = csv.reader(f)\n",
    "    next(reader)\n",
    "    \n",
    "    for line in tqdm(reader):\n",
    "        user.add(line[0])\n",
    "        action_type.add(line[4])\n",
    "        platform.add(line[6])\n",
    "        city.add(line[7])\n",
    "        device.add(line[8])\n",
    "        if line[9]:\n",
    "            for filter in line[9].split('|'):\n",
    "                current_filters.add(filter)\n",
    "            \n",
    "with open('../Dataset/test.csv') as f:\n",
    "    reader = csv.reader(f)\n",
    "    next(reader)\n",
    "    \n",
    "    for line in tqdm(reader):\n",
    "        user.add(line[0])\n",
    "        action_type.add(line[4])\n",
    "        platform.add(line[6])\n",
    "        city.add(line[7])\n",
    "        device.add(line[8])\n",
    "        if line[9]:\n",
    "            for filter in line[9].split('|'):\n",
    "                current_filters.add(filter)"
   ]
  },
  {
   "cell_type": "code",
   "execution_count": 7,
   "metadata": {},
   "outputs": [],
   "source": [
    "user = sorted(list(user))\n",
    "action_type = sorted(list(action_type))\n",
    "platform = sorted(list(platform))\n",
    "city = sorted(list(city))\n",
    "device = sorted(list(device))\n",
    "current_filters = sorted(list(current_filters))"
   ]
  },
  {
   "cell_type": "code",
   "execution_count": 8,
   "metadata": {},
   "outputs": [],
   "source": [
    "user_to_ind = {user[i]:i for i in range(len(user))}\n",
    "action_to_ind = {action_type[i]:i for i in range(len(action_type))}\n",
    "platform_to_ind = {platform[i]:i for i in range(len(platform))}\n",
    "city_to_ind = {city[i]:i for i in range(len(city))}\n",
    "device_to_ind = {device[i]:i for i in range(len(device))}\n",
    "current_filters_to_ind = {current_filters[i]:i for i in range(len(current_filters))}"
   ]
  },
  {
   "cell_type": "code",
   "execution_count": 9,
   "metadata": {},
   "outputs": [
    {
     "data": {
      "application/vnd.jupyter.widget-view+json": {
       "model_id": "992851e13bbe4ac482c03ef8d2fa3af0",
       "version_major": 2,
       "version_minor": 0
      },
      "text/plain": [
       "HBox(children=(IntProgress(value=1, bar_style='info', max=1), HTML(value='')))"
      ]
     },
     "metadata": {},
     "output_type": "display_data"
    },
    {
     "name": "stdout",
     "output_type": "stream",
     "text": [
      "\n"
     ]
    },
    {
     "data": {
      "application/vnd.jupyter.widget-view+json": {
       "model_id": "364b0f06bd944c89b1f1b0220e2edd83",
       "version_major": 2,
       "version_minor": 0
      },
      "text/plain": [
       "HBox(children=(IntProgress(value=1, bar_style='info', max=1), HTML(value='')))"
      ]
     },
     "metadata": {},
     "output_type": "display_data"
    },
    {
     "name": "stdout",
     "output_type": "stream",
     "text": [
      "\n"
     ]
    }
   ],
   "source": [
    "reference = [set() for _ in range(10)]\n",
    "with open('../Dataset/train.csv') as f:\n",
    "    reader = csv.reader(f)\n",
    "    next(reader)\n",
    "    \n",
    "    for line in tqdm(reader):\n",
    "        reference[action_to_ind[line[4]]].add(line[5])\n",
    "\n",
    "with open('../Dataset/test.csv') as f:\n",
    "    reader = csv.reader(f)\n",
    "    next(reader)\n",
    "    \n",
    "    for line in tqdm(reader):\n",
    "        reference[action_to_ind[line[4]]].add(line[5])"
   ]
  },
  {
   "cell_type": "code",
   "execution_count": 10,
   "metadata": {},
   "outputs": [],
   "source": [
    "# reference_to_ind[i]: dictionary object that maps reference string of action_type[i] to integer index\n",
    "\n",
    "reference_to_ind = [{} for _ in range(10)]\n",
    "for i in range(10):\n",
    "    reference_i = list(reference[i])\n",
    "    \n",
    "    if i in [1, 3, 4, 5, 6, 8]:    # for items, non-item-index references are mapped to zero. item-indexes are mapped to itself.\n",
    "        for j in range(len(reference_i)):\n",
    "            if reference_i[j] in ['', 'Estació de Sants', 'Shinjuku Station', 'Lower Manhattan', 'Miyako Airport', 'unknown']:\n",
    "                reference_to_ind[i][reference_i[j]] = 0\n",
    "            else:\n",
    "                reference_to_ind[i][reference_i[j]] = int(reference_i[j])\n",
    "    else:   # for non-items, reference values are indexed from 0 to number_of_references-1\n",
    "        reference_to_ind[i].update({reference_i[j]:j for j in range(len(reference_i))})"
   ]
  },
  {
   "cell_type": "code",
   "execution_count": 11,
   "metadata": {},
   "outputs": [],
   "source": [
    "def embed_session(session):\n",
    "    # session: a python list of all lines in the session where its action_type references **an item**\n",
    "    \n",
    "    # first timestamp of the session\n",
    "    base_time = int(session[0][2])\n",
    "    \n",
    "    # initialize session embedding matrix\n",
    "    sess = np.zeros((len(session), 366))\n",
    "    \n",
    "    for i in range(len(session)):\n",
    "        sess[i][0] = int(session[i][2])-base_time\n",
    "        sess[i][1] = platform_to_ind[session[i][6]]\n",
    "        sess[i][2] = city_to_ind[session[i][7]]\n",
    "        sess[i][3] = device_to_ind[session[i][8]]\n",
    "        if session[i][5].isdigit():\n",
    "            sess[i][4:161] = item_to_property[int(session[i][5])]\n",
    "        if session[i][9]:\n",
    "            for f in session[i][9].split('|'):\n",
    "                sess[i][161+int(current_filters_to_ind[f])] += 1.0\n",
    "        \n",
    "    return sess"
   ]
  },
  {
   "cell_type": "code",
   "execution_count": 12,
   "metadata": {},
   "outputs": [
    {
     "data": {
      "application/vnd.jupyter.widget-view+json": {
       "model_id": "1335ebc4a7ce45ed9ab68fa36aed69df",
       "version_major": 2,
       "version_minor": 0
      },
      "text/plain": [
       "HBox(children=(IntProgress(value=1, bar_style='info', max=1), HTML(value='')))"
      ]
     },
     "metadata": {},
     "output_type": "display_data"
    },
    {
     "name": "stdout",
     "output_type": "stream",
     "text": [
      "\n"
     ]
    }
   ],
   "source": [
    "x = []\n",
    "y = []\n",
    "choices = []\n",
    "prices = []\n",
    "\n",
    "with open('../Dataset/train.csv', 'r') as f:\n",
    "    reader = csv.reader(f)\n",
    "    next(reader)\n",
    "    \n",
    "    sess = []\n",
    "    \n",
    "    for line in tqdm(reader):\n",
    "        if line[3]=='1' and len(sess) > 0:      # first action of the next session met\n",
    "            if sess[-1][4] == 'clickout item':   # take into the traing dataset only if the last action was 'clickout item'.\n",
    "                x.append(embed_session(sess))\n",
    "                choices.append(np.asarray(list(map(int, sess[-1][10].split('|')))))\n",
    "                prices.append(np.asarray(list(map(int, sess[-1][11].split('|')))))\n",
    "                for i in range(len(choices[-1])):\n",
    "                    if choices[-1][i] == int(sess[-1][5]):\n",
    "                        y.append(i)\n",
    "                        break\n",
    "                else:\n",
    "                    x.pop(-1)\n",
    "                    choices.pop(-1)\n",
    "                    prices.pop(-1)\n",
    "            sess = []\n",
    "        # Only collect actions that reference **an item**.\n",
    "        if line[4] in ['clickout item', 'interaction item rating', 'interaction item info', 'interaction item image', 'interaction item deals', 'search for item']:\n",
    "            sess.append(line)\n",
    "    \n",
    "    # For the last session\n",
    "    if sess[-1][4] == 'clickout item':\n",
    "        x.append(embed_session(np.array(sess)))\n",
    "        choices.append(np.asarray(list(map(int, sess[-1][10].split('|')))))\n",
    "        prices.append(np.asarray(list(map(int, sess[-1][11].split('|')))))\n",
    "        for i in range(len(choices[-1])):\n",
    "            if choices[-1][i] == int(sess[-1][5]):\n",
    "                y.append(i)\n",
    "                break\n",
    "        else:\n",
    "            x.pop(-1)\n",
    "            choices.pop(-1)\n",
    "            prices.pop(-1)"
   ]
  },
  {
   "cell_type": "code",
   "execution_count": 13,
   "metadata": {},
   "outputs": [
    {
     "name": "stdout",
     "output_type": "stream",
     "text": [
      "min: 1, max: 25\n",
      "len(mask): 676718\n"
     ]
    }
   ],
   "source": [
    "M = -1\n",
    "m = 26\n",
    "mask = []\n",
    "for i in range(len(choices)):\n",
    "    mask.append(len(choices[i]))\n",
    "    if M < mask[-1]:\n",
    "        M = mask[-1]\n",
    "    if m >  mask[-1]:\n",
    "        m =  mask[-1]\n",
    "print(f\"min: {m}, max: {M}\")\n",
    "print(f\"len(mask): {len(mask)}\")"
   ]
  },
  {
   "cell_type": "code",
   "execution_count": 14,
   "metadata": {},
   "outputs": [
    {
     "data": {
      "application/vnd.jupyter.widget-view+json": {
       "model_id": "763f3bb715aa407e905e1caa0dd5df1b",
       "version_major": 2,
       "version_minor": 0
      },
      "text/plain": [
       "HBox(children=(IntProgress(value=0, max=676718), HTML(value='')))"
      ]
     },
     "metadata": {},
     "output_type": "display_data"
    },
    {
     "name": "stdout",
     "output_type": "stream",
     "text": [
      "\n"
     ]
    }
   ],
   "source": [
    "item = []\n",
    "for i in tqdm(range(len(choices))):\n",
    "    choice_items = []\n",
    "    for j in range(len(choices[i])):\n",
    "        choice_items.append(np.append(item_to_property[choices[i][j]], prices[i][j]))\n",
    "    \n",
    "    # for sessions with less than 25 impressions, the item vector is padded with zeros.\n",
    "    for j in range(25-len(choices[i])):\n",
    "        choice_items.append(np.zeros(158))\n",
    "    tmp = np.asarray(choice_items, dtype=np.double)\n",
    "    \n",
    "    item.append(tmp)"
   ]
  },
  {
   "cell_type": "code",
   "execution_count": 15,
   "metadata": {},
   "outputs": [],
   "source": [
    "import torch\n",
    "import torch.nn as nn\n",
    "import torch.nn.functional as F\n",
    "import torch.optim as optim\n",
    "import torch.utils.data\n",
    "\n",
    "import matplotlib.pyplot as plt"
   ]
  },
  {
   "cell_type": "code",
   "execution_count": null,
   "metadata": {},
   "outputs": [],
   "source": [
    "class NN(nn.Module):\n",
    "    \n",
    "    def __init__(self, session_dim, item_dim):\n",
    "        self.lstm = nn.LSTM(session_dim, 128, 1)\n",
    "        self.layers = nn.Sequential(\n",
    "            nn.Linear()\n",
    "        )"
   ]
  }
 ],
 "metadata": {
  "kernelspec": {
   "display_name": "Python 3",
   "language": "python",
   "name": "python3"
  },
  "language_info": {
   "codemirror_mode": {
    "name": "ipython",
    "version": 3
   },
   "file_extension": ".py",
   "mimetype": "text/x-python",
   "name": "python",
   "nbconvert_exporter": "python",
   "pygments_lexer": "ipython3",
   "version": "3.6.8"
  }
 },
 "nbformat": 4,
 "nbformat_minor": 2
}
