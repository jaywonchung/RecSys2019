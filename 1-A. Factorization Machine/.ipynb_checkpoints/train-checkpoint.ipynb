{
 "cells": [
  {
   "cell_type": "code",
   "execution_count": 1,
   "metadata": {},
   "outputs": [],
   "source": [
    "import csv\n",
    "import numpy as np\n",
    "from tqdm import tqdm_notebook as tqdm"
   ]
  },
  {
   "cell_type": "markdown",
   "metadata": {},
   "source": [
    "collect all item ids that appear in the dataset"
   ]
  },
  {
   "cell_type": "code",
   "execution_count": 2,
   "metadata": {},
   "outputs": [
    {
     "data": {
      "application/vnd.jupyter.widget-view+json": {
       "model_id": "d6a3b3d0200948f18ad437d050262e7a",
       "version_major": 2,
       "version_minor": 0
      },
      "text/plain": [
       "HBox(children=(IntProgress(value=1, bar_style='info', max=1), HTML(value='')))"
      ]
     },
     "metadata": {},
     "output_type": "display_data"
    },
    {
     "name": "stdout",
     "output_type": "stream",
     "text": [
      "\n"
     ]
    },
    {
     "data": {
      "application/vnd.jupyter.widget-view+json": {
       "model_id": "4a8406d5d7984bf59cbd39adfc5dd0d6",
       "version_major": 2,
       "version_minor": 0
      },
      "text/plain": [
       "HBox(children=(IntProgress(value=1, bar_style='info', max=1), HTML(value='')))"
      ]
     },
     "metadata": {},
     "output_type": "display_data"
    },
    {
     "name": "stdout",
     "output_type": "stream",
     "text": [
      "\n"
     ]
    },
    {
     "data": {
      "application/vnd.jupyter.widget-view+json": {
       "model_id": "7c6e80c777994f869e6bd1d7176c5d37",
       "version_major": 2,
       "version_minor": 0
      },
      "text/plain": [
       "HBox(children=(IntProgress(value=1, bar_style='info', max=1), HTML(value='')))"
      ]
     },
     "metadata": {},
     "output_type": "display_data"
    },
    {
     "name": "stdout",
     "output_type": "stream",
     "text": [
      "\n"
     ]
    }
   ],
   "source": [
    "item_ids = set()\n",
    "with open('../Dataset/item_metadata.csv', 'r') as f:\n",
    "    reader = csv.reader(f)\n",
    "    next(reader)\n",
    "    \n",
    "    for line in tqdm(reader):\n",
    "        item_ids.add(int(line[0]))\n",
    "with open('../Dataset/train.csv', 'r') as f:\n",
    "    reader = csv.reader(f)\n",
    "    next(reader)\n",
    "    \n",
    "    for line in tqdm(reader):\n",
    "        if line[4] in ['clickout item', 'interaction item deals', 'interaction item image', 'interaction item info',  'interaction item rating',  'search for item'] and line[5].isdigit():\n",
    "            item_ids.add(int(line[5]))\n",
    "        if line[10] != '':\n",
    "            item_ids.update(set(list(map(int, line[10].split('|')))))\n",
    "with open('../Dataset/test.csv', 'r') as f:\n",
    "    reader = csv.reader(f)\n",
    "    next(reader)\n",
    "    \n",
    "    for line in tqdm(reader):\n",
    "        if line[4] in ['clickout item', 'interaction item deals', 'interaction item image', 'interaction item info',  'interaction item rating',  'search for item']  and line[5].isdigit():\n",
    "            item_ids.add(int(line[5]))\n",
    "        if line[10] != '':\n",
    "            item_ids.update(set(list(map(int, line[10].split('|')))))"
   ]
  },
  {
   "cell_type": "code",
   "execution_count": 3,
   "metadata": {},
   "outputs": [
    {
     "data": {
      "text/plain": [
       "928080"
      ]
     },
     "execution_count": 3,
     "metadata": {},
     "output_type": "execute_result"
    }
   ],
   "source": [
    "len(item_ids)"
   ]
  },
  {
   "cell_type": "markdown",
   "metadata": {},
   "source": [
    "Collect all the properties of items, and map them to integer indexes"
   ]
  },
  {
   "cell_type": "code",
   "execution_count": 4,
   "metadata": {},
   "outputs": [
    {
     "data": {
      "application/vnd.jupyter.widget-view+json": {
       "model_id": "767a43e6bd3b4af89ec52c67e0c4b41b",
       "version_major": 2,
       "version_minor": 0
      },
      "text/plain": [
       "HBox(children=(IntProgress(value=1, bar_style='info', max=1), HTML(value='')))"
      ]
     },
     "metadata": {},
     "output_type": "display_data"
    },
    {
     "name": "stdout",
     "output_type": "stream",
     "text": [
      "\n"
     ]
    }
   ],
   "source": [
    "property_to_index = {}\n",
    "with open('../Dataset/item_metadata.csv', 'r') as f:\n",
    "    reader = csv.reader(f)\n",
    "    next(reader)\n",
    "    \n",
    "    index = 0\n",
    "    for line in tqdm(reader):\n",
    "        for prop in line[1].split('|'):\n",
    "            if prop not in property_to_index:\n",
    "                property_to_index[prop] = index\n",
    "                index += 1"
   ]
  },
  {
   "cell_type": "code",
   "execution_count": 5,
   "metadata": {},
   "outputs": [
    {
     "data": {
      "text/plain": [
       "157"
      ]
     },
     "execution_count": 5,
     "metadata": {},
     "output_type": "execute_result"
    }
   ],
   "source": [
    "len(property_to_index)"
   ]
  },
  {
   "cell_type": "markdown",
   "metadata": {},
   "source": [
    "Map items to property lists, each of length 157 (1 if the property exists, else 0)  \n",
    "This is itself the item embeddings, later concatenated with their prices"
   ]
  },
  {
   "cell_type": "code",
   "execution_count": 62,
   "metadata": {},
   "outputs": [],
   "source": [
    "item_to_property = {}\n",
    "\n",
    "for item in item_ids:\n",
    "    item_to_property[item] = [0 for _ in range(157)]\n",
    "\n",
    "with open('../Dataset/item_metadata.csv', 'r') as f:\n",
    "    reader = csv.reader(f)\n",
    "    next(reader)\n",
    "    \n",
    "    for line in reader:\n",
    "        for prop in line[1].split('|'):\n",
    "            item_to_property[int(line[0])][property_to_index[prop]] = 1"
   ]
  },
  {
   "cell_type": "code",
   "execution_count": 17,
   "metadata": {},
   "outputs": [
    {
     "data": {
      "text/plain": [
       "928080"
      ]
     },
     "execution_count": 17,
     "metadata": {},
     "output_type": "execute_result"
    }
   ],
   "source": [
    "len(item_to_property)"
   ]
  },
  {
   "cell_type": "code",
   "execution_count": 18,
   "metadata": {},
   "outputs": [
    {
     "data": {
      "text/plain": [
       "array([1, 1, 0, 0, 1, 1, 1, 0, 1, 1, 0, 1, 1, 0, 1, 1, 1, 1, 1, 1, 0, 1,\n",
       "       1, 1, 1, 1, 0, 0, 1, 1, 1, 0, 1, 1, 1, 0, 0, 1, 1, 1, 1, 1, 1, 1,\n",
       "       1, 1, 1, 1, 1, 0, 0, 1, 1, 1, 1, 1, 0, 0, 1, 1, 1, 1, 1, 0, 1, 1,\n",
       "       1, 1, 0, 1, 1, 1, 0, 0, 0, 0, 0, 0, 0, 0, 0, 1, 0, 0, 0, 0, 1, 0,\n",
       "       0, 0, 0, 1, 0, 0, 0, 1, 0, 0, 0, 0, 0, 1, 0, 0, 0, 0, 1, 0, 1, 0,\n",
       "       0, 1, 0, 0, 0, 0, 0, 0, 0, 0, 0, 0, 0, 0, 0, 0, 0, 0, 0, 0, 1, 0,\n",
       "       0, 0, 0, 0, 0, 0, 0, 0, 0, 0, 0, 0, 0, 0, 0, 0, 0, 0, 0, 0, 0, 0,\n",
       "       0, 0, 0])"
      ]
     },
     "execution_count": 18,
     "metadata": {},
     "output_type": "execute_result"
    }
   ],
   "source": [
    "item_to_property[102947]"
   ]
  },
  {
   "cell_type": "markdown",
   "metadata": {},
   "source": [
    "Map other non-integer properties to integers"
   ]
  },
  {
   "cell_type": "code",
   "execution_count": 19,
   "metadata": {},
   "outputs": [],
   "source": [
    "user = set()\n",
    "action_type = set()\n",
    "platform = set()\n",
    "city = set()\n",
    "device = set()\n",
    "current_filters = set()"
   ]
  },
  {
   "cell_type": "code",
   "execution_count": 21,
   "metadata": {},
   "outputs": [
    {
     "data": {
      "application/vnd.jupyter.widget-view+json": {
       "model_id": "a07835a127e44d269c74489f5b9146b5",
       "version_major": 2,
       "version_minor": 0
      },
      "text/plain": [
       "HBox(children=(IntProgress(value=1, bar_style='info', max=1), HTML(value='')))"
      ]
     },
     "metadata": {},
     "output_type": "display_data"
    },
    {
     "name": "stdout",
     "output_type": "stream",
     "text": [
      "\n"
     ]
    },
    {
     "data": {
      "application/vnd.jupyter.widget-view+json": {
       "model_id": "ea7c79ea0c24455f943635efce386633",
       "version_major": 2,
       "version_minor": 0
      },
      "text/plain": [
       "HBox(children=(IntProgress(value=1, bar_style='info', max=1), HTML(value='')))"
      ]
     },
     "metadata": {},
     "output_type": "display_data"
    },
    {
     "name": "stdout",
     "output_type": "stream",
     "text": [
      "\n"
     ]
    }
   ],
   "source": [
    "with open('../Dataset/train.csv') as f:\n",
    "    reader = csv.reader(f)\n",
    "    next(reader)\n",
    "    \n",
    "    for line in tqdm(reader):\n",
    "        user.add(line[0])\n",
    "        action_type.add(line[4])\n",
    "        platform.add(line[6])\n",
    "        city.add(line[7])\n",
    "        device.add(line[8])\n",
    "        if line[9]:\n",
    "            current_filters.add(line[9])\n",
    "            \n",
    "with open('../Dataset/test.csv') as f:\n",
    "    reader = csv.reader(f)\n",
    "    next(reader)\n",
    "    \n",
    "    for line in tqdm(reader):\n",
    "        user.add(line[0])\n",
    "        action_type.add(line[4])\n",
    "        platform.add(line[6])\n",
    "        city.add(line[7])\n",
    "        device.add(line[8])\n",
    "        if line[9]:\n",
    "            current_filters.add(line[9])"
   ]
  },
  {
   "cell_type": "code",
   "execution_count": 22,
   "metadata": {},
   "outputs": [],
   "source": [
    "user = sorted(list(user))\n",
    "action_type = sorted(list(action_type))\n",
    "platform = sorted(list(platform))\n",
    "city = sorted(list(city))\n",
    "device = sorted(list(device))\n",
    "current_filters = sorted(list(current_filters))"
   ]
  },
  {
   "cell_type": "code",
   "execution_count": 23,
   "metadata": {
    "scrolled": true
   },
   "outputs": [
    {
     "name": "stdout",
     "output_type": "stream",
     "text": [
      "948041\n",
      "10\n",
      "55\n",
      "37843\n",
      "3\n",
      "74420\n"
     ]
    }
   ],
   "source": [
    "print(len(user))\n",
    "print(len(action_type))\n",
    "print(len(platform))\n",
    "print(len(city))\n",
    "print(len(device))\n",
    "print(len(current_filters))"
   ]
  },
  {
   "cell_type": "code",
   "execution_count": 24,
   "metadata": {},
   "outputs": [],
   "source": [
    "user_to_ind = {user[i]:i for i in range(len(user))}\n",
    "action_to_ind = {action_type[i]:i for i in range(len(action_type))}\n",
    "platform_to_ind = {platform[i]:i for i in range(len(platform))}\n",
    "city_to_ind = {city[i]:i for i in range(len(city))}\n",
    "device_to_ind = {device[i]:i for i in range(len(device))}\n",
    "current_filters_to_ind = {current_filters[i]:i for i in range(len(current_filters))}"
   ]
  },
  {
   "cell_type": "markdown",
   "metadata": {},
   "source": [
    "Mapping reference value to integers, each in separate bins based on their action type"
   ]
  },
  {
   "cell_type": "code",
   "execution_count": 14,
   "metadata": {},
   "outputs": [
    {
     "data": {
      "application/vnd.jupyter.widget-view+json": {
       "model_id": "9630f5e7ecc9480f9c7876970231950d",
       "version_major": 2,
       "version_minor": 0
      },
      "text/plain": [
       "HBox(children=(IntProgress(value=1, bar_style='info', max=1), HTML(value='')))"
      ]
     },
     "metadata": {},
     "output_type": "display_data"
    },
    {
     "name": "stdout",
     "output_type": "stream",
     "text": [
      "\n"
     ]
    }
   ],
   "source": [
    "reference = [set() for _ in range(10)]\n",
    "with open('../Dataset/train.csv') as f:\n",
    "    reader = csv.reader(f)\n",
    "    next(reader)\n",
    "    for line in tqdm(reader):\n",
    "        reference[action_to_ind[line[4]]].add(line[5])"
   ]
  },
  {
   "cell_type": "code",
   "execution_count": 26,
   "metadata": {},
   "outputs": [
    {
     "name": "stdout",
     "output_type": "stream",
     "text": [
      "8 / 8\n",
      "0 / 289506\n",
      "201 / 201\n",
      "0 / 83016\n",
      "0 / 198632\n",
      "5 / 118613\n",
      "0 / 87435\n",
      "22844 / 22844\n",
      "0 / 69741\n",
      "13352 / 13352\n"
     ]
    }
   ],
   "source": [
    "for i in range(10):\n",
    "    count = 0\n",
    "    for ref in reference[i]:\n",
    "        if not ref.isdigit():\n",
    "            count += 1\n",
    "    print(f'{count} / {len(reference[i])}')"
   ]
  },
  {
   "cell_type": "markdown",
   "metadata": {},
   "source": [
    "There are noises in the 'interaction item info' action reference value"
   ]
  },
  {
   "cell_type": "code",
   "execution_count": 27,
   "metadata": {},
   "outputs": [
    {
     "name": "stdout",
     "output_type": "stream",
     "text": [
      "Estació de Sants\n",
      "Shinjuku Station\n",
      "Lower Manhattan\n",
      "Miyako Airport\n",
      "unknown\n"
     ]
    }
   ],
   "source": [
    "for ref in reference[5]:\n",
    "    if not ref.isdigit():\n",
    "        print(ref)"
   ]
  },
  {
   "cell_type": "code",
   "execution_count": 15,
   "metadata": {},
   "outputs": [],
   "source": [
    "reference_to_ind = [{} for _ in range(10)]\n",
    "for i in range(10):\n",
    "    reference_i = list(reference[i])\n",
    "    \n",
    "    if i in [1, 3, 4, 5, 6, 8]:\n",
    "        for j in range(len(reference_i)):\n",
    "            if reference_i[j] in ['Estació de Sants', 'Shinjuku Station', 'Lower Manhattan', 'Miyako Airport', 'unknown']:\n",
    "                reference_to_ind[i][reference_i[j]] = 0\n",
    "            else:\n",
    "                reference_to_ind[i][reference_i[j]] = int(item_to_ind[int(reference_i[j])])\n",
    "    else:\n",
    "        reference_to_ind[i].update({reference_i[j]:j for j in range(len(reference_i))})"
   ]
  },
  {
   "cell_type": "markdown",
   "metadata": {},
   "source": [
    "Preprocessing train.csv with the mapped values"
   ]
  },
  {
   "cell_type": "code",
   "execution_count": 16,
   "metadata": {},
   "outputs": [
    {
     "data": {
      "application/vnd.jupyter.widget-view+json": {
       "model_id": "355beb5da8c24baeace9bacd44108f57",
       "version_major": 2,
       "version_minor": 0
      },
      "text/plain": [
       "HBox(children=(IntProgress(value=1, bar_style='info', max=1), HTML(value='')))"
      ]
     },
     "metadata": {},
     "output_type": "display_data"
    },
    {
     "name": "stdout",
     "output_type": "stream",
     "text": [
      "\n"
     ]
    }
   ],
   "source": [
    "with open('../Dataset/train.csv', 'r') as f:\n",
    "    reader = csv.reader(f)\n",
    "    with open('../Dataset/processed_train.csv', 'w', newline='') as w:\n",
    "        wr = csv.writer(w)\n",
    "        wr.writerow(next(reader))\n",
    "\n",
    "        timestep = 1541037460\n",
    "        sess_index = -1\n",
    "        for row in tqdm(reader):\n",
    "            if row[3]=='1':\n",
    "                timestep = int(row[2])\n",
    "                sess_index += 1\n",
    "            wr.writerow([user_to_ind[row[0]], sess_index, int(row[2])-timestep, int(row[3]), action_to_ind[row[4]], reference_to_ind[action_to_ind[row[4]]][row[5]],\n",
    "                                  platform_to_ind[row[6]], city_to_ind[row[7]], device_to_ind[row[8]], current_filters_to_ind.get(row[9], 0), row[10], row[11]])"
   ]
  },
  {
   "cell_type": "markdown",
   "metadata": {},
   "source": [
    "Mapping filters to integers"
   ]
  },
  {
   "cell_type": "code",
   "execution_count": 28,
   "metadata": {},
   "outputs": [],
   "source": [
    "filter_types = set()\n",
    "for filters in current_filters:\n",
    "    for filter in filters.split('|'):\n",
    "        filter_types.add(filter)"
   ]
  },
  {
   "cell_type": "code",
   "execution_count": 29,
   "metadata": {},
   "outputs": [
    {
     "data": {
      "text/plain": [
       "205"
      ]
     },
     "execution_count": 29,
     "metadata": {},
     "output_type": "execute_result"
    }
   ],
   "source": [
    "len(filter_types)"
   ]
  },
  {
   "cell_type": "code",
   "execution_count": 30,
   "metadata": {},
   "outputs": [],
   "source": [
    "filter_to_index = {}\n",
    "index = 0\n",
    "for filter in filter_types:\n",
    "    filter_to_index[filter] = index\n",
    "    index += 1"
   ]
  },
  {
   "cell_type": "markdown",
   "metadata": {},
   "source": [
    "Extracting the training dataset"
   ]
  },
  {
   "cell_type": "code",
   "execution_count": 49,
   "metadata": {},
   "outputs": [],
   "source": [
    "def embed_session(session):\n",
    "    total_time = int(session[-1][2]) - int(session[0][2])\n",
    "    filter = np.arange(1, len(session)) / (len(session)*(len(session)-1)*0.5)\n",
    "    vec = np.zeros(362)\n",
    "    \n",
    "    for i in range(len(session)-1):\n",
    "        stall = int(session[i+1][2]) - int(session[i][2])\n",
    "        multiplier = stall * filter[i] / total_time\n",
    "        if session[i][5].isdigit():\n",
    "            vec[0:157] += multiplier * item_to_property[int(session[i][5])]\n",
    "        if session[i][9]:\n",
    "            for f in session[i][9].split('|'):\n",
    "                vec[157+int(filter_to_index[f])] += multiplier\n",
    "    \n",
    "    vec[359] = platform_to_ind[session[0][6]]\n",
    "    vec[360] = city_to_ind[session[0][7]]\n",
    "    vec[361] = device_to_ind[session[0][8]]\n",
    "    \n",
    "    return vec"
   ]
  },
  {
   "cell_type": "code",
   "execution_count": 46,
   "metadata": {},
   "outputs": [],
   "source": [
    "x = []\n",
    "y = []\n",
    "choices = []\n",
    "prices = []"
   ]
  },
  {
   "cell_type": "code",
   "execution_count": 50,
   "metadata": {},
   "outputs": [
    {
     "name": "stderr",
     "output_type": "stream",
     "text": [
      "/home/carrot_go_round/anaconda3/envs/ml/lib/python3.6/site-packages/ipykernel_launcher.py:8: RuntimeWarning: invalid value encountered in double_scalars\n",
      "  \n"
     ]
    }
   ],
   "source": [
    "with open('../Dataset/train.csv', 'r') as f:\n",
    "    reader = csv.reader(f)\n",
    "    next(reader)\n",
    "    \n",
    "    sess = []\n",
    "    \n",
    "    for line in tqdm(reader):\n",
    "        if line[3]=='1' and len(sess) > 0:\n",
    "            if sess[-1][4] == 'clickout item':\n",
    "                if len(sess) <= 1:\n",
    "                    sess = []\n",
    "                    continue\n",
    "                x.append(embed_session(np.array(sess)))\n",
    "                choices.append(sess[-1][10].split('|'))\n",
    "                prices.append(sess[-1][11].split('|'))\n",
    "                y.append(int(sess[-1][5]))\n",
    "            sess = []\n",
    "        elif line[4] in ['clickout item', 'interaction item rating', 'interaction item info', 'interaction item image', 'interaction item deals', 'search for item']:\n",
    "            sess.append(line)"
   ]
  },
  {
   "cell_type": "markdown",
   "metadata": {},
   "source": [
    "item[i] corresponds to the choices given to the user at clickout time.  \n",
    "each choices are encoded with their properties, and its price concatenated at the end."
   ]
  },
  {
   "cell_type": "code",
   "execution_count": 69,
   "metadata": {},
   "outputs": [],
   "source": [
    "item = np.asarray([np.asarray([item_to_property[int(choices[j][i])] + [int(prices[j][i])] for i in range(len(choices[j]))]) for j in range(len(choices))])"
   ]
  },
  {
   "cell_type": "markdown",
   "metadata": {},
   "source": [
    "Model definition and testing"
   ]
  },
  {
   "cell_type": "code",
   "execution_count": 53,
   "metadata": {},
   "outputs": [],
   "source": [
    "import torch\n",
    "import torch.nn as nn\n",
    "import torch.optim as optim\n",
    "\n",
    "from itertools import islice"
   ]
  },
  {
   "cell_type": "code",
   "execution_count": 101,
   "metadata": {},
   "outputs": [],
   "source": [
    "class FM(nn.Module):\n",
    "\n",
    "    def __init__(self, d, session_dim, item_dim):\n",
    "        super().__init__()\n",
    "\n",
    "        self.Q = torch.nn.Parameter(torch.rand(session_dim, d))\n",
    "        self.P = torch.nn.Parameter(torch.rand(item_dim, d))\n",
    "        self.bq = torch.nn.Parameter(torch.rand(session_dim))\n",
    "        self.bp = torch.nn.Parameter(torch.rand(item_dim))\n",
    "        \n",
    "        self.Q.data = torch.rand(session_dim, d)\n",
    "        self.P.data = torch.rand(item_dim, d)\n",
    "        self.bq.data = torch.rand(session_dim)\n",
    "        self.bp.data = torch.rand(item_dim)\n",
    "        \n",
    "\n",
    "    def forward(self, session, item):\n",
    "        \"\"\"\n",
    "        session: (batch_size, 1, session_dim)\n",
    "        item: (batch_size, 25, item_dim)\n",
    "        \n",
    "        returns (batch_size, 25)\n",
    "        \"\"\"\n",
    "#        bmm (batch_size, 1, d) * (batch_size, d, 25) => (batch_size, 1, 25)\n",
    "#        matmul (batch_size, 1, session_dim) * (session_dim) => (batch_size, 1, 1)\n",
    "#        matmul (batch_size, 25, item_dim) * (item_dim) => (batch_size, 25, 1)\n",
    "        return torch.bmm(torch.matmul(session, self.Q), torch.matmul(item, self.P).transpose(1, 2)) + torch.matmul(session, self.bq).unsqueeze(dim=2) + torch.matmul(item, self.bp).unsqueeze(dim=1)\n"
   ]
  },
  {
   "cell_type": "code",
   "execution_count": 102,
   "metadata": {
    "scrolled": true
   },
   "outputs": [],
   "source": [
    "model = FM(d=100, session_dim=362, item_dim=158).to('cuda')"
   ]
  },
  {
   "cell_type": "code",
   "execution_count": 103,
   "metadata": {},
   "outputs": [],
   "source": [
    "optimizer = optim.Adagrad(model.parameters())"
   ]
  },
  {
   "cell_type": "code",
   "execution_count": 99,
   "metadata": {},
   "outputs": [],
   "source": [
    "#session0, item0 = x[0].to('cuda'), item[0].to('cuda')\n",
    "x[0].shape, item[0].shape\n",
    "session0 = torch.Tensor(x[0]).unsqueeze(0).unsqueeze(1).to('cuda')\n",
    "item0 = torch.Tensor(item[0]).unsqueeze(0).to('cuda')"
   ]
  },
  {
   "cell_type": "code",
   "execution_count": 110,
   "metadata": {},
   "outputs": [],
   "source": [
    "session01 = torch.Tensor([x[0], x[1]]).unsqueeze(1).to('cuda')\n",
    "item01 = torch.Tensor([item[0], item[1]]).to('cuda')"
   ]
  },
  {
   "cell_type": "code",
   "execution_count": 112,
   "metadata": {},
   "outputs": [
    {
     "data": {
      "text/plain": [
       "torch.Size([2, 1, 25])"
      ]
     },
     "execution_count": 112,
     "metadata": {},
     "output_type": "execute_result"
    }
   ],
   "source": [
    "model(session01, item01).shape"
   ]
  }
 ],
 "metadata": {
  "kernelspec": {
   "display_name": "Python 3",
   "language": "python",
   "name": "python3"
  },
  "language_info": {
   "codemirror_mode": {
    "name": "ipython",
    "version": 3
   },
   "file_extension": ".py",
   "mimetype": "text/x-python",
   "name": "python",
   "nbconvert_exporter": "python",
   "pygments_lexer": "ipython3",
   "version": "3.6.8"
  }
 },
 "nbformat": 4,
 "nbformat_minor": 2
}
