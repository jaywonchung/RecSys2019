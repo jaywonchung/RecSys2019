{
 "cells": [
  {
   "cell_type": "code",
   "execution_count": 1,
   "metadata": {},
   "outputs": [],
   "source": [
    "import csv\n",
    "import numpy as np\n",
    "from tqdm import tqdm_notebook as tqdm"
   ]
  },
  {
   "cell_type": "markdown",
   "metadata": {},
   "source": [
    "collect all item ids that appear in the dataset"
   ]
  },
  {
   "cell_type": "code",
   "execution_count": 2,
   "metadata": {},
   "outputs": [
    {
     "data": {
      "application/vnd.jupyter.widget-view+json": {
       "model_id": "2f5fa78f590642d7948620b58ee6388c",
       "version_major": 2,
       "version_minor": 0
      },
      "text/plain": [
       "HBox(children=(IntProgress(value=1, bar_style='info', max=1), HTML(value='')))"
      ]
     },
     "metadata": {},
     "output_type": "display_data"
    },
    {
     "name": "stdout",
     "output_type": "stream",
     "text": [
      "\n"
     ]
    },
    {
     "data": {
      "application/vnd.jupyter.widget-view+json": {
       "model_id": "8757c69f6d524d8ca714b72632cceb27",
       "version_major": 2,
       "version_minor": 0
      },
      "text/plain": [
       "HBox(children=(IntProgress(value=1, bar_style='info', max=1), HTML(value='')))"
      ]
     },
     "metadata": {},
     "output_type": "display_data"
    },
    {
     "name": "stdout",
     "output_type": "stream",
     "text": [
      "\n"
     ]
    },
    {
     "data": {
      "application/vnd.jupyter.widget-view+json": {
       "model_id": "f2cf9056dfc94753a82b2ec13ed512ba",
       "version_major": 2,
       "version_minor": 0
      },
      "text/plain": [
       "HBox(children=(IntProgress(value=1, bar_style='info', max=1), HTML(value='')))"
      ]
     },
     "metadata": {},
     "output_type": "display_data"
    },
    {
     "name": "stdout",
     "output_type": "stream",
     "text": [
      "\n"
     ]
    }
   ],
   "source": [
    "item_ids = set()\n",
    "with open('../Dataset/item_metadata.csv', 'r') as f:\n",
    "    reader = csv.reader(f)\n",
    "    next(reader)\n",
    "    \n",
    "    for line in tqdm(reader):\n",
    "        item_ids.add(int(line[0]))\n",
    "with open('../Dataset/train.csv', 'r') as f:\n",
    "    reader = csv.reader(f)\n",
    "    next(reader)\n",
    "    \n",
    "    for line in tqdm(reader):\n",
    "        if line[4] in ['clickout item', 'interaction item deals', 'interaction item image', 'interaction item info',  'interaction item rating',  'search for item'] and line[5].isdigit():\n",
    "            item_ids.add(int(line[5]))\n",
    "        if line[10] != '':\n",
    "            item_ids.update(set(list(map(int, line[10].split('|')))))\n",
    "with open('../Dataset/test.csv', 'r') as f:\n",
    "    reader = csv.reader(f)\n",
    "    next(reader)\n",
    "    \n",
    "    for line in tqdm(reader):\n",
    "        if line[4] in ['clickout item', 'interaction item deals', 'interaction item image', 'interaction item info',  'interaction item rating',  'search for item']  and line[5].isdigit():\n",
    "            item_ids.add(int(line[5]))\n",
    "        if line[10] != '':\n",
    "            item_ids.update(set(list(map(int, line[10].split('|')))))"
   ]
  },
  {
   "cell_type": "code",
   "execution_count": 3,
   "metadata": {},
   "outputs": [
    {
     "data": {
      "text/plain": [
       "928080"
      ]
     },
     "execution_count": 3,
     "metadata": {},
     "output_type": "execute_result"
    }
   ],
   "source": [
    "len(item_ids)"
   ]
  },
  {
   "cell_type": "markdown",
   "metadata": {},
   "source": [
    "Collect all the properties of items, and map them to integer indexes"
   ]
  },
  {
   "cell_type": "code",
   "execution_count": 4,
   "metadata": {},
   "outputs": [
    {
     "data": {
      "application/vnd.jupyter.widget-view+json": {
       "model_id": "d4e009b58ee447c59c886ea87b6619e7",
       "version_major": 2,
       "version_minor": 0
      },
      "text/plain": [
       "HBox(children=(IntProgress(value=1, bar_style='info', max=1), HTML(value='')))"
      ]
     },
     "metadata": {},
     "output_type": "display_data"
    },
    {
     "name": "stdout",
     "output_type": "stream",
     "text": [
      "\n"
     ]
    }
   ],
   "source": [
    "property_to_index = {}\n",
    "with open('../Dataset/item_metadata.csv', 'r') as f:\n",
    "    reader = csv.reader(f)\n",
    "    next(reader)\n",
    "    \n",
    "    index = 0\n",
    "    for line in tqdm(reader):\n",
    "        for prop in line[1].split('|'):\n",
    "            if prop not in property_to_index:\n",
    "                property_to_index[prop] = index\n",
    "                index += 1"
   ]
  },
  {
   "cell_type": "code",
   "execution_count": 5,
   "metadata": {},
   "outputs": [
    {
     "data": {
      "text/plain": [
       "157"
      ]
     },
     "execution_count": 5,
     "metadata": {},
     "output_type": "execute_result"
    }
   ],
   "source": [
    "len(property_to_index)"
   ]
  },
  {
   "cell_type": "markdown",
   "metadata": {},
   "source": [
    "Map items to property lists, each of length 157 (1 if the property exists, else 0)  \n",
    "This is itself the item embeddings, later concatenated with their prices"
   ]
  },
  {
   "cell_type": "code",
   "execution_count": 6,
   "metadata": {},
   "outputs": [],
   "source": [
    "item_to_property = {}\n",
    "\n",
    "for item in item_ids:\n",
    "    item_to_property[item] = [0 for _ in range(157)]\n",
    "\n",
    "with open('../Dataset/item_metadata.csv', 'r') as f:\n",
    "    reader = csv.reader(f)\n",
    "    next(reader)\n",
    "    \n",
    "    for line in reader:\n",
    "        for prop in line[1].split('|'):\n",
    "            item_to_property[int(line[0])][property_to_index[prop]] = 1"
   ]
  },
  {
   "cell_type": "code",
   "execution_count": 7,
   "metadata": {},
   "outputs": [
    {
     "data": {
      "text/plain": [
       "928080"
      ]
     },
     "execution_count": 7,
     "metadata": {},
     "output_type": "execute_result"
    }
   ],
   "source": [
    "len(item_to_property)"
   ]
  },
  {
   "cell_type": "markdown",
   "metadata": {},
   "source": [
    "Map other non-integer properties to integers"
   ]
  },
  {
   "cell_type": "code",
   "execution_count": 8,
   "metadata": {},
   "outputs": [],
   "source": [
    "user = set()\n",
    "action_type = set()\n",
    "platform = set()\n",
    "city = set()\n",
    "device = set()\n",
    "current_filters = set()"
   ]
  },
  {
   "cell_type": "code",
   "execution_count": 9,
   "metadata": {},
   "outputs": [
    {
     "data": {
      "application/vnd.jupyter.widget-view+json": {
       "model_id": "567739d579a247a58b6d43e66cddf6f2",
       "version_major": 2,
       "version_minor": 0
      },
      "text/plain": [
       "HBox(children=(IntProgress(value=1, bar_style='info', max=1), HTML(value='')))"
      ]
     },
     "metadata": {},
     "output_type": "display_data"
    },
    {
     "name": "stdout",
     "output_type": "stream",
     "text": [
      "\n"
     ]
    },
    {
     "data": {
      "application/vnd.jupyter.widget-view+json": {
       "model_id": "6650673954144c19a1c7ba3bb48abe98",
       "version_major": 2,
       "version_minor": 0
      },
      "text/plain": [
       "HBox(children=(IntProgress(value=1, bar_style='info', max=1), HTML(value='')))"
      ]
     },
     "metadata": {},
     "output_type": "display_data"
    },
    {
     "name": "stdout",
     "output_type": "stream",
     "text": [
      "\n"
     ]
    }
   ],
   "source": [
    "with open('../Dataset/train.csv') as f:\n",
    "    reader = csv.reader(f)\n",
    "    next(reader)\n",
    "    \n",
    "    for line in tqdm(reader):\n",
    "        user.add(line[0])\n",
    "        action_type.add(line[4])\n",
    "        platform.add(line[6])\n",
    "        city.add(line[7])\n",
    "        device.add(line[8])\n",
    "        if line[9]:\n",
    "            current_filters.add(line[9])\n",
    "            \n",
    "with open('../Dataset/test.csv') as f:\n",
    "    reader = csv.reader(f)\n",
    "    next(reader)\n",
    "    \n",
    "    for line in tqdm(reader):\n",
    "        user.add(line[0])\n",
    "        action_type.add(line[4])\n",
    "        platform.add(line[6])\n",
    "        city.add(line[7])\n",
    "        device.add(line[8])\n",
    "        if line[9]:\n",
    "            current_filters.add(line[9])"
   ]
  },
  {
   "cell_type": "code",
   "execution_count": 10,
   "metadata": {},
   "outputs": [],
   "source": [
    "user = sorted(list(user))\n",
    "action_type = sorted(list(action_type))\n",
    "platform = sorted(list(platform))\n",
    "city = sorted(list(city))\n",
    "device = sorted(list(device))\n",
    "current_filters = sorted(list(current_filters))"
   ]
  },
  {
   "cell_type": "code",
   "execution_count": 11,
   "metadata": {
    "scrolled": true
   },
   "outputs": [
    {
     "name": "stdout",
     "output_type": "stream",
     "text": [
      "948041\n",
      "10\n",
      "55\n",
      "37843\n",
      "3\n",
      "74420\n"
     ]
    }
   ],
   "source": [
    "print(len(user))\n",
    "print(len(action_type))\n",
    "print(len(platform))\n",
    "print(len(city))\n",
    "print(len(device))\n",
    "print(len(current_filters))"
   ]
  },
  {
   "cell_type": "code",
   "execution_count": 12,
   "metadata": {},
   "outputs": [],
   "source": [
    "user_to_ind = {user[i]:i for i in range(len(user))}\n",
    "action_to_ind = {action_type[i]:i for i in range(len(action_type))}\n",
    "platform_to_ind = {platform[i]:i for i in range(len(platform))}\n",
    "city_to_ind = {city[i]:i for i in range(len(city))}\n",
    "device_to_ind = {device[i]:i for i in range(len(device))}\n",
    "current_filters_to_ind = {current_filters[i]:i for i in range(len(current_filters))}"
   ]
  },
  {
   "cell_type": "markdown",
   "metadata": {},
   "source": [
    "Mapping reference value to integers, each in separate bins based on their action type"
   ]
  },
  {
   "cell_type": "code",
   "execution_count": 13,
   "metadata": {},
   "outputs": [
    {
     "data": {
      "application/vnd.jupyter.widget-view+json": {
       "model_id": "d499d4883b5546bba93109c2e88ab579",
       "version_major": 2,
       "version_minor": 0
      },
      "text/plain": [
       "HBox(children=(IntProgress(value=1, bar_style='info', max=1), HTML(value='')))"
      ]
     },
     "metadata": {},
     "output_type": "display_data"
    },
    {
     "name": "stdout",
     "output_type": "stream",
     "text": [
      "\n"
     ]
    }
   ],
   "source": [
    "reference = [set() for _ in range(10)]\n",
    "with open('../Dataset/train.csv') as f:\n",
    "    reader = csv.reader(f)\n",
    "    next(reader)\n",
    "    for line in tqdm(reader):\n",
    "        reference[action_to_ind[line[4]]].add(line[5])"
   ]
  },
  {
   "cell_type": "code",
   "execution_count": 14,
   "metadata": {},
   "outputs": [
    {
     "name": "stdout",
     "output_type": "stream",
     "text": [
      "8 / 8\n",
      "0 / 289506\n",
      "201 / 201\n",
      "0 / 83016\n",
      "0 / 198632\n",
      "5 / 118613\n",
      "0 / 87435\n",
      "22844 / 22844\n",
      "0 / 69741\n",
      "13352 / 13352\n"
     ]
    }
   ],
   "source": [
    "for i in range(10):\n",
    "    count = 0\n",
    "    for ref in reference[i]:\n",
    "        if not ref.isdigit():\n",
    "            count += 1\n",
    "    print(f'{count} / {len(reference[i])}')"
   ]
  },
  {
   "cell_type": "markdown",
   "metadata": {},
   "source": [
    "There are noises in the 'interaction item info' action reference value"
   ]
  },
  {
   "cell_type": "code",
   "execution_count": 15,
   "metadata": {},
   "outputs": [
    {
     "name": "stdout",
     "output_type": "stream",
     "text": [
      "unknown\n",
      "Shinjuku Station\n",
      "Miyako Airport\n",
      "Estació de Sants\n",
      "Lower Manhattan\n"
     ]
    }
   ],
   "source": [
    "for ref in reference[5]:\n",
    "    if not ref.isdigit():\n",
    "        print(ref)"
   ]
  },
  {
   "cell_type": "code",
   "execution_count": 16,
   "metadata": {},
   "outputs": [
    {
     "ename": "NameError",
     "evalue": "name 'item_to_ind' is not defined",
     "output_type": "error",
     "traceback": [
      "\u001b[0;31m---------------------------------------------------------------------------\u001b[0m",
      "\u001b[0;31mNameError\u001b[0m                                 Traceback (most recent call last)",
      "\u001b[0;32m<ipython-input-16-6cd1ed833bd5>\u001b[0m in \u001b[0;36m<module>\u001b[0;34m\u001b[0m\n\u001b[1;32m      8\u001b[0m                 \u001b[0mreference_to_ind\u001b[0m\u001b[0;34m[\u001b[0m\u001b[0mi\u001b[0m\u001b[0;34m]\u001b[0m\u001b[0;34m[\u001b[0m\u001b[0mreference_i\u001b[0m\u001b[0;34m[\u001b[0m\u001b[0mj\u001b[0m\u001b[0;34m]\u001b[0m\u001b[0;34m]\u001b[0m \u001b[0;34m=\u001b[0m \u001b[0;36m0\u001b[0m\u001b[0;34m\u001b[0m\u001b[0;34m\u001b[0m\u001b[0m\n\u001b[1;32m      9\u001b[0m             \u001b[0;32melse\u001b[0m\u001b[0;34m:\u001b[0m\u001b[0;34m\u001b[0m\u001b[0;34m\u001b[0m\u001b[0m\n\u001b[0;32m---> 10\u001b[0;31m                 \u001b[0mreference_to_ind\u001b[0m\u001b[0;34m[\u001b[0m\u001b[0mi\u001b[0m\u001b[0;34m]\u001b[0m\u001b[0;34m[\u001b[0m\u001b[0mreference_i\u001b[0m\u001b[0;34m[\u001b[0m\u001b[0mj\u001b[0m\u001b[0;34m]\u001b[0m\u001b[0;34m]\u001b[0m \u001b[0;34m=\u001b[0m \u001b[0mint\u001b[0m\u001b[0;34m(\u001b[0m\u001b[0mitem_to_ind\u001b[0m\u001b[0;34m[\u001b[0m\u001b[0mint\u001b[0m\u001b[0;34m(\u001b[0m\u001b[0mreference_i\u001b[0m\u001b[0;34m[\u001b[0m\u001b[0mj\u001b[0m\u001b[0;34m]\u001b[0m\u001b[0;34m)\u001b[0m\u001b[0;34m]\u001b[0m\u001b[0;34m)\u001b[0m\u001b[0;34m\u001b[0m\u001b[0;34m\u001b[0m\u001b[0m\n\u001b[0m\u001b[1;32m     11\u001b[0m     \u001b[0;32melse\u001b[0m\u001b[0;34m:\u001b[0m\u001b[0;34m\u001b[0m\u001b[0;34m\u001b[0m\u001b[0m\n\u001b[1;32m     12\u001b[0m         \u001b[0mreference_to_ind\u001b[0m\u001b[0;34m[\u001b[0m\u001b[0mi\u001b[0m\u001b[0;34m]\u001b[0m\u001b[0;34m.\u001b[0m\u001b[0mupdate\u001b[0m\u001b[0;34m(\u001b[0m\u001b[0;34m{\u001b[0m\u001b[0mreference_i\u001b[0m\u001b[0;34m[\u001b[0m\u001b[0mj\u001b[0m\u001b[0;34m]\u001b[0m\u001b[0;34m:\u001b[0m\u001b[0mj\u001b[0m \u001b[0;32mfor\u001b[0m \u001b[0mj\u001b[0m \u001b[0;32min\u001b[0m \u001b[0mrange\u001b[0m\u001b[0;34m(\u001b[0m\u001b[0mlen\u001b[0m\u001b[0;34m(\u001b[0m\u001b[0mreference_i\u001b[0m\u001b[0;34m)\u001b[0m\u001b[0;34m)\u001b[0m\u001b[0;34m}\u001b[0m\u001b[0;34m)\u001b[0m\u001b[0;34m\u001b[0m\u001b[0;34m\u001b[0m\u001b[0m\n",
      "\u001b[0;31mNameError\u001b[0m: name 'item_to_ind' is not defined"
     ]
    }
   ],
   "source": [
    "reference_to_ind = [{} for _ in range(10)]\n",
    "for i in range(10):\n",
    "    reference_i = list(reference[i])\n",
    "    \n",
    "    if i in [1, 3, 4, 5, 6, 8]:\n",
    "        for j in range(len(reference_i)):\n",
    "            if reference_i[j] in ['Estació de Sants', 'Shinjuku Station', 'Lower Manhattan', 'Miyako Airport', 'unknown']:\n",
    "                reference_to_ind[i][reference_i[j]] = 0\n",
    "            else:\n",
    "                reference_to_ind[i][reference_i[j]] = int(item_to_ind[int(reference_i[j])])\n",
    "    else:\n",
    "        reference_to_ind[i].update({reference_i[j]:j for j in range(len(reference_i))})"
   ]
  },
  {
   "cell_type": "markdown",
   "metadata": {},
   "source": [
    "Preprocessing train.csv with the mapped values"
   ]
  },
  {
   "cell_type": "code",
   "execution_count": null,
   "metadata": {},
   "outputs": [],
   "source": [
    "with open('../Dataset/train.csv', 'r') as f:\n",
    "    reader = csv.reader(f)\n",
    "    with open('../Dataset/processed_train.csv', 'w', newline='') as w:\n",
    "        wr = csv.writer(w)\n",
    "        wr.writerow(next(reader))\n",
    "\n",
    "        timestep = 1541037460\n",
    "        sess_index = -1\n",
    "        for row in tqdm(reader):\n",
    "            if row[3]=='1':\n",
    "                timestep = int(row[2])\n",
    "                sess_index += 1\n",
    "            wr.writerow([user_to_ind[row[0]], sess_index, int(row[2])-timestep, int(row[3]), action_to_ind[row[4]], reference_to_ind[action_to_ind[row[4]]][row[5]],\n",
    "                                  platform_to_ind[row[6]], city_to_ind[row[7]], device_to_ind[row[8]], current_filters_to_ind.get(row[9], 0), row[10], row[11]])"
   ]
  },
  {
   "cell_type": "markdown",
   "metadata": {},
   "source": [
    "Mapping filters to integers"
   ]
  },
  {
   "cell_type": "code",
   "execution_count": null,
   "metadata": {},
   "outputs": [],
   "source": [
    "filter_types = set()\n",
    "for filters in current_filters:\n",
    "    for filter in filters.split('|'):\n",
    "        filter_types.add(filter)"
   ]
  },
  {
   "cell_type": "code",
   "execution_count": null,
   "metadata": {},
   "outputs": [],
   "source": [
    "len(filter_types)"
   ]
  },
  {
   "cell_type": "code",
   "execution_count": null,
   "metadata": {},
   "outputs": [],
   "source": [
    "filter_to_index = {}\n",
    "index = 0\n",
    "for filter in filter_types:\n",
    "    filter_to_index[filter] = index\n",
    "    index += 1"
   ]
  },
  {
   "cell_type": "markdown",
   "metadata": {},
   "source": [
    "Extracting the training dataset"
   ]
  },
  {
   "cell_type": "code",
   "execution_count": null,
   "metadata": {},
   "outputs": [],
   "source": [
    "def embed_session(session):\n",
    "    total_time = int(session[-1][2]) - int(session[0][2])\n",
    "    filter = np.arange(1, len(session)) / (len(session)*(len(session)-1)*0.5)\n",
    "    vec = np.zeros(362)\n",
    "    \n",
    "    for i in range(len(session)-1):\n",
    "        stall = int(session[i+1][2]) - int(session[i][2])\n",
    "        multiplier = stall * filter[i] / total_time\n",
    "        if session[i][5].isdigit():\n",
    "            vec[0:157] += multiplier * item_to_property[int(session[i][5])]\n",
    "        if session[i][9]:\n",
    "            for f in session[i][9].split('|'):\n",
    "                vec[157+int(filter_to_index[f])] += multiplier\n",
    "    \n",
    "    vec[359] = platform_to_ind[session[0][6]]\n",
    "    vec[360] = city_to_ind[session[0][7]]\n",
    "    vec[361] = device_to_ind[session[0][8]]\n",
    "    \n",
    "    return vec"
   ]
  },
  {
   "cell_type": "code",
   "execution_count": null,
   "metadata": {},
   "outputs": [],
   "source": [
    "x = []\n",
    "y = []\n",
    "choices = []\n",
    "prices = []"
   ]
  },
  {
   "cell_type": "code",
   "execution_count": null,
   "metadata": {},
   "outputs": [],
   "source": [
    "with open('../Dataset/train.csv', 'r') as f:\n",
    "    reader = csv.reader(f)\n",
    "    next(reader)\n",
    "    \n",
    "    sess = []\n",
    "    \n",
    "    for line in tqdm(reader):\n",
    "        if line[3]=='1' and len(sess) > 0:\n",
    "            if sess[-1][4] == 'clickout item':\n",
    "                if len(sess) <= 1:\n",
    "                    sess = []\n",
    "                    continue\n",
    "                x.append(embed_session(np.array(sess)))\n",
    "                choices.append(sess[-1][10].split('|'))\n",
    "                prices.append(sess[-1][11].split('|'))\n",
    "                y.append(int(sess[-1][5]))\n",
    "            sess = []\n",
    "        elif line[4] in ['clickout item', 'interaction item rating', 'interaction item info', 'interaction item image', 'interaction item deals', 'search for item']:\n",
    "            sess.append(line)"
   ]
  },
  {
   "cell_type": "markdown",
   "metadata": {},
   "source": [
    "item[i] corresponds to the choices given to the user at clickout time.  \n",
    "each choices are encoded with their properties, and its price concatenated at the end."
   ]
  },
  {
   "cell_type": "code",
   "execution_count": null,
   "metadata": {},
   "outputs": [],
   "source": [
    "item = np.asarray([np.asarray([item_to_property[int(choices[j][i])] + [int(prices[j][i])] for i in range(len(choices[j]))]) for j in range(len(choices))])"
   ]
  },
  {
   "cell_type": "markdown",
   "metadata": {},
   "source": [
    "Model definition and testing"
   ]
  },
  {
   "cell_type": "code",
   "execution_count": null,
   "metadata": {},
   "outputs": [],
   "source": [
    "import torch\n",
    "import torch.nn as nn\n",
    "import torch.optim as optim\n",
    "\n",
    "from itertools import islice"
   ]
  },
  {
   "cell_type": "code",
   "execution_count": null,
   "metadata": {},
   "outputs": [],
   "source": [
    "class FM(nn.Module):\n",
    "\n",
    "    def __init__(self, d, session_dim, item_dim):\n",
    "        super().__init__()\n",
    "\n",
    "        self.Q = torch.nn.Parameter(torch.rand(session_dim, d))\n",
    "        self.P = torch.nn.Parameter(torch.rand(item_dim, d))\n",
    "        self.bq = torch.nn.Parameter(torch.rand(session_dim))\n",
    "        self.bp = torch.nn.Parameter(torch.rand(item_dim))\n",
    "        \n",
    "        self.Q.data = torch.rand(session_dim, d)\n",
    "        self.P.data = torch.rand(item_dim, d)\n",
    "        self.bq.data = torch.rand(session_dim)\n",
    "        self.bp.data = torch.rand(item_dim)\n",
    "        \n",
    "\n",
    "    def forward(self, session, item):\n",
    "        \"\"\"\n",
    "        session: (batch_size, 1, session_dim)\n",
    "        item: (batch_size, 25, item_dim)\n",
    "        \n",
    "        returns (batch_size, 25)\n",
    "        \"\"\"\n",
    "#        bmm (batch_size, 1, d) * (batch_size, d, 25) => (batch_size, 1, 25)\n",
    "#        matmul (batch_size, 1, session_dim) * (session_dim) => (batch_size, 1, 1)\n",
    "#        matmul (batch_size, 25, item_dim) * (item_dim) => (batch_size, 25, 1)\n",
    "        return torch.bmm(torch.matmul(session, self.Q), torch.matmul(item, self.P).transpose(1, 2)) + torch.matmul(session, self.bq).unsqueeze(dim=2) + torch.matmul(item, self.bp).unsqueeze(dim=1)\n"
   ]
  },
  {
   "cell_type": "code",
   "execution_count": null,
   "metadata": {
    "scrolled": true
   },
   "outputs": [],
   "source": [
    "model = FM(d=100, session_dim=362, item_dim=158).to('cuda')"
   ]
  },
  {
   "cell_type": "code",
   "execution_count": null,
   "metadata": {},
   "outputs": [],
   "source": [
    "optimizer = optim.Adagrad(model.parameters())"
   ]
  },
  {
   "cell_type": "code",
   "execution_count": null,
   "metadata": {},
   "outputs": [],
   "source": [
    "#session0, item0 = x[0].to('cuda'), item[0].to('cuda')\n",
    "x[0].shape, item[0].shape\n",
    "session0 = torch.Tensor(x[0]).unsqueeze(0).unsqueeze(1).to('cuda')\n",
    "item0 = torch.Tensor(item[0]).unsqueeze(0).to('cuda')"
   ]
  },
  {
   "cell_type": "code",
   "execution_count": null,
   "metadata": {},
   "outputs": [],
   "source": [
    "session01 = torch.Tensor([x[0], x[1]]).unsqueeze(1).to('cuda')\n",
    "item01 = torch.Tensor([item[0], item[1]]).to('cuda')"
   ]
  },
  {
   "cell_type": "code",
   "execution_count": null,
   "metadata": {},
   "outputs": [],
   "source": [
    "model(session01, item01).shape"
   ]
  }
 ],
 "metadata": {
  "kernelspec": {
   "display_name": "Python 3",
   "language": "python",
   "name": "python3"
  },
  "language_info": {
   "codemirror_mode": {
    "name": "ipython",
    "version": 3
   },
   "file_extension": ".py",
   "mimetype": "text/x-python",
   "name": "python",
   "nbconvert_exporter": "python",
   "pygments_lexer": "ipython3",
   "version": "3.6.8"
  }
 },
 "nbformat": 4,
 "nbformat_minor": 2
}
